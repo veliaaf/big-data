{
  "nbformat": 4,
  "nbformat_minor": 0,
  "metadata": {
    "colab": {
      "name": "Untitled2.ipynb",
      "provenance": [],
      "collapsed_sections": [],
      "authorship_tag": "ABX9TyO3i03xWOuyCh1CidNZzopo",
      "include_colab_link": true
    },
    "kernelspec": {
      "name": "python3",
      "display_name": "Python 3"
    },
    "language_info": {
      "name": "python"
    }
  },
  "cells": [
    {
      "cell_type": "markdown",
      "metadata": {
        "id": "view-in-github",
        "colab_type": "text"
      },
      "source": [
        "<a href=\"https://colab.research.google.com/github/veliaaf/big-data/blob/main/latihan02_numpy.ipynb\" target=\"_parent\"><img src=\"https://colab.research.google.com/assets/colab-badge.svg\" alt=\"Open In Colab\"/></a>"
      ]
    },
    {
      "cell_type": "markdown",
      "metadata": {
        "id": "1VXY1onBlaei"
      },
      "source": [
        "**Numpy**\n",
        "---\n",
        "Import Numpy dan mengecek versi dari package numpy tersebut dengan cara :\n"
      ]
    },
    {
      "cell_type": "code",
      "metadata": {
        "colab": {
          "base_uri": "https://localhost:8080/",
          "height": 35
        },
        "id": "jjbvJv9bla-j",
        "outputId": "77a78e36-d471-4da5-9b2a-e11d2a94371e"
      },
      "source": [
        "import numpy\n",
        "numpy.__version__"
      ],
      "execution_count": 3,
      "outputs": [
        {
          "output_type": "execute_result",
          "data": {
            "application/vnd.google.colaboratory.intrinsic+json": {
              "type": "string"
            },
            "text/plain": [
              "'1.19.5'"
            ]
          },
          "metadata": {
            "tags": []
          },
          "execution_count": 3
        }
      ]
    },
    {
      "cell_type": "code",
      "metadata": {
        "id": "jV1FFN9inBHp"
      },
      "source": [
        "import numpy as np"
      ],
      "execution_count": 4,
      "outputs": []
    },
    {
      "cell_type": "markdown",
      "metadata": {
        "id": "32e6iry1nIZG"
      },
      "source": [
        "**Understanding Data Types in Python** \n",
        "\n",
        "---\n",
        "Kode dalam python dilakukan seperti dibawah ini\n"
      ]
    },
    {
      "cell_type": "code",
      "metadata": {
        "id": "YJrIs0YnnMQ9"
      },
      "source": [
        "result = 0\n",
        "for i in range(100):\n",
        "    result +=i"
      ],
      "execution_count": 11,
      "outputs": []
    },
    {
      "cell_type": "code",
      "metadata": {
        "id": "SGPA1yKIoliq"
      },
      "source": [
        "x=4\n",
        "x=\"four\""
      ],
      "execution_count": 8,
      "outputs": []
    },
    {
      "cell_type": "markdown",
      "metadata": {
        "id": "n_iqM2T-omoV"
      },
      "source": [
        "**List pada Python**\n",
        "---\n",
        "yang pertama itu list pada integer"
      ]
    },
    {
      "cell_type": "code",
      "metadata": {
        "colab": {
          "base_uri": "https://localhost:8080/"
        },
        "id": "K9Tki9mWo0XY",
        "outputId": "2e255b64-e161-43eb-f3a7-0b3bf7a9253b"
      },
      "source": [
        "L = list(range(10))\n",
        "L"
      ],
      "execution_count": 14,
      "outputs": [
        {
          "output_type": "execute_result",
          "data": {
            "text/plain": [
              "[0, 1, 2, 3, 4, 5, 6, 7, 8, 9]"
            ]
          },
          "metadata": {
            "tags": []
          },
          "execution_count": 14
        }
      ]
    },
    {
      "cell_type": "code",
      "metadata": {
        "colab": {
          "base_uri": "https://localhost:8080/"
        },
        "id": "MTtrF3_7pMnB",
        "outputId": "40b3a892-9ea3-498e-f517-117ee3cdd4f7"
      },
      "source": [
        "type(L[0])"
      ],
      "execution_count": 16,
      "outputs": [
        {
          "output_type": "execute_result",
          "data": {
            "text/plain": [
              "int"
            ]
          },
          "metadata": {
            "tags": []
          },
          "execution_count": 16
        }
      ]
    },
    {
      "cell_type": "markdown",
      "metadata": {
        "id": "g_rUesp4qFku"
      },
      "source": [
        "yang kedua list dari string"
      ]
    },
    {
      "cell_type": "code",
      "metadata": {
        "colab": {
          "base_uri": "https://localhost:8080/"
        },
        "id": "GPMHd-rSqIyi",
        "outputId": "e678c6d7-bd2f-4e13-82d4-59b3d1e37550"
      },
      "source": [
        "L2 = [str(c) for c in L]\n",
        "L2"
      ],
      "execution_count": 15,
      "outputs": [
        {
          "output_type": "execute_result",
          "data": {
            "text/plain": [
              "['0', '1', '2', '3', '4', '5', '6', '7', '8', '9']"
            ]
          },
          "metadata": {
            "tags": []
          },
          "execution_count": 15
        }
      ]
    },
    {
      "cell_type": "code",
      "metadata": {
        "colab": {
          "base_uri": "https://localhost:8080/"
        },
        "id": "C0J7cXk0qToy",
        "outputId": "d93642cb-e162-4916-b510-85ed86f89943"
      },
      "source": [
        "type(L2[0])"
      ],
      "execution_count": 17,
      "outputs": [
        {
          "output_type": "execute_result",
          "data": {
            "text/plain": [
              "str"
            ]
          },
          "metadata": {
            "tags": []
          },
          "execution_count": 17
        }
      ]
    },
    {
      "cell_type": "markdown",
      "metadata": {
        "id": "k96gOgyMqZrg"
      },
      "source": [
        "yang ketiga, dapat menampilkan jenis list tersebut."
      ]
    },
    {
      "cell_type": "code",
      "metadata": {
        "colab": {
          "base_uri": "https://localhost:8080/"
        },
        "id": "NYbPZcm6qgHq",
        "outputId": "c23fbd81-943a-4775-f469-77074413225e"
      },
      "source": [
        "L3 = [True, \"2\", 3.0, 4]\n",
        "[type(item) for item in L3]"
      ],
      "execution_count": 19,
      "outputs": [
        {
          "output_type": "execute_result",
          "data": {
            "text/plain": [
              "[bool, str, float, int]"
            ]
          },
          "metadata": {
            "tags": []
          },
          "execution_count": 19
        }
      ]
    },
    {
      "cell_type": "markdown",
      "metadata": {
        "id": "ALRIU1T0qqZr"
      },
      "source": [
        "**Fixed Type Array in Python**\n",
        "\n",
        "---\n",
        "Tipe data array bawaan yaitu seperti di bawah ini:\n"
      ]
    },
    {
      "cell_type": "code",
      "metadata": {
        "colab": {
          "base_uri": "https://localhost:8080/"
        },
        "id": "X-yeTapRqt8U",
        "outputId": "4d2b79ab-35c1-4ff4-8cdb-863587bcac26"
      },
      "source": [
        "import array\n",
        "L = list(range(10))\n",
        "A = array.array('i', L)\n",
        "A"
      ],
      "execution_count": 20,
      "outputs": [
        {
          "output_type": "execute_result",
          "data": {
            "text/plain": [
              "array('i', [0, 1, 2, 3, 4, 5, 6, 7, 8, 9])"
            ]
          },
          "metadata": {
            "tags": []
          },
          "execution_count": 20
        }
      ]
    },
    {
      "cell_type": "markdown",
      "metadata": {
        "id": "8tvm4hkyriTb"
      },
      "source": [
        "Creating Array from Python Lists"
      ]
    },
    {
      "cell_type": "code",
      "metadata": {
        "colab": {
          "base_uri": "https://localhost:8080/"
        },
        "id": "UgObYkyCrlxT",
        "outputId": "475e55ca-9dce-4c44-e982-bce69169e616"
      },
      "source": [
        "import numpy as np\n",
        "np.array([1, 4, 2, 5, 3])\n"
      ],
      "execution_count": 25,
      "outputs": [
        {
          "output_type": "execute_result",
          "data": {
            "text/plain": [
              "array([1, 4, 2, 5, 3])"
            ]
          },
          "metadata": {
            "tags": []
          },
          "execution_count": 25
        }
      ]
    },
    {
      "cell_type": "markdown",
      "metadata": {
        "id": "JJS6PLp9sUyg"
      },
      "source": [
        "Jika terdapat tipe data yang berbeda dalam satu list, maka akan disamakan semuanya seperti contoh di bawah ini disamakan ke tipe data float"
      ]
    },
    {
      "cell_type": "code",
      "metadata": {
        "colab": {
          "base_uri": "https://localhost:8080/"
        },
        "id": "yAtOWUCVr3HL",
        "outputId": "885ab0fd-9f7b-499c-a543-e4cd445f01ce"
      },
      "source": [
        "np.array([3.14, 4, 2, 3])"
      ],
      "execution_count": 23,
      "outputs": [
        {
          "output_type": "execute_result",
          "data": {
            "text/plain": [
              "array([3.14, 4.  , 2.  , 3.  ])"
            ]
          },
          "metadata": {
            "tags": []
          },
          "execution_count": 23
        }
      ]
    },
    {
      "cell_type": "markdown",
      "metadata": {
        "id": "uSNq7yp3siDj"
      },
      "source": [
        "Jika kita ingin secara eksplisit mengatur tipe data dari larik yang dihasilkan, kita dapat menggunakan dtype dengan kata kunci:"
      ]
    },
    {
      "cell_type": "code",
      "metadata": {
        "colab": {
          "base_uri": "https://localhost:8080/"
        },
        "id": "n2gSuonssAGH",
        "outputId": "fb9878da-0aef-452d-a18f-3650788517d4"
      },
      "source": [
        "np.array([1, 2, 3, 4], dtype='float32')"
      ],
      "execution_count": 24,
      "outputs": [
        {
          "output_type": "execute_result",
          "data": {
            "text/plain": [
              "array([1., 2., 3., 4.], dtype=float32)"
            ]
          },
          "metadata": {
            "tags": []
          },
          "execution_count": 24
        }
      ]
    },
    {
      "cell_type": "markdown",
      "metadata": {
        "id": "DNbiI_gbs1Ob"
      },
      "source": [
        "Tidak seperti daftar Python, array NumPy dapat secara eksplisit multidimensi; ini dia salah satu cara untuk menginisialisasi array multidimensi menggunakan list:"
      ]
    },
    {
      "cell_type": "code",
      "metadata": {
        "colab": {
          "base_uri": "https://localhost:8080/"
        },
        "id": "JwX_-BSBtbPt",
        "outputId": "75792bc2-20fd-4c33-f47a-dcf9011ac0e2"
      },
      "source": [
        "#nested lists result in multidimensional arrays\n",
        "np.array([range(i, i + 3) for i in [2, 4, 6]])"
      ],
      "execution_count": 26,
      "outputs": [
        {
          "output_type": "execute_result",
          "data": {
            "text/plain": [
              "array([[2, 3, 4],\n",
              "       [4, 5, 6],\n",
              "       [6, 7, 8]])"
            ]
          },
          "metadata": {
            "tags": []
          },
          "execution_count": 26
        }
      ]
    },
    {
      "cell_type": "markdown",
      "metadata": {
        "id": "wsdek7A7tiRS"
      },
      "source": [
        "**Creating Array from Scratch**\n",
        "\n",
        "---\n",
        "Khusus untuk larik yang lebih besar, akan lebih efisien untuk membuat larik dari awal menggunakan rutinitas dibangun ke dalam NumPy. Berikut beberapa contohnya:\n"
      ]
    },
    {
      "cell_type": "code",
      "metadata": {
        "colab": {
          "base_uri": "https://localhost:8080/"
        },
        "id": "tCz9wZL3toUx",
        "outputId": "dc0d9f46-b4b2-4c7a-d730-92ee27c4a113"
      },
      "source": [
        "# Create a length-10 integer array filled with zeros\n",
        "np.zeros(10, dtype=int)"
      ],
      "execution_count": 27,
      "outputs": [
        {
          "output_type": "execute_result",
          "data": {
            "text/plain": [
              "array([0, 0, 0, 0, 0, 0, 0, 0, 0, 0])"
            ]
          },
          "metadata": {
            "tags": []
          },
          "execution_count": 27
        }
      ]
    },
    {
      "cell_type": "code",
      "metadata": {
        "colab": {
          "base_uri": "https://localhost:8080/"
        },
        "id": "e6ELxTtTt0aT",
        "outputId": "93d2d82f-8724-47d2-cd82-a63e88609815"
      },
      "source": [
        "#Create a 3x5 floating-point array filled with 1s\n",
        "np.ones((3, 5), dtype=float)"
      ],
      "execution_count": 29,
      "outputs": [
        {
          "output_type": "execute_result",
          "data": {
            "text/plain": [
              "array([[1., 1., 1., 1., 1.],\n",
              "       [1., 1., 1., 1., 1.],\n",
              "       [1., 1., 1., 1., 1.]])"
            ]
          },
          "metadata": {
            "tags": []
          },
          "execution_count": 29
        }
      ]
    },
    {
      "cell_type": "code",
      "metadata": {
        "colab": {
          "base_uri": "https://localhost:8080/"
        },
        "id": "jv_jbNK-t4kD",
        "outputId": "7da793cf-ba28-4e70-c4ac-1cdd415c6a52"
      },
      "source": [
        "# Create a 3x5 array filled with 3.14\n",
        "np.full((3, 5), 3.14)"
      ],
      "execution_count": 30,
      "outputs": [
        {
          "output_type": "execute_result",
          "data": {
            "text/plain": [
              "array([[3.14, 3.14, 3.14, 3.14, 3.14],\n",
              "       [3.14, 3.14, 3.14, 3.14, 3.14],\n",
              "       [3.14, 3.14, 3.14, 3.14, 3.14]])"
            ]
          },
          "metadata": {
            "tags": []
          },
          "execution_count": 30
        }
      ]
    },
    {
      "cell_type": "code",
      "metadata": {
        "colab": {
          "base_uri": "https://localhost:8080/"
        },
        "id": "mPPGe_Pst69Q",
        "outputId": "8481a335-ab26-436d-e708-41a5396b5921"
      },
      "source": [
        "# Create an array filled with a linear sequence\n",
        "# Starting at 0, ending at 20, stepping by 2\n",
        "# (this is similar to the built-in range() function)\n",
        "np.arange(0, 20, 2)"
      ],
      "execution_count": 31,
      "outputs": [
        {
          "output_type": "execute_result",
          "data": {
            "text/plain": [
              "array([ 0,  2,  4,  6,  8, 10, 12, 14, 16, 18])"
            ]
          },
          "metadata": {
            "tags": []
          },
          "execution_count": 31
        }
      ]
    },
    {
      "cell_type": "code",
      "metadata": {
        "colab": {
          "base_uri": "https://localhost:8080/"
        },
        "id": "QrQAllzit-zV",
        "outputId": "f76a018c-46f0-4f69-db7b-238ebd380b7f"
      },
      "source": [
        "# Create an array of five values evenly spaced between 0 and 1\n",
        "np.linspace(0, 1, 5)"
      ],
      "execution_count": 32,
      "outputs": [
        {
          "output_type": "execute_result",
          "data": {
            "text/plain": [
              "array([0.  , 0.25, 0.5 , 0.75, 1.  ])"
            ]
          },
          "metadata": {
            "tags": []
          },
          "execution_count": 32
        }
      ]
    },
    {
      "cell_type": "code",
      "metadata": {
        "colab": {
          "base_uri": "https://localhost:8080/"
        },
        "id": "mBdmSaeKuDH1",
        "outputId": "d4dce5dd-bef5-4e50-e2e8-a8aedada9e79"
      },
      "source": [
        "# Create a 3x3 array of uniformly distributed\n",
        "# random values between 0 and 1\n",
        "np.random.random((3, 3))"
      ],
      "execution_count": 33,
      "outputs": [
        {
          "output_type": "execute_result",
          "data": {
            "text/plain": [
              "array([[0.90849028, 0.35079912, 0.60876941],\n",
              "       [0.01109576, 0.58999613, 0.42482657],\n",
              "       [0.82106683, 0.37845371, 0.11786836]])"
            ]
          },
          "metadata": {
            "tags": []
          },
          "execution_count": 33
        }
      ]
    },
    {
      "cell_type": "code",
      "metadata": {
        "colab": {
          "base_uri": "https://localhost:8080/"
        },
        "id": "9Hc4jzvEuXpP",
        "outputId": "cba6eeee-0f4f-411d-c1ce-bfd25a6d7ec5"
      },
      "source": [
        "#Create a 3x3 array of normally distributed random values\n",
        "# with mean 0 and standard deviation 1\n",
        "np.random.normal(0, 1, (3, 3))"
      ],
      "execution_count": 35,
      "outputs": [
        {
          "output_type": "execute_result",
          "data": {
            "text/plain": [
              "array([[ 0.19875192,  1.74950937,  0.93461177],\n",
              "       [-1.70629863,  0.1911192 ,  0.33910293],\n",
              "       [ 0.30694457, -0.04683741,  1.27579969]])"
            ]
          },
          "metadata": {
            "tags": []
          },
          "execution_count": 35
        }
      ]
    },
    {
      "cell_type": "code",
      "metadata": {
        "colab": {
          "base_uri": "https://localhost:8080/"
        },
        "id": "0-Uhuk3tudEG",
        "outputId": "7f1b9704-866c-4306-a353-b16f96593efc"
      },
      "source": [
        "# Create a 3x3 array of random integers in the interval [0, 10)\n",
        "np.random.randint(0, 10, (3, 3))"
      ],
      "execution_count": 36,
      "outputs": [
        {
          "output_type": "execute_result",
          "data": {
            "text/plain": [
              "array([[3, 9, 4],\n",
              "       [0, 2, 0],\n",
              "       [3, 0, 7]])"
            ]
          },
          "metadata": {
            "tags": []
          },
          "execution_count": 36
        }
      ]
    },
    {
      "cell_type": "code",
      "metadata": {
        "colab": {
          "base_uri": "https://localhost:8080/"
        },
        "id": "MrZ0_YV2ughy",
        "outputId": "f0ce8d02-31ef-4dad-98e6-10adf647882d"
      },
      "source": [
        "# Create a 3x3 identity matrix\n",
        "np.eye(3)"
      ],
      "execution_count": 37,
      "outputs": [
        {
          "output_type": "execute_result",
          "data": {
            "text/plain": [
              "array([[1., 0., 0.],\n",
              "       [0., 1., 0.],\n",
              "       [0., 0., 1.]])"
            ]
          },
          "metadata": {
            "tags": []
          },
          "execution_count": 37
        }
      ]
    },
    {
      "cell_type": "code",
      "metadata": {
        "colab": {
          "base_uri": "https://localhost:8080/"
        },
        "id": "v-gjMF2PujTI",
        "outputId": "dec65114-f909-45aa-ebf1-0049b9df2093"
      },
      "source": [
        "# Create an uninitialized array of three integers\n",
        "# The values will be whatever happens to already exist at that\n",
        "# memory location\n",
        "np.empty(3)"
      ],
      "execution_count": 38,
      "outputs": [
        {
          "output_type": "execute_result",
          "data": {
            "text/plain": [
              "array([1., 1., 1.])"
            ]
          },
          "metadata": {
            "tags": []
          },
          "execution_count": 38
        }
      ]
    },
    {
      "cell_type": "markdown",
      "metadata": {
        "id": "HslD7G3WyK5o"
      },
      "source": [
        "**Numpy Array Attributes**\n",
        "\n",
        "---\n",
        "\n",
        "Pertama mari kita bahas beberapa atribut array yang berguna. Kami akan mulai dengan mendefinisikan tiga secara acak array: array satu dimensi, dua dimensi, dan tiga dimensi. Kami akan menggunakan Generator nomor acak NumPy, yang akan kita seed dengan nilai yang ditetapkan untuk pastikan bahwa array acak yang sama dibuat setiap kali kode ini dijalankan:"
      ]
    },
    {
      "cell_type": "code",
      "metadata": {
        "colab": {
          "base_uri": "https://localhost:8080/"
        },
        "id": "AJnB1Tr0umqq",
        "outputId": "9e9d43cb-69d5-499b-de76-975393ed0c87"
      },
      "source": [
        "import numpy as np\n",
        "np.random.seed(0) # seed for reproducibility\n",
        "x1 = np.random.randint(10, size=6) # One-dimensional array\n",
        "x2 = np.random.randint(10, size=(3, 4)) # Two-dimensional array\n",
        "x3 = np.random.randint(10, size=(3, 4, 5)) # Three-dimensional array\n",
        "print(\"X1 : \", x1)\n",
        "print(\"X2 : \", x2)\n",
        "print(\"x3 :\", x3)"
      ],
      "execution_count": 44,
      "outputs": [
        {
          "output_type": "stream",
          "text": [
            "X1 :  [5 0 3 3 7 9]\n",
            "X2 :  [[3 5 2 4]\n",
            " [7 6 8 8]\n",
            " [1 6 7 7]]\n",
            "x3 : [[[8 1 5 9 8]\n",
            "  [9 4 3 0 3]\n",
            "  [5 0 2 3 8]\n",
            "  [1 3 3 3 7]]\n",
            "\n",
            " [[0 1 9 9 0]\n",
            "  [4 7 3 2 7]\n",
            "  [2 0 0 4 5]\n",
            "  [5 6 8 4 1]]\n",
            "\n",
            " [[4 9 8 1 1]\n",
            "  [7 9 9 3 6]\n",
            "  [7 2 0 3 5]\n",
            "  [9 4 4 6 4]]]\n"
          ],
          "name": "stdout"
        }
      ]
    },
    {
      "cell_type": "markdown",
      "metadata": {
        "id": "NkzejII9zSOn"
      },
      "source": [
        "Setiap larik memiliki atribut ndim (jumlah dimensi), shape (bentuk masing-masing dimensi), dan size (ukuran total larik). Atribut lain termasuk ukuran item, yang mencantumkan ukuran (dalam byte) dari setiap elemen array,\n",
        "dan nbytes, yang mencantumkan ukuran total (dalam byte) dari array:"
      ]
    },
    {
      "cell_type": "code",
      "metadata": {
        "colab": {
          "base_uri": "https://localhost:8080/"
        },
        "id": "Dce_bN1lzDcv",
        "outputId": "48576041-d849-40e1-b58c-a4eed102b37f"
      },
      "source": [
        "print(\"x3 ndim: \", x3.ndim)\n",
        "print(\"x3 shape:\", x3.shape)\n",
        "print(\"x3 size: \", x3.size)\n",
        "print(\"dtype:\", x3.dtype)\n",
        "print(\"itemsize:\", x3.itemsize, \"bytes\")\n",
        "print(\"nbytes:\", x3.nbytes, \"bytes\")"
      ],
      "execution_count": 47,
      "outputs": [
        {
          "output_type": "stream",
          "text": [
            "x3 ndim:  3\n",
            "x3 shape: (3, 4, 5)\n",
            "x3 size:  60\n",
            "dtype: int64\n",
            "itemsize: 8 bytes\n",
            "nbytes: 480 bytes\n"
          ],
          "name": "stdout"
        }
      ]
    },
    {
      "cell_type": "markdown",
      "metadata": {
        "id": "vUKDJOtLzpM4"
      },
      "source": [
        "**Array Indexing: Accessing Single Elements**\n",
        "\n",
        "---\n",
        "Jika Anda terbiasa dengan pengindeksan list standar Python, pengindeksan di NumPy akan terasa cukup familiar. Dalam larik satu dimensi, Anda dapat mengakses nilai ke-i (dihitung dari nol) dengan menentukan indeks yang diinginkan dalam tanda kurung siku, seperti dengan list Python:"
      ]
    },
    {
      "cell_type": "code",
      "metadata": {
        "colab": {
          "base_uri": "https://localhost:8080/"
        },
        "id": "c4au6P3wzt6v",
        "outputId": "f5b529a3-cea2-445a-962c-0ff834cab562"
      },
      "source": [
        "x1"
      ],
      "execution_count": 48,
      "outputs": [
        {
          "output_type": "execute_result",
          "data": {
            "text/plain": [
              "array([5, 0, 3, 3, 7, 9])"
            ]
          },
          "metadata": {
            "tags": []
          },
          "execution_count": 48
        }
      ]
    },
    {
      "cell_type": "code",
      "metadata": {
        "colab": {
          "base_uri": "https://localhost:8080/"
        },
        "id": "ta5LG-45z-fN",
        "outputId": "9621cf3c-9f5b-4fba-d6f4-8dde896cea02"
      },
      "source": [
        "x1[0]"
      ],
      "execution_count": 49,
      "outputs": [
        {
          "output_type": "execute_result",
          "data": {
            "text/plain": [
              "5"
            ]
          },
          "metadata": {
            "tags": []
          },
          "execution_count": 49
        }
      ]
    },
    {
      "cell_type": "code",
      "metadata": {
        "colab": {
          "base_uri": "https://localhost:8080/"
        },
        "id": "qczp0R9w0BD2",
        "outputId": "3c63265e-b89e-4813-8f15-c0aa998b4191"
      },
      "source": [
        "x1[4]"
      ],
      "execution_count": 50,
      "outputs": [
        {
          "output_type": "execute_result",
          "data": {
            "text/plain": [
              "7"
            ]
          },
          "metadata": {
            "tags": []
          },
          "execution_count": 50
        }
      ]
    },
    {
      "cell_type": "markdown",
      "metadata": {
        "id": "zV6uhOsU0IZo"
      },
      "source": [
        "Untuk mengindeks dari akhir larik, Anda dapat menggunakan indeks negatif:"
      ]
    },
    {
      "cell_type": "code",
      "metadata": {
        "colab": {
          "base_uri": "https://localhost:8080/"
        },
        "id": "H2_AGirs0JJl",
        "outputId": "64d75f32-57c3-41a6-9b78-c091f39c2d3d"
      },
      "source": [
        "x1[-1]"
      ],
      "execution_count": 53,
      "outputs": [
        {
          "output_type": "execute_result",
          "data": {
            "text/plain": [
              "9"
            ]
          },
          "metadata": {
            "tags": []
          },
          "execution_count": 53
        }
      ]
    },
    {
      "cell_type": "markdown",
      "metadata": {
        "id": "Cch5MAxP0VVd"
      },
      "source": [
        "Dalam larik multidimensi, Anda mengakses item menggunakan tupel yang dipisahkan koma dari\n",
        "indeks:"
      ]
    },
    {
      "cell_type": "code",
      "metadata": {
        "colab": {
          "base_uri": "https://localhost:8080/"
        },
        "id": "bYDdh4ks0WWl",
        "outputId": "66aced2e-9b81-4b70-a10a-156767d20e26"
      },
      "source": [
        "x2"
      ],
      "execution_count": 54,
      "outputs": [
        {
          "output_type": "execute_result",
          "data": {
            "text/plain": [
              "array([[3, 5, 2, 4],\n",
              "       [7, 6, 8, 8],\n",
              "       [1, 6, 7, 7]])"
            ]
          },
          "metadata": {
            "tags": []
          },
          "execution_count": 54
        }
      ]
    },
    {
      "cell_type": "code",
      "metadata": {
        "colab": {
          "base_uri": "https://localhost:8080/"
        },
        "id": "InjvIzII0ale",
        "outputId": "02a7ae89-255a-4c1f-8946-fb9d5b508476"
      },
      "source": [
        "x2[0, 0]"
      ],
      "execution_count": 55,
      "outputs": [
        {
          "output_type": "execute_result",
          "data": {
            "text/plain": [
              "3"
            ]
          },
          "metadata": {
            "tags": []
          },
          "execution_count": 55
        }
      ]
    },
    {
      "cell_type": "code",
      "metadata": {
        "colab": {
          "base_uri": "https://localhost:8080/"
        },
        "id": "Z0HoYAIm0ea2",
        "outputId": "e220def7-123f-41b2-bc25-befddc06c1fe"
      },
      "source": [
        "x2[2, -1]"
      ],
      "execution_count": 56,
      "outputs": [
        {
          "output_type": "execute_result",
          "data": {
            "text/plain": [
              "7"
            ]
          },
          "metadata": {
            "tags": []
          },
          "execution_count": 56
        }
      ]
    },
    {
      "cell_type": "markdown",
      "metadata": {
        "id": "5SX8XLv10kyg"
      },
      "source": [
        "Anda juga dapat mengubah nilai menggunakan salah satu notasi indeks di atas:"
      ]
    },
    {
      "cell_type": "code",
      "metadata": {
        "colab": {
          "base_uri": "https://localhost:8080/"
        },
        "id": "c3gKTyG40lda",
        "outputId": "7bc2296f-b405-42da-8a7d-85aa8343cead"
      },
      "source": [
        "x2[0, 0] = 12\n",
        "x2"
      ],
      "execution_count": 57,
      "outputs": [
        {
          "output_type": "execute_result",
          "data": {
            "text/plain": [
              "array([[12,  5,  2,  4],\n",
              "       [ 7,  6,  8,  8],\n",
              "       [ 1,  6,  7,  7]])"
            ]
          },
          "metadata": {
            "tags": []
          },
          "execution_count": 57
        }
      ]
    },
    {
      "cell_type": "markdown",
      "metadata": {
        "id": "ZSoSB2ds0uYg"
      },
      "source": [
        "**Array Slicing: Accessing Subarrays**\n",
        "\n",
        "---\n",
        "\n",
        "Sama seperti kita dapat menggunakan tanda kurung siku untuk mengakses elemen array individu, kita juga dapat menggunakan\n",
        "mereka untuk mengakses subarray dengan notasi irisan, ditandai dengan karakter titik dua (:).\n",
        "Sintaks pemotongan NumPy mengikuti yang ada pada daftar Python standar; untuk mengakses sepotong\n",
        "sebuah array x, gunakan ini:\n",
        "x [mulai: berhenti: langkah]\n",
        "Jika salah satu dari ini tidak ditentukan, nilai default-nya adalah start = 0, stop = size of\n",
        "dimensi, langkah = 1. Kita akan melihat cara mengakses subarray dalam satu dimensi dan dalam\n",
        "berbagai dimensi.\n",
        "\n",
        "---\n",
        "One-dimensional subarrays\n"
      ]
    },
    {
      "cell_type": "code",
      "metadata": {
        "colab": {
          "base_uri": "https://localhost:8080/"
        },
        "id": "repQYZVO1O6Q",
        "outputId": "7732ec54-6161-42d8-8095-96e90f81fcb6"
      },
      "source": [
        "x = np.arange(10)\n",
        "x"
      ],
      "execution_count": 58,
      "outputs": [
        {
          "output_type": "execute_result",
          "data": {
            "text/plain": [
              "array([0, 1, 2, 3, 4, 5, 6, 7, 8, 9])"
            ]
          },
          "metadata": {
            "tags": []
          },
          "execution_count": 58
        }
      ]
    },
    {
      "cell_type": "code",
      "metadata": {
        "colab": {
          "base_uri": "https://localhost:8080/"
        },
        "id": "-Nl3RcrO0wUc",
        "outputId": "b1ae40b0-0934-41ab-873c-2bb4f19b06c2"
      },
      "source": [
        "x[:5] # first five elements"
      ],
      "execution_count": 59,
      "outputs": [
        {
          "output_type": "execute_result",
          "data": {
            "text/plain": [
              "array([0, 1, 2, 3, 4])"
            ]
          },
          "metadata": {
            "tags": []
          },
          "execution_count": 59
        }
      ]
    },
    {
      "cell_type": "code",
      "metadata": {
        "colab": {
          "base_uri": "https://localhost:8080/"
        },
        "id": "CPH1-Die1V5E",
        "outputId": "aa3a00f7-e94c-42e4-dcab-ed2c0832fdd6"
      },
      "source": [
        "x[4:7] # middle subarray"
      ],
      "execution_count": 60,
      "outputs": [
        {
          "output_type": "execute_result",
          "data": {
            "text/plain": [
              "array([4, 5, 6])"
            ]
          },
          "metadata": {
            "tags": []
          },
          "execution_count": 60
        }
      ]
    },
    {
      "cell_type": "code",
      "metadata": {
        "colab": {
          "base_uri": "https://localhost:8080/"
        },
        "id": "8H59r05S1b8r",
        "outputId": "b9a674fa-0402-431e-b7e3-9bf29a4f4b06"
      },
      "source": [
        "x[::2] # every other element"
      ],
      "execution_count": 61,
      "outputs": [
        {
          "output_type": "execute_result",
          "data": {
            "text/plain": [
              "array([0, 2, 4, 6, 8])"
            ]
          },
          "metadata": {
            "tags": []
          },
          "execution_count": 61
        }
      ]
    },
    {
      "cell_type": "code",
      "metadata": {
        "colab": {
          "base_uri": "https://localhost:8080/"
        },
        "id": "_bTmYA6Q1elQ",
        "outputId": "bfc777f9-fe07-4732-8ddc-9562dbe8e074"
      },
      "source": [
        "x[1::2] # every other element, starting at index 1"
      ],
      "execution_count": 62,
      "outputs": [
        {
          "output_type": "execute_result",
          "data": {
            "text/plain": [
              "array([1, 3, 5, 7, 9])"
            ]
          },
          "metadata": {
            "tags": []
          },
          "execution_count": 62
        }
      ]
    },
    {
      "cell_type": "markdown",
      "metadata": {
        "id": "dERhjjgU1lWv"
      },
      "source": [
        "Multidimensional subarrays"
      ]
    },
    {
      "cell_type": "code",
      "metadata": {
        "colab": {
          "base_uri": "https://localhost:8080/"
        },
        "id": "MAxmhSED1oJb",
        "outputId": "31d8eff4-c1e3-4d61-dede-db8c50477eb4"
      },
      "source": [
        "x2"
      ],
      "execution_count": 63,
      "outputs": [
        {
          "output_type": "execute_result",
          "data": {
            "text/plain": [
              "array([[12,  5,  2,  4],\n",
              "       [ 7,  6,  8,  8],\n",
              "       [ 1,  6,  7,  7]])"
            ]
          },
          "metadata": {
            "tags": []
          },
          "execution_count": 63
        }
      ]
    },
    {
      "cell_type": "code",
      "metadata": {
        "colab": {
          "base_uri": "https://localhost:8080/"
        },
        "id": "7fvNicZx1q92",
        "outputId": "2b4817c5-3c98-495d-a9ad-b162b73039a5"
      },
      "source": [
        "x2[:2, :3] # two rows, three columns"
      ],
      "execution_count": 64,
      "outputs": [
        {
          "output_type": "execute_result",
          "data": {
            "text/plain": [
              "array([[12,  5,  2],\n",
              "       [ 7,  6,  8]])"
            ]
          },
          "metadata": {
            "tags": []
          },
          "execution_count": 64
        }
      ]
    },
    {
      "cell_type": "code",
      "metadata": {
        "colab": {
          "base_uri": "https://localhost:8080/"
        },
        "id": "Ecnc8-_T1tzh",
        "outputId": "c4fd8493-0cdd-47c6-ed19-96d6a1839586"
      },
      "source": [
        "x2[:3, ::2] # all rows, every other column"
      ],
      "execution_count": 65,
      "outputs": [
        {
          "output_type": "execute_result",
          "data": {
            "text/plain": [
              "array([[12,  2],\n",
              "       [ 7,  8],\n",
              "       [ 1,  7]])"
            ]
          },
          "metadata": {
            "tags": []
          },
          "execution_count": 65
        }
      ]
    },
    {
      "cell_type": "code",
      "metadata": {
        "colab": {
          "base_uri": "https://localhost:8080/"
        },
        "id": "iqBukNfM1wq8",
        "outputId": "901b45b2-b74e-4dc5-a8d9-b9261e522efe"
      },
      "source": [
        "x2[::-1, ::-1]"
      ],
      "execution_count": 66,
      "outputs": [
        {
          "output_type": "execute_result",
          "data": {
            "text/plain": [
              "array([[ 7,  7,  6,  1],\n",
              "       [ 8,  8,  6,  7],\n",
              "       [ 4,  2,  5, 12]])"
            ]
          },
          "metadata": {
            "tags": []
          },
          "execution_count": 66
        }
      ]
    },
    {
      "cell_type": "markdown",
      "metadata": {
        "id": "m3imByoZ2Daj"
      },
      "source": [
        "**Accressing Arrays rows and columns**\n",
        "\n",
        "---\n",
        "Salah satu rutinitas yang biasanya dibutuhkan adalah mengakses single\n",
        "baris atau kolom dari sebuah larik. Anda dapat melakukan ini dengan menggabungkan pengindeksan dan pemotongan,\n",
        "menggunakan irisan kosong yang ditandai dengan satu titik dua (:):\n"
      ]
    },
    {
      "cell_type": "code",
      "metadata": {
        "colab": {
          "base_uri": "https://localhost:8080/"
        },
        "id": "MQ4kj-AU2K8Z",
        "outputId": "ed6ce561-2b32-4a81-961e-79e67d806599"
      },
      "source": [
        "print(x2[:, 0]) # first column of x2"
      ],
      "execution_count": 67,
      "outputs": [
        {
          "output_type": "stream",
          "text": [
            "[12  7  1]\n"
          ],
          "name": "stdout"
        }
      ]
    },
    {
      "cell_type": "code",
      "metadata": {
        "colab": {
          "base_uri": "https://localhost:8080/"
        },
        "id": "UQL8Jq8j2SP_",
        "outputId": "eed698d1-bf99-46bb-d8f1-bf2591929531"
      },
      "source": [
        "print(x2[0]) # equivalent to x2[0, :]"
      ],
      "execution_count": 68,
      "outputs": [
        {
          "output_type": "stream",
          "text": [
            "[12  5  2  4]\n"
          ],
          "name": "stdout"
        }
      ]
    },
    {
      "cell_type": "markdown",
      "metadata": {
        "id": "yMGuA7HJ2VHI"
      },
      "source": [
        "**Subarrays as no-copy views**\n",
        "\n",
        "---\n",
        "Satu hal penting — dan sangat berguna — untuk diketahui tentang irisan array adalah bahwa mereka\n",
        "mengembalikan tampilan daripada salinan data larik. Ini adalah salah satu area di mana NumPy\n",
        "mengiris array berbeda dari pemotongan daftar Python: dalam daftar, irisan akan menjadi salinan. Pertimbangkan kami\n",
        "larik dua dimensi dari sebelumnya:\n"
      ]
    },
    {
      "cell_type": "code",
      "metadata": {
        "colab": {
          "base_uri": "https://localhost:8080/"
        },
        "id": "UC8aiuNy2ii2",
        "outputId": "262ee1cf-a46d-431c-a2b4-9ef88152d82a"
      },
      "source": [
        "print(x2)"
      ],
      "execution_count": 69,
      "outputs": [
        {
          "output_type": "stream",
          "text": [
            "[[12  5  2  4]\n",
            " [ 7  6  8  8]\n",
            " [ 1  6  7  7]]\n"
          ],
          "name": "stdout"
        }
      ]
    },
    {
      "cell_type": "markdown",
      "metadata": {
        "id": "2fJQSIa_2sRE"
      },
      "source": [
        "Mari kita ekstrak subarray 2x2 dari ini:"
      ]
    },
    {
      "cell_type": "code",
      "metadata": {
        "colab": {
          "base_uri": "https://localhost:8080/"
        },
        "id": "_-KgZ_MV2sy4",
        "outputId": "d3292b05-c9fb-4f91-e87e-17cd6dec3121"
      },
      "source": [
        "x2_sub = x2[:2, :2]\n",
        "print(x2_sub)"
      ],
      "execution_count": 70,
      "outputs": [
        {
          "output_type": "stream",
          "text": [
            "[[12  5]\n",
            " [ 7  6]]\n"
          ],
          "name": "stdout"
        }
      ]
    },
    {
      "cell_type": "markdown",
      "metadata": {
        "id": "sxOBuczg2zk3"
      },
      "source": [
        "Sekarang jika kita memodifikasi sublarik ini, kita akan melihat bahwa larik asli berubah :"
      ]
    },
    {
      "cell_type": "code",
      "metadata": {
        "colab": {
          "base_uri": "https://localhost:8080/"
        },
        "id": "gXDVMQGq21s0",
        "outputId": "f0434e33-abe0-4711-9846-2f3f5921cba5"
      },
      "source": [
        "x2_sub[0, 0] = 99\n",
        "print(x2_sub)"
      ],
      "execution_count": 71,
      "outputs": [
        {
          "output_type": "stream",
          "text": [
            "[[99  5]\n",
            " [ 7  6]]\n"
          ],
          "name": "stdout"
        }
      ]
    },
    {
      "cell_type": "code",
      "metadata": {
        "colab": {
          "base_uri": "https://localhost:8080/"
        },
        "id": "sCJecNdI24aO",
        "outputId": "daf0cfc6-52a0-4334-9261-67638c52a4ca"
      },
      "source": [
        "print(x2)"
      ],
      "execution_count": 72,
      "outputs": [
        {
          "output_type": "stream",
          "text": [
            "[[99  5  2  4]\n",
            " [ 7  6  8  8]\n",
            " [ 1  6  7  7]]\n"
          ],
          "name": "stdout"
        }
      ]
    },
    {
      "cell_type": "markdown",
      "metadata": {
        "id": "EVnH8P6s3BFN"
      },
      "source": [
        "**Creating copies of arrays**\n",
        "\n",
        "---\n",
        "Terlepas dari fitur bagus dari tampilan array, terkadang berguna untuk sebaliknya secara eksplisit\n",
        "salin data dalam array atau subarray. Ini dapat dilakukan paling mudah dengan file\n",
        "copy () metode:\n"
      ]
    },
    {
      "cell_type": "code",
      "metadata": {
        "colab": {
          "base_uri": "https://localhost:8080/"
        },
        "id": "duZYgdB-3Gfk",
        "outputId": "47de210e-62ef-4b49-e2ef-e8e28f4d253a"
      },
      "source": [
        "x2_sub_copy = x2[:2, :2].copy()\n",
        "print(x2_sub_copy)"
      ],
      "execution_count": 73,
      "outputs": [
        {
          "output_type": "stream",
          "text": [
            "[[99  5]\n",
            " [ 7  6]]\n"
          ],
          "name": "stdout"
        }
      ]
    },
    {
      "cell_type": "markdown",
      "metadata": {
        "id": "ulqsDlrk3QyB"
      },
      "source": [
        "Jika sekarang kita memodifikasi subarray ini, maka akan berubah seperti berikut:"
      ]
    },
    {
      "cell_type": "code",
      "metadata": {
        "colab": {
          "base_uri": "https://localhost:8080/"
        },
        "id": "QEsaeOvp3VZX",
        "outputId": "0db6865c-1364-4233-f4e3-43ddc520e216"
      },
      "source": [
        "x2_sub_copy[0, 0] = 42\n",
        "print(x2_sub_copy)"
      ],
      "execution_count": 74,
      "outputs": [
        {
          "output_type": "stream",
          "text": [
            "[[42  5]\n",
            " [ 7  6]]\n"
          ],
          "name": "stdout"
        }
      ]
    },
    {
      "cell_type": "code",
      "metadata": {
        "colab": {
          "base_uri": "https://localhost:8080/"
        },
        "id": "7PFWzGj03Xuc",
        "outputId": "7ee0ff19-d143-4e71-b3a5-f7ca340714e5"
      },
      "source": [
        "print(x2)"
      ],
      "execution_count": 75,
      "outputs": [
        {
          "output_type": "stream",
          "text": [
            "[[99  5  2  4]\n",
            " [ 7  6  8  8]\n",
            " [ 1  6  7  7]]\n"
          ],
          "name": "stdout"
        }
      ]
    },
    {
      "cell_type": "markdown",
      "metadata": {
        "id": "vDgb3QK_3gCO"
      },
      "source": [
        "**Reshaping of Arrays**\n",
        "\n",
        "---\n",
        "Jenis operasi lain yang berguna adalah pembentukan kembali array. Cara paling fleksibel dari\n",
        "melakukan ini dengan metode reshape (). Misalnya, jika Anda ingin memasukkan angka\n",
        "1 hingga 9 dalam kisi 3 × 3, Anda dapat melakukan hal berikut:\n"
      ]
    },
    {
      "cell_type": "code",
      "metadata": {
        "colab": {
          "base_uri": "https://localhost:8080/"
        },
        "id": "WHdsDOFM3j5k",
        "outputId": "ec46ba5d-7e72-4fec-8462-ae862788859a"
      },
      "source": [
        "grid = np.arange(1, 10).reshape((3, 3))\n",
        "print(grid)"
      ],
      "execution_count": 76,
      "outputs": [
        {
          "output_type": "stream",
          "text": [
            "[[1 2 3]\n",
            " [4 5 6]\n",
            " [7 8 9]]\n"
          ],
          "name": "stdout"
        }
      ]
    },
    {
      "cell_type": "code",
      "metadata": {
        "colab": {
          "base_uri": "https://localhost:8080/"
        },
        "id": "ukQt8slr3pN5",
        "outputId": "503a2bda-c696-4584-da5f-289db65fb492"
      },
      "source": [
        "x = np.array([1, 2, 3])\n",
        "# row vector via reshape\n",
        "x.reshape((1, 3))"
      ],
      "execution_count": 77,
      "outputs": [
        {
          "output_type": "execute_result",
          "data": {
            "text/plain": [
              "array([[1, 2, 3]])"
            ]
          },
          "metadata": {
            "tags": []
          },
          "execution_count": 77
        }
      ]
    },
    {
      "cell_type": "code",
      "metadata": {
        "colab": {
          "base_uri": "https://localhost:8080/"
        },
        "id": "UieluPHc3qjh",
        "outputId": "584f1086-adfe-4d8c-a73d-3d878cd6cf93"
      },
      "source": [
        "# row vector via newaxis\n",
        "x[np.newaxis, :]"
      ],
      "execution_count": 78,
      "outputs": [
        {
          "output_type": "execute_result",
          "data": {
            "text/plain": [
              "array([[1, 2, 3]])"
            ]
          },
          "metadata": {
            "tags": []
          },
          "execution_count": 78
        }
      ]
    },
    {
      "cell_type": "code",
      "metadata": {
        "colab": {
          "base_uri": "https://localhost:8080/"
        },
        "id": "JGO69iUC3tU_",
        "outputId": "5ccf5399-383e-4516-d1a2-cef6db741310"
      },
      "source": [
        "#column vector via reshape\n",
        "x.reshape((3, 1))"
      ],
      "execution_count": 80,
      "outputs": [
        {
          "output_type": "execute_result",
          "data": {
            "text/plain": [
              "array([[1],\n",
              "       [2],\n",
              "       [3]])"
            ]
          },
          "metadata": {
            "tags": []
          },
          "execution_count": 80
        }
      ]
    },
    {
      "cell_type": "code",
      "metadata": {
        "colab": {
          "base_uri": "https://localhost:8080/"
        },
        "id": "1_FdqWBJ3yPx",
        "outputId": "7160bb34-a3d6-4684-f767-812589fbdfd4"
      },
      "source": [
        "# column vector via newaxis\n",
        "x[:, np.newaxis]"
      ],
      "execution_count": 81,
      "outputs": [
        {
          "output_type": "execute_result",
          "data": {
            "text/plain": [
              "array([[1],\n",
              "       [2],\n",
              "       [3]])"
            ]
          },
          "metadata": {
            "tags": []
          },
          "execution_count": 81
        }
      ]
    },
    {
      "cell_type": "markdown",
      "metadata": {
        "id": "KYBUf07Q398O"
      },
      "source": [
        "**Array Concatenation and Splitting**\n",
        "\n",
        "---\n",
        "Semua rutinitas sebelumnya bekerja pada array tunggal. Itu juga memungkinkan untuk digabungkan\n",
        "beberapa array menjadi satu, dan sebaliknya membagi satu array menjadi beberapa array.\n",
        "Kami akan melihat operasi tersebut di sini.\n",
        "\n",
        "---\n",
        "**Concatenation of arrays**\n",
        "\n",
        "---\n",
        "\n",
        "Penggabungan, atau penggabungan dua larik di NumPy, dilakukan terutama\n",
        "melalui rutinitas np.concatenate, np.vstack, dan np.hstack. np.concatenate\n",
        "mengambil tupel atau daftar larik sebagai argumen pertamanya, seperti yang bisa kita lihat di sini:\n",
        "\n"
      ]
    },
    {
      "cell_type": "code",
      "metadata": {
        "colab": {
          "base_uri": "https://localhost:8080/"
        },
        "id": "RRdwFLDj4IdP",
        "outputId": "7c7afb13-4840-4811-ebbc-3142b9359ccb"
      },
      "source": [
        "x = np.array([1, 2, 3])\n",
        "y = np.array([3, 2, 1])\n",
        "np.concatenate([x, y])"
      ],
      "execution_count": 82,
      "outputs": [
        {
          "output_type": "execute_result",
          "data": {
            "text/plain": [
              "array([1, 2, 3, 3, 2, 1])"
            ]
          },
          "metadata": {
            "tags": []
          },
          "execution_count": 82
        }
      ]
    },
    {
      "cell_type": "code",
      "metadata": {
        "colab": {
          "base_uri": "https://localhost:8080/"
        },
        "id": "w0unUAZ34Wpm",
        "outputId": "d53395c1-6c51-4202-c51a-c7839f94a6c3"
      },
      "source": [
        "#Anda juga dapat menggabungkan lebih dari dua larik sekaligus:\n",
        "z = [99, 99, 99]\n",
        "print(np.concatenate([x, y, z]))"
      ],
      "execution_count": 83,
      "outputs": [
        {
          "output_type": "stream",
          "text": [
            "[ 1  2  3  3  2  1 99 99 99]\n"
          ],
          "name": "stdout"
        }
      ]
    },
    {
      "cell_type": "code",
      "metadata": {
        "id": "eikxRSKL4iIE"
      },
      "source": [
        "#np.concatenate juga dapat digunakan untuk array dua dimensi:\n",
        "grid = np.array([[1, 2, 3],\n",
        "[4, 5, 6]])"
      ],
      "execution_count": 84,
      "outputs": []
    },
    {
      "cell_type": "code",
      "metadata": {
        "colab": {
          "base_uri": "https://localhost:8080/"
        },
        "id": "WNlIHc6g4mbS",
        "outputId": "50791c10-81ea-4c47-952e-0e4c924011be"
      },
      "source": [
        "# concatenate along the first axis\n",
        "np.concatenate([grid, grid])"
      ],
      "execution_count": 86,
      "outputs": [
        {
          "output_type": "execute_result",
          "data": {
            "text/plain": [
              "array([[1, 2, 3],\n",
              "       [4, 5, 6],\n",
              "       [1, 2, 3],\n",
              "       [4, 5, 6]])"
            ]
          },
          "metadata": {
            "tags": []
          },
          "execution_count": 86
        }
      ]
    },
    {
      "cell_type": "code",
      "metadata": {
        "colab": {
          "base_uri": "https://localhost:8080/"
        },
        "id": "HpCNgSSP4z4f",
        "outputId": "b01e38b0-5698-42d6-8abf-51a88b8e7a56"
      },
      "source": [
        "# concatenate along the second axis (zero-indexed)\n",
        "np.concatenate([grid, grid], axis=1)"
      ],
      "execution_count": 87,
      "outputs": [
        {
          "output_type": "execute_result",
          "data": {
            "text/plain": [
              "array([[1, 2, 3, 1, 2, 3],\n",
              "       [4, 5, 6, 4, 5, 6]])"
            ]
          },
          "metadata": {
            "tags": []
          },
          "execution_count": 87
        }
      ]
    },
    {
      "cell_type": "markdown",
      "metadata": {
        "id": "MeDMtQDx48OX"
      },
      "source": [
        "**Splitting of arrays**\n",
        "\n",
        "---\n",
        "Kebalikan dari penggabungan adalah pemisahan, yang diimplementasikan oleh fungsi\n",
        "np.split, np.hsplit, dan np.vsplit. Untuk masing-masing ini, kita dapat memberikan daftar indeks\n",
        "memberikan poin perpecahan:\n"
      ]
    },
    {
      "cell_type": "code",
      "metadata": {
        "colab": {
          "base_uri": "https://localhost:8080/"
        },
        "id": "LuJWvMfV5ETR",
        "outputId": "d428f423-938a-498a-db97-879ede20f69d"
      },
      "source": [
        "x = [1, 2, 3, 99, 99, 3, 2, 1]\n",
        "x1, x2, x3 = np.split(x, [3, 5])\n",
        "print(x1, x2, x3)"
      ],
      "execution_count": 88,
      "outputs": [
        {
          "output_type": "stream",
          "text": [
            "[1 2 3] [99 99] [3 2 1]\n"
          ],
          "name": "stdout"
        }
      ]
    },
    {
      "cell_type": "code",
      "metadata": {
        "colab": {
          "base_uri": "https://localhost:8080/"
        },
        "id": "vMg2lFs15I9y",
        "outputId": "cb7bc1db-fdf5-4cd6-ac98-7ea127245b03"
      },
      "source": [
        "grid = np.arange(16).reshape((4, 4))\n",
        "grid"
      ],
      "execution_count": 89,
      "outputs": [
        {
          "output_type": "execute_result",
          "data": {
            "text/plain": [
              "array([[ 0,  1,  2,  3],\n",
              "       [ 4,  5,  6,  7],\n",
              "       [ 8,  9, 10, 11],\n",
              "       [12, 13, 14, 15]])"
            ]
          },
          "metadata": {
            "tags": []
          },
          "execution_count": 89
        }
      ]
    },
    {
      "cell_type": "code",
      "metadata": {
        "colab": {
          "base_uri": "https://localhost:8080/"
        },
        "id": "4DhBE_8e5RZc",
        "outputId": "218a49f1-2342-4c9d-dfef-dad4e14f2c26"
      },
      "source": [
        "upper, lower = np.vsplit(grid, [2])\n",
        "print(upper)\n",
        "print(lower)"
      ],
      "execution_count": 90,
      "outputs": [
        {
          "output_type": "stream",
          "text": [
            "[[0 1 2 3]\n",
            " [4 5 6 7]]\n",
            "[[ 8  9 10 11]\n",
            " [12 13 14 15]]\n"
          ],
          "name": "stdout"
        }
      ]
    },
    {
      "cell_type": "code",
      "metadata": {
        "colab": {
          "base_uri": "https://localhost:8080/"
        },
        "id": "lp1LsT-_5Sn0",
        "outputId": "1b6da742-603a-4af3-8959-d531b93fab1e"
      },
      "source": [
        "left, right = np.hsplit(grid, [2])\n",
        "print(left)\n",
        "print(right)"
      ],
      "execution_count": 91,
      "outputs": [
        {
          "output_type": "stream",
          "text": [
            "[[ 0  1]\n",
            " [ 4  5]\n",
            " [ 8  9]\n",
            " [12 13]]\n",
            "[[ 2  3]\n",
            " [ 6  7]\n",
            " [10 11]\n",
            " [14 15]]\n"
          ],
          "name": "stdout"
        }
      ]
    },
    {
      "cell_type": "markdown",
      "metadata": {
        "id": "MDsk4lRo51_q"
      },
      "source": [
        "**Computation on NumPy Arrays: Universal Functions**\n",
        "\n",
        "---\n",
        "Komputasi pada array NumPy bisa sangat cepat, atau bisa sangat lambat. Kunci untuk\n",
        "membuatnya cepat adalah dengan menggunakan operasi vektor, umumnya diterapkan melalui Num‐\n",
        "Fungsi universal Py (ufunc). Bagian ini memotivasi kebutuhan para ufunc NumPy,\n",
        "yang dapat digunakan untuk membuat kalkulasi berulang pada elemen array jauh lebih efisien.\n",
        "Ini kemudian memperkenalkan banyak ufunc aritmatika yang paling umum dan berguna\n",
        "tersedia dalam paket NumPy.\n",
        "\n",
        "---\n",
        "The Slowness of Loops\n",
        "\n",
        "---\n",
        "\n",
        "Kelambanan relatif Python umumnya memanifestasikan dirinya dalam situasi di mana\n",
        "banyak operasi kecil sedang diulang — misalnya, melakukan perulangan pada array untuk beroperasi pada setiap elemen. Misalnya, bayangkan kita memiliki larik nilai dan ingin\n",
        "menghitung kebalikan dari masing-masing. Pendekatan langsung mungkin terlihat seperti ini:\n",
        "\n"
      ]
    },
    {
      "cell_type": "code",
      "metadata": {
        "colab": {
          "base_uri": "https://localhost:8080/"
        },
        "id": "KVMCFjaK6dr0",
        "outputId": "3e21e004-11f6-46c4-f0b5-ed945cd2ba27"
      },
      "source": [
        "import numpy as np\n",
        "np.random.seed(0)\n",
        "def compute_reciprocals(values):\n",
        "  output = np.empty(len(values))\n",
        "  for i in range(len(values)):\n",
        "    output[i] = 1.0 / values[i]\n",
        "  return output\n",
        "values = np.random.randint(1, 10, size=5)\n",
        "compute_reciprocals(values)"
      ],
      "execution_count": 93,
      "outputs": [
        {
          "output_type": "execute_result",
          "data": {
            "text/plain": [
              "array([0.16666667, 1.        , 0.25      , 0.25      , 0.125     ])"
            ]
          },
          "metadata": {
            "tags": []
          },
          "execution_count": 93
        }
      ]
    },
    {
      "cell_type": "code",
      "metadata": {
        "colab": {
          "base_uri": "https://localhost:8080/"
        },
        "id": "H-cyWjkM6rUY",
        "outputId": "b4bc59de-e18e-49f1-8a63-7a123e19c591"
      },
      "source": [
        "big_array = np.random.randint(1, 100, size=1000000)\n",
        "%timeit compute_reciprocals(big_array)"
      ],
      "execution_count": 94,
      "outputs": [
        {
          "output_type": "stream",
          "text": [
            "1 loop, best of 5: 2.41 s per loop\n"
          ],
          "name": "stdout"
        }
      ]
    },
    {
      "cell_type": "markdown",
      "metadata": {
        "id": "St3bKYJT6yYM"
      },
      "source": [
        "Introducing UFuncs\n",
        "\n",
        "---\n",
        "\n",
        "Bandingkan hasil dari dua hal berikut:"
      ]
    },
    {
      "cell_type": "code",
      "metadata": {
        "colab": {
          "base_uri": "https://localhost:8080/"
        },
        "id": "IwfmcJb7-aeE",
        "outputId": "c40d3bbc-87f6-4c94-a56a-a7b17be118f8"
      },
      "source": [
        "print(compute_reciprocals(values))\n",
        "print(1.0 / values)"
      ],
      "execution_count": 95,
      "outputs": [
        {
          "output_type": "stream",
          "text": [
            "[0.16666667 1.         0.25       0.25       0.125     ]\n",
            "[0.16666667 1.         0.25       0.25       0.125     ]\n"
          ],
          "name": "stdout"
        }
      ]
    },
    {
      "cell_type": "markdown",
      "metadata": {
        "id": "7aVFNt4C-v4Q"
      },
      "source": [
        "Melihat waktu eksekusi untuk array besar kami, kami melihat bahwa itu menyelesaikan pesanan\n",
        "besarnya lebih cepat dari loop Python:"
      ]
    },
    {
      "cell_type": "code",
      "metadata": {
        "colab": {
          "base_uri": "https://localhost:8080/"
        },
        "id": "hxub3-d7-jul",
        "outputId": "ef252012-b8de-4f91-bbad-9e30a49776b3"
      },
      "source": [
        "%timeit (1.0 / big_array)"
      ],
      "execution_count": 96,
      "outputs": [
        {
          "output_type": "stream",
          "text": [
            "100 loops, best of 5: 2.17 ms per loop\n"
          ],
          "name": "stdout"
        }
      ]
    },
    {
      "cell_type": "markdown",
      "metadata": {
        "id": "xJa8WUPS-yey"
      },
      "source": [
        "**Exploring NumPy’s UFuncs**\n",
        "\n",
        "---\n",
        "Ufunc ada dalam dua bentuk: ufunc unary, yang beroperasi pada satu input, dan biner\n",
        "ufuncs, yang beroperasi pada dua input. Kita akan melihat contoh dari kedua jenis fungsi ini\n",
        "sini.\n",
        "\n",
        "---\n",
        "Array arithmetic\n",
        "\n",
        "---\n",
        "Penjumlahan, pengurangan, perkalian, dan pembagian standar\n",
        "semua bisa digunakan:\n",
        "\n",
        "\n"
      ]
    },
    {
      "cell_type": "code",
      "metadata": {
        "colab": {
          "base_uri": "https://localhost:8080/"
        },
        "id": "MV25aVMi_Mor",
        "outputId": "da6b0b7a-c08e-478c-c539-98ee6e2ab8ce"
      },
      "source": [
        "x = np.arange(4)\n",
        "print(\"x =\", x)\n",
        "print(\"x + 5 =\", x + 5)\n",
        "print(\"x - 5 =\", x - 5)\n",
        "print(\"x * 2 =\", x * 2)\n",
        "print(\"x / 2 =\", x / 2)\n",
        "print(\"x // 2 =\", x // 2) # floor division"
      ],
      "execution_count": 98,
      "outputs": [
        {
          "output_type": "stream",
          "text": [
            "x = [0 1 2 3]\n",
            "x + 5 = [5 6 7 8]\n",
            "x - 5 = [-5 -4 -3 -2]\n",
            "x * 2 = [0 2 4 6]\n",
            "x / 2 = [0.  0.5 1.  1.5]\n",
            "x // 2 = [0 0 1 1]\n"
          ],
          "name": "stdout"
        }
      ]
    },
    {
      "cell_type": "code",
      "metadata": {
        "colab": {
          "base_uri": "https://localhost:8080/"
        },
        "id": "LRR59iG-_cFj",
        "outputId": "6cb57896-289e-4e33-9b27-2afb1c587cc0"
      },
      "source": [
        "# Ada juga ufunc unary untuk negasi, operator ** untuk eksponen, dan% operator untuk modulus:\n",
        "print(\"-x = \", -x)\n",
        "print(\"x ** 2 = \", x ** 2)\n",
        "print(\"x % 2 = \", x % 2)"
      ],
      "execution_count": 99,
      "outputs": [
        {
          "output_type": "stream",
          "text": [
            "-x =  [ 0 -1 -2 -3]\n",
            "x ** 2 =  [0 1 4 9]\n",
            "x % 2 =  [0 1 0 1]\n"
          ],
          "name": "stdout"
        }
      ]
    },
    {
      "cell_type": "markdown",
      "metadata": {
        "id": "5A7ymEIn_l9c"
      },
      "source": [
        "Absolute value\n",
        "\n",
        "---\n",
        "Sama seperti NumPy yang memahami operator aritmatika bawaan Python, NumPy juga memahaminya\n",
        "Fungsi nilai absolut bawaan Python:\n"
      ]
    },
    {
      "cell_type": "code",
      "metadata": {
        "colab": {
          "base_uri": "https://localhost:8080/"
        },
        "id": "-klHg0NH_sKB",
        "outputId": "46d7b3c2-f7da-4fe7-ed49-23344583f341"
      },
      "source": [
        "x = np.array([-2, -1, 0, 1, 2])\n",
        "abs(x)"
      ],
      "execution_count": 100,
      "outputs": [
        {
          "output_type": "execute_result",
          "data": {
            "text/plain": [
              "array([2, 1, 0, 1, 2])"
            ]
          },
          "metadata": {
            "tags": []
          },
          "execution_count": 100
        }
      ]
    },
    {
      "cell_type": "markdown",
      "metadata": {
        "id": "GmZG0_gZ_9dE"
      },
      "source": [
        "Ufunc NumPy yang sesuai adalah np.absolute, yang juga tersedia di bawah\n",
        "alias np.abs:"
      ]
    },
    {
      "cell_type": "code",
      "metadata": {
        "colab": {
          "base_uri": "https://localhost:8080/"
        },
        "id": "3YL6AwXLAAMA",
        "outputId": "00099d0c-541c-44be-dc00-720a88c06e1b"
      },
      "source": [
        "np.absolute(x)"
      ],
      "execution_count": 101,
      "outputs": [
        {
          "output_type": "execute_result",
          "data": {
            "text/plain": [
              "array([2, 1, 0, 1, 2])"
            ]
          },
          "metadata": {
            "tags": []
          },
          "execution_count": 101
        }
      ]
    },
    {
      "cell_type": "code",
      "metadata": {
        "colab": {
          "base_uri": "https://localhost:8080/"
        },
        "id": "uPt22Y-QAEUI",
        "outputId": "ef61bea7-3c76-4f96-b639-c87fec9a226f"
      },
      "source": [
        "np.abs(x)"
      ],
      "execution_count": 102,
      "outputs": [
        {
          "output_type": "execute_result",
          "data": {
            "text/plain": [
              "array([2, 1, 0, 1, 2])"
            ]
          },
          "metadata": {
            "tags": []
          },
          "execution_count": 102
        }
      ]
    },
    {
      "cell_type": "markdown",
      "metadata": {
        "id": "r-Se63uXAHac"
      },
      "source": [
        "Trigonometric functions\n",
        "\n",
        "---\n",
        "NumPy menyediakan sejumlah besar ufunc yang berguna, dan beberapa yang paling berguna untuk file\n",
        "ilmuwan data adalah fungsi trigonometri. Kita akan mulai dengan menentukan larik\n",
        "sudut:\n"
      ]
    },
    {
      "cell_type": "code",
      "metadata": {
        "id": "Dg93rVeBANPl"
      },
      "source": [
        "theta = np.linspace(0, np.pi, 3)"
      ],
      "execution_count": 103,
      "outputs": []
    },
    {
      "cell_type": "code",
      "metadata": {
        "colab": {
          "base_uri": "https://localhost:8080/"
        },
        "id": "vQOVasgcARNF",
        "outputId": "1ab0831f-d687-4606-ac0d-246e9678d855"
      },
      "source": [
        "print(\"theta = \", theta)\n",
        "print(\"sin(theta) = \", np.sin(theta))\n",
        "print(\"cos(theta) = \", np.cos(theta))\n",
        "print(\"tan(theta) = \", np.tan(theta))"
      ],
      "execution_count": 104,
      "outputs": [
        {
          "output_type": "stream",
          "text": [
            "theta =  [0.         1.57079633 3.14159265]\n",
            "sin(theta) =  [0.0000000e+00 1.0000000e+00 1.2246468e-16]\n",
            "cos(theta) =  [ 1.000000e+00  6.123234e-17 -1.000000e+00]\n",
            "tan(theta) =  [ 0.00000000e+00  1.63312394e+16 -1.22464680e-16]\n"
          ],
          "name": "stdout"
        }
      ]
    },
    {
      "cell_type": "code",
      "metadata": {
        "colab": {
          "base_uri": "https://localhost:8080/"
        },
        "id": "sYrTUjHzAWlr",
        "outputId": "2fee0e81-7c5c-405d-c743-e268d5372a4f"
      },
      "source": [
        "x = [-1, 0, 1]\n",
        "print(\"x = \", x)\n",
        "print(\"arcsin(x) = \", np.arcsin(x))\n",
        "print(\"arccos(x) = \", np.arccos(x))\n",
        "print(\"arctan(x) = \", np.arctan(x))"
      ],
      "execution_count": 105,
      "outputs": [
        {
          "output_type": "stream",
          "text": [
            "x =  [-1, 0, 1]\n",
            "arcsin(x) =  [-1.57079633  0.          1.57079633]\n",
            "arccos(x) =  [3.14159265 1.57079633 0.        ]\n",
            "arctan(x) =  [-0.78539816  0.          0.78539816]\n"
          ],
          "name": "stdout"
        }
      ]
    },
    {
      "cell_type": "markdown",
      "metadata": {
        "id": "26bRqOIoAYJW"
      },
      "source": [
        "Exponents and logarithms"
      ]
    },
    {
      "cell_type": "code",
      "metadata": {
        "colab": {
          "base_uri": "https://localhost:8080/"
        },
        "id": "gQWoUaUoAapg",
        "outputId": "346c13e2-d361-4b92-bcfc-d21e9949d5d9"
      },
      "source": [
        "x = [1, 2, 3]\n",
        "print(\"x =\", x)\n",
        "print(\"e^x =\", np.exp(x))\n",
        "print(\"2^x =\", np.exp2(x))\n",
        "print(\"3^x =\", np.power(3, x))"
      ],
      "execution_count": 106,
      "outputs": [
        {
          "output_type": "stream",
          "text": [
            "x = [1, 2, 3]\n",
            "e^x = [ 2.71828183  7.3890561  20.08553692]\n",
            "2^x = [2. 4. 8.]\n",
            "3^x = [ 3  9 27]\n"
          ],
          "name": "stdout"
        }
      ]
    },
    {
      "cell_type": "code",
      "metadata": {
        "colab": {
          "base_uri": "https://localhost:8080/"
        },
        "id": "nfMwdNGwAgIO",
        "outputId": "b211d436-6484-4cc7-f4e7-025f40ee1444"
      },
      "source": [
        "x = [1, 2, 4, 10]\n",
        "print(\"x =\", x)\n",
        "print(\"ln(x) =\", np.log(x))\n",
        "print(\"log2(x) =\", np.log2(x))\n",
        "print(\"log10(x) =\", np.log10(x))"
      ],
      "execution_count": 107,
      "outputs": [
        {
          "output_type": "stream",
          "text": [
            "x = [1, 2, 4, 10]\n",
            "ln(x) = [0.         0.69314718 1.38629436 2.30258509]\n",
            "log2(x) = [0.         1.         2.         3.32192809]\n",
            "log10(x) = [0.         0.30103    0.60205999 1.        ]\n"
          ],
          "name": "stdout"
        }
      ]
    },
    {
      "cell_type": "code",
      "metadata": {
        "colab": {
          "base_uri": "https://localhost:8080/"
        },
        "id": "vE36kkxyAkmB",
        "outputId": "8f79f997-54ec-4d75-a276-be6dadedd0b2"
      },
      "source": [
        "x = [0, 0.001, 0.01, 0.1]\n",
        "print(\"exp(x) - 1 =\", np.expm1(x))\n",
        "print(\"log(1 + x) =\", np.log1p(x))"
      ],
      "execution_count": 108,
      "outputs": [
        {
          "output_type": "stream",
          "text": [
            "exp(x) - 1 = [0.         0.0010005  0.01005017 0.10517092]\n",
            "log(1 + x) = [0.         0.0009995  0.00995033 0.09531018]\n"
          ],
          "name": "stdout"
        }
      ]
    },
    {
      "cell_type": "markdown",
      "metadata": {
        "id": "VfkhhaWMAoU0"
      },
      "source": [
        "Specialized ufuncs\n",
        "\n",
        "---\n",
        "Sumber bagus lainnya untuk ufunc yang lebih terspesialisasi dan tidak jelas adalah submodul\n",
        "scipy.special.   Jika Anda ingin menghitung beberapa fungsi matematika yang tidak jelas\n",
        "data Anda, kemungkinan besar diimplementasikan di scipy.special. Terlalu banyak\n",
        "berfungsi untuk mencantumkan semuanya, tetapi cuplikan berikut menunjukkan pasangan yang mungkin datang\n",
        "up dalam konteks statistik\n"
      ]
    },
    {
      "cell_type": "code",
      "metadata": {
        "id": "yO66Ic3HA4_S"
      },
      "source": [
        "from scipy import special"
      ],
      "execution_count": 109,
      "outputs": []
    },
    {
      "cell_type": "code",
      "metadata": {
        "colab": {
          "base_uri": "https://localhost:8080/"
        },
        "id": "ehn89AVwA-By",
        "outputId": "1e2bf503-abe8-40c9-bad2-3c8d027f5892"
      },
      "source": [
        "# Gamma functions (generalized factorials) and related functions\n",
        "x = [1, 5, 10]\n",
        "print(\"gamma(x) =\", special.gamma(x))\n",
        "print(\"ln|gamma(x)| =\", special.gammaln(x))\n",
        "print(\"beta(x, 2) =\", special.beta(x, 2))"
      ],
      "execution_count": 110,
      "outputs": [
        {
          "output_type": "stream",
          "text": [
            "gamma(x) = [1.0000e+00 2.4000e+01 3.6288e+05]\n",
            "ln|gamma(x)| = [ 0.          3.17805383 12.80182748]\n",
            "beta(x, 2) = [0.5        0.03333333 0.00909091]\n"
          ],
          "name": "stdout"
        }
      ]
    },
    {
      "cell_type": "code",
      "metadata": {
        "colab": {
          "base_uri": "https://localhost:8080/"
        },
        "id": "UJy3LTlhBC7J",
        "outputId": "0f7f3a93-41aa-418d-f044-bc0fe5a61fdd"
      },
      "source": [
        "# Error function (integral of Gaussian)\n",
        "# its complement, and its inverse\n",
        "x = np.array([0, 0.3, 0.7, 1.0])\n",
        "print(\"erf(x) =\", special.erf(x))\n",
        "print(\"erfc(x) =\", special.erfc(x))\n",
        "print(\"erfinv(x) =\", special.erfinv(x))"
      ],
      "execution_count": 111,
      "outputs": [
        {
          "output_type": "stream",
          "text": [
            "erf(x) = [0.         0.32862676 0.67780119 0.84270079]\n",
            "erfc(x) = [1.         0.67137324 0.32219881 0.15729921]\n",
            "erfinv(x) = [0.         0.27246271 0.73286908        inf]\n"
          ],
          "name": "stdout"
        }
      ]
    },
    {
      "cell_type": "markdown",
      "metadata": {
        "id": "pUgJycRcBSBp"
      },
      "source": [
        "**Advanced Ufunc Features**\n",
        "\n",
        "---\n",
        "Specifying output\n"
      ]
    },
    {
      "cell_type": "code",
      "metadata": {
        "colab": {
          "base_uri": "https://localhost:8080/"
        },
        "id": "c_m_DiACBY7m",
        "outputId": "dc79a45d-617b-42e1-ea16-57c6fc89b14a"
      },
      "source": [
        "x = np.arange(5)\n",
        "y = np.empty(5)\n",
        "np.multiply(x, 10, out=y)\n",
        "print(y)"
      ],
      "execution_count": 112,
      "outputs": [
        {
          "output_type": "stream",
          "text": [
            "[ 0. 10. 20. 30. 40.]\n"
          ],
          "name": "stdout"
        }
      ]
    },
    {
      "cell_type": "code",
      "metadata": {
        "colab": {
          "base_uri": "https://localhost:8080/"
        },
        "id": "aDB7F_wHBbjc",
        "outputId": "93147bf1-13df-4d4f-a589-43162a2fa170"
      },
      "source": [
        "y = np.zeros(10)\n",
        "np.power(2, x, out=y[::2])\n",
        "print(y)"
      ],
      "execution_count": 113,
      "outputs": [
        {
          "output_type": "stream",
          "text": [
            "[ 1.  0.  2.  0.  4.  0.  8.  0. 16.  0.]\n"
          ],
          "name": "stdout"
        }
      ]
    },
    {
      "cell_type": "markdown",
      "metadata": {
        "id": "WYdHGdoPBc2J"
      },
      "source": [
        "Aggregates\n",
        "\n",
        "---\n",
        "Untuk ufunc biner, ada beberapa agregat menarik yang dapat dihitung\n",
        "langsung dari objek. Misalnya, jika kita ingin mengurangi array dengan\n",
        "operasi, kita dapat menggunakan metode pengurangan dari setiap ufunc. Sebuah pengurangan berulang kali berlaku a\n",
        "memberikan operasi ke elemen array sampai hanya satu hasil yang tersisa.\n"
      ]
    },
    {
      "cell_type": "code",
      "metadata": {
        "colab": {
          "base_uri": "https://localhost:8080/"
        },
        "id": "J6Qz5jLXBj6h",
        "outputId": "a79bbce7-d9c9-49e5-c913-0d9277083aa8"
      },
      "source": [
        "x = np.arange(1, 6)\n",
        "np.add.reduce(x)"
      ],
      "execution_count": 114,
      "outputs": [
        {
          "output_type": "execute_result",
          "data": {
            "text/plain": [
              "15"
            ]
          },
          "metadata": {
            "tags": []
          },
          "execution_count": 114
        }
      ]
    },
    {
      "cell_type": "code",
      "metadata": {
        "colab": {
          "base_uri": "https://localhost:8080/"
        },
        "id": "KPbNLiq6Bomj",
        "outputId": "6e4eeb24-2151-4954-fe8f-40dd1f435aab"
      },
      "source": [
        "np.multiply.reduce(x)"
      ],
      "execution_count": 115,
      "outputs": [
        {
          "output_type": "execute_result",
          "data": {
            "text/plain": [
              "120"
            ]
          },
          "metadata": {
            "tags": []
          },
          "execution_count": 115
        }
      ]
    },
    {
      "cell_type": "code",
      "metadata": {
        "colab": {
          "base_uri": "https://localhost:8080/"
        },
        "id": "w4LXx9TvBrpU",
        "outputId": "82dabf43-6c5f-49e3-8eea-f62ff22e3358"
      },
      "source": [
        "np.add.accumulate(x)"
      ],
      "execution_count": 116,
      "outputs": [
        {
          "output_type": "execute_result",
          "data": {
            "text/plain": [
              "array([ 1,  3,  6, 10, 15])"
            ]
          },
          "metadata": {
            "tags": []
          },
          "execution_count": 116
        }
      ]
    },
    {
      "cell_type": "markdown",
      "metadata": {
        "id": "0XeM9k-EBu2w"
      },
      "source": [
        "**Outer products**\n",
        "\n",
        "---\n",
        "Akhirnya, setiap ufunc dapat menghitung keluaran dari semua pasangan dari dua masukan yang berbeda menggunakan\n",
        "metode luar. Ini memungkinkan Anda, dalam satu baris, untuk melakukan hal-hal seperti membuat perkalian\n",
        "meja:\n"
      ]
    },
    {
      "cell_type": "code",
      "metadata": {
        "colab": {
          "base_uri": "https://localhost:8080/"
        },
        "id": "UW18zc_FB1gh",
        "outputId": "0c021b5a-783f-4055-c878-bb655669b34a"
      },
      "source": [
        "x = np.arange(1, 6)\n",
        "np.multiply.outer(x, x)"
      ],
      "execution_count": 117,
      "outputs": [
        {
          "output_type": "execute_result",
          "data": {
            "text/plain": [
              "array([[ 1,  2,  3,  4,  5],\n",
              "       [ 2,  4,  6,  8, 10],\n",
              "       [ 3,  6,  9, 12, 15],\n",
              "       [ 4,  8, 12, 16, 20],\n",
              "       [ 5, 10, 15, 20, 25]])"
            ]
          },
          "metadata": {
            "tags": []
          },
          "execution_count": 117
        }
      ]
    },
    {
      "cell_type": "markdown",
      "metadata": {
        "id": "B5UK3I0TB7m5"
      },
      "source": [
        "**Summing the Values in an Array**\n",
        "\n",
        "---\n",
        "Sebagai contoh cepat, pertimbangkan untuk menghitung jumlah semua nilai dalam larik. Python\n",
        "sendiri dapat melakukan ini menggunakan fungsi penjumlahan bawaan:\n"
      ]
    },
    {
      "cell_type": "code",
      "metadata": {
        "id": "et-Lz3lNEMKR"
      },
      "source": [
        "import numpy as np"
      ],
      "execution_count": 118,
      "outputs": []
    },
    {
      "cell_type": "code",
      "metadata": {
        "colab": {
          "base_uri": "https://localhost:8080/"
        },
        "id": "o3F8MqjXERus",
        "outputId": "3651241f-36c3-4730-ff73-a382a05364c1"
      },
      "source": [
        "L = np.random.random(100)\n",
        "sum(L)"
      ],
      "execution_count": 119,
      "outputs": [
        {
          "output_type": "execute_result",
          "data": {
            "text/plain": [
              "50.461758453195614"
            ]
          },
          "metadata": {
            "tags": []
          },
          "execution_count": 119
        }
      ]
    },
    {
      "cell_type": "code",
      "metadata": {
        "colab": {
          "base_uri": "https://localhost:8080/"
        },
        "id": "BsvYt7eTEYLj",
        "outputId": "ca132846-aec8-49b8-e471-5cc104f40371"
      },
      "source": [
        "# Sintaksnya sangat mirip dengan fungsi penjumlahan NumPy, dan hasilnya sama dalam kasus yang paling sederhana:\n",
        "np.sum(L)"
      ],
      "execution_count": 120,
      "outputs": [
        {
          "output_type": "execute_result",
          "data": {
            "text/plain": [
              "50.46175845319564"
            ]
          },
          "metadata": {
            "tags": []
          },
          "execution_count": 120
        }
      ]
    },
    {
      "cell_type": "code",
      "metadata": {
        "colab": {
          "base_uri": "https://localhost:8080/"
        },
        "id": "O4NYeQg6Ec8Z",
        "outputId": "2c6f2ade-838d-4b86-c3a5-e9e9f744543e"
      },
      "source": [
        "# Namun, karena menjalankan operasi dalam kode yang dikompilasi, versi NumPy dari operasi dihitung jauh lebih cepat:\n",
        "big_array = np.random.rand(1000000)\n",
        "%timeit sum(big_array)\n",
        "%timeit np.sum(big_array)"
      ],
      "execution_count": 121,
      "outputs": [
        {
          "output_type": "stream",
          "text": [
            "10 loops, best of 5: 169 ms per loop\n",
            "1000 loops, best of 5: 385 µs per loop\n"
          ],
          "name": "stdout"
        }
      ]
    },
    {
      "cell_type": "markdown",
      "metadata": {
        "id": "QpTsSeeQEpzx"
      },
      "source": [
        "**Minimum and Maximum**\n",
        "\n",
        "---\n",
        "Demikian pula, Python memiliki fungsi min dan max bawaan, yang digunakan untuk menemukan nilai minimum\n",
        "dan nilai maksimum dari setiap larik:\n"
      ]
    },
    {
      "cell_type": "code",
      "metadata": {
        "colab": {
          "base_uri": "https://localhost:8080/"
        },
        "id": "vFv9PbMjEx8i",
        "outputId": "9c8ed03e-f794-46d3-af13-cf1b9c568fa5"
      },
      "source": [
        "min(big_array), max(big_array)"
      ],
      "execution_count": 122,
      "outputs": [
        {
          "output_type": "execute_result",
          "data": {
            "text/plain": [
              "(7.071203171893359e-07, 0.9999997207656334)"
            ]
          },
          "metadata": {
            "tags": []
          },
          "execution_count": 122
        }
      ]
    },
    {
      "cell_type": "markdown",
      "metadata": {
        "id": "YHTeyV8kFAZm"
      },
      "source": [
        "Fungsi terkait NumPy memiliki sintaks yang serupa, dan beroperasi lebih banyak :"
      ]
    },
    {
      "cell_type": "code",
      "metadata": {
        "colab": {
          "base_uri": "https://localhost:8080/"
        },
        "id": "8d3UKoWbFIjf",
        "outputId": "f6fdf1e7-21a4-431d-ec24-13431a80bae6"
      },
      "source": [
        "np.min(big_array), np.max(big_array)"
      ],
      "execution_count": 123,
      "outputs": [
        {
          "output_type": "execute_result",
          "data": {
            "text/plain": [
              "(7.071203171893359e-07, 0.9999997207656334)"
            ]
          },
          "metadata": {
            "tags": []
          },
          "execution_count": 123
        }
      ]
    },
    {
      "cell_type": "code",
      "metadata": {
        "colab": {
          "base_uri": "https://localhost:8080/"
        },
        "id": "1H9m9KS9FL0R",
        "outputId": "a1c5e197-18f2-496e-e846-4d283c33a278"
      },
      "source": [
        "%timeit min(big_array)\n",
        "%timeit np.min(big_array)"
      ],
      "execution_count": 124,
      "outputs": [
        {
          "output_type": "stream",
          "text": [
            "10 loops, best of 5: 103 ms per loop\n",
            "1000 loops, best of 5: 441 µs per loop\n"
          ],
          "name": "stdout"
        }
      ]
    },
    {
      "cell_type": "markdown",
      "metadata": {
        "id": "gIhz3gZ2FSVw"
      },
      "source": [
        "Untuk min, max, sum, dan beberapa agregat NumPy lainnya, sintaks yang lebih pendek akan digunakan\n",
        "metode dari objek array itu sendiri:"
      ]
    },
    {
      "cell_type": "code",
      "metadata": {
        "colab": {
          "base_uri": "https://localhost:8080/"
        },
        "id": "qc1kpLzmFS9f",
        "outputId": "89ece387-2ab8-4e48-920d-3b9a97d41569"
      },
      "source": [
        "print(big_array.min(), big_array.max(), big_array.sum())"
      ],
      "execution_count": 125,
      "outputs": [
        {
          "output_type": "stream",
          "text": [
            "7.071203171893359e-07 0.9999997207656334 500216.8034810001\n"
          ],
          "name": "stdout"
        }
      ]
    },
    {
      "cell_type": "markdown",
      "metadata": {
        "id": "FcuLAcunFYJM"
      },
      "source": [
        "**Multidimensional aggregates**\n",
        "\n",
        "---\n",
        "\n"
      ]
    },
    {
      "cell_type": "code",
      "metadata": {
        "colab": {
          "base_uri": "https://localhost:8080/"
        },
        "id": "UoHCYatTFgdY",
        "outputId": "88df21a5-304d-4efa-dcaa-929ca828857c"
      },
      "source": [
        "M = np.random.random((3, 4))\n",
        "print(M)"
      ],
      "execution_count": 126,
      "outputs": [
        {
          "output_type": "stream",
          "text": [
            "[[0.79832448 0.44923861 0.95274259 0.03193135]\n",
            " [0.18441813 0.71417358 0.76371195 0.11957117]\n",
            " [0.37578601 0.11936151 0.37497044 0.22944653]]\n"
          ],
          "name": "stdout"
        }
      ]
    },
    {
      "cell_type": "markdown",
      "metadata": {
        "id": "oUCihcjEFo_y"
      },
      "source": [
        "Secara default, setiap fungsi agregasi NumPy akan mengembalikan agregat ke keseluruhan\n",
        "Himpunan:"
      ]
    },
    {
      "cell_type": "code",
      "metadata": {
        "colab": {
          "base_uri": "https://localhost:8080/"
        },
        "id": "mDCASSNDFplD",
        "outputId": "055f8fdf-387c-479e-c089-4a62e5930787"
      },
      "source": [
        "M.sum()"
      ],
      "execution_count": 127,
      "outputs": [
        {
          "output_type": "execute_result",
          "data": {
            "text/plain": [
              "5.1136763453287335"
            ]
          },
          "metadata": {
            "tags": []
          },
          "execution_count": 127
        }
      ]
    },
    {
      "cell_type": "markdown",
      "metadata": {
        "id": "WVC_4hf9F3ND"
      },
      "source": [
        "**Computation on Arrays: Broadcasting**\n",
        "\n",
        "---\n",
        "Cara lain untuk melakukan vektorisasi\n",
        "operasi adalah menggunakan fungsi penyiaran NumPy. Penyiaran hanyalah a\n",
        "seperangkat aturan untuk menerapkan ufunc biner (penjumlahan, pengurangan, perkalian, dll.) di\n",
        "array dengan ukuran berbeda.\n",
        "\n",
        "---\n",
        "**Introducing Broadcasting**\n",
        "\n"
      ]
    },
    {
      "cell_type": "code",
      "metadata": {
        "id": "NB9aUthiGGcV"
      },
      "source": [
        "import numpy as np"
      ],
      "execution_count": 128,
      "outputs": []
    },
    {
      "cell_type": "code",
      "metadata": {
        "colab": {
          "base_uri": "https://localhost:8080/"
        },
        "id": "g3LWbn34GKSR",
        "outputId": "a9fbce1f-e025-4ea4-ab1d-2d686ac4a24d"
      },
      "source": [
        "a = np.array([0, 1, 2])\n",
        "b = np.array([5, 5, 5])\n",
        "a + b"
      ],
      "execution_count": 129,
      "outputs": [
        {
          "output_type": "execute_result",
          "data": {
            "text/plain": [
              "array([5, 6, 7])"
            ]
          },
          "metadata": {
            "tags": []
          },
          "execution_count": 129
        }
      ]
    },
    {
      "cell_type": "markdown",
      "metadata": {
        "id": "Vh2klsJAHBeb"
      },
      "source": [
        "Penyiaran memungkinkan jenis operasi biner ini dilakukan pada array yang berbeda\n",
        "ukuran — misalnya, kita dapat dengan mudah menambahkan skalar (anggap saja sebagai dimensi-nol\n",
        "array) ke array:"
      ]
    },
    {
      "cell_type": "code",
      "metadata": {
        "colab": {
          "base_uri": "https://localhost:8080/"
        },
        "id": "flJj-DTNHCI1",
        "outputId": "4507e2a5-3867-4dc8-9cb2-252752755390"
      },
      "source": [
        "a + 5"
      ],
      "execution_count": 130,
      "outputs": [
        {
          "output_type": "execute_result",
          "data": {
            "text/plain": [
              "array([5, 6, 7])"
            ]
          },
          "metadata": {
            "tags": []
          },
          "execution_count": 130
        }
      ]
    },
    {
      "cell_type": "code",
      "metadata": {
        "colab": {
          "base_uri": "https://localhost:8080/"
        },
        "id": "DJjLPTdlHIni",
        "outputId": "43d6cbed-e017-4529-c0e2-d9e0e62de00c"
      },
      "source": [
        "M = np.ones((3, 3))\n",
        "M"
      ],
      "execution_count": 131,
      "outputs": [
        {
          "output_type": "execute_result",
          "data": {
            "text/plain": [
              "array([[1., 1., 1.],\n",
              "       [1., 1., 1.],\n",
              "       [1., 1., 1.]])"
            ]
          },
          "metadata": {
            "tags": []
          },
          "execution_count": 131
        }
      ]
    },
    {
      "cell_type": "code",
      "metadata": {
        "colab": {
          "base_uri": "https://localhost:8080/"
        },
        "id": "S64_AiN_HKiF",
        "outputId": "a0774861-3209-4b98-8423-9ab25df31f90"
      },
      "source": [
        "M + a"
      ],
      "execution_count": 132,
      "outputs": [
        {
          "output_type": "execute_result",
          "data": {
            "text/plain": [
              "array([[1., 2., 3.],\n",
              "       [1., 2., 3.],\n",
              "       [1., 2., 3.]])"
            ]
          },
          "metadata": {
            "tags": []
          },
          "execution_count": 132
        }
      ]
    },
    {
      "cell_type": "markdown",
      "metadata": {
        "id": "SweKqGHwHbW0"
      },
      "source": [
        "**Comparison Operators as ufuncs**"
      ]
    },
    {
      "cell_type": "code",
      "metadata": {
        "id": "jBCdfEeyHdLJ"
      },
      "source": [
        "x = np.array([1, 2, 3, 4, 5])\n"
      ],
      "execution_count": 133,
      "outputs": []
    },
    {
      "cell_type": "code",
      "metadata": {
        "colab": {
          "base_uri": "https://localhost:8080/"
        },
        "id": "gqn0yNIPHhaN",
        "outputId": "5f3c3137-7b5a-4692-f0c8-422722275afb"
      },
      "source": [
        "x < 3 # less than"
      ],
      "execution_count": 134,
      "outputs": [
        {
          "output_type": "execute_result",
          "data": {
            "text/plain": [
              "array([ True,  True, False, False, False])"
            ]
          },
          "metadata": {
            "tags": []
          },
          "execution_count": 134
        }
      ]
    },
    {
      "cell_type": "code",
      "metadata": {
        "colab": {
          "base_uri": "https://localhost:8080/"
        },
        "id": "uPyQFYZ1HmyN",
        "outputId": "2f09e771-3dc2-490d-87d8-36cf3278c3ce"
      },
      "source": [
        "x >= 3 # greater than or equal"
      ],
      "execution_count": 135,
      "outputs": [
        {
          "output_type": "execute_result",
          "data": {
            "text/plain": [
              "array([False, False,  True,  True,  True])"
            ]
          },
          "metadata": {
            "tags": []
          },
          "execution_count": 135
        }
      ]
    },
    {
      "cell_type": "code",
      "metadata": {
        "colab": {
          "base_uri": "https://localhost:8080/"
        },
        "id": "sjFsUQ7eHphv",
        "outputId": "1a8887c3-57d6-4b5a-9948-a2476f97d393"
      },
      "source": [
        "x != 3 # not equal"
      ],
      "execution_count": 136,
      "outputs": [
        {
          "output_type": "execute_result",
          "data": {
            "text/plain": [
              "array([ True,  True, False,  True,  True])"
            ]
          },
          "metadata": {
            "tags": []
          },
          "execution_count": 136
        }
      ]
    },
    {
      "cell_type": "code",
      "metadata": {
        "colab": {
          "base_uri": "https://localhost:8080/"
        },
        "id": "icTMLNGwHslX",
        "outputId": "8cc90d1c-76e2-4de3-d131-9486d81d376a"
      },
      "source": [
        "(2 * x) == (x ** 2)"
      ],
      "execution_count": 137,
      "outputs": [
        {
          "output_type": "execute_result",
          "data": {
            "text/plain": [
              "array([False,  True, False, False, False])"
            ]
          },
          "metadata": {
            "tags": []
          },
          "execution_count": 137
        }
      ]
    },
    {
      "cell_type": "code",
      "metadata": {
        "colab": {
          "base_uri": "https://localhost:8080/"
        },
        "id": "v2U_Oac3Hw10",
        "outputId": "82699b35-70b8-4cfc-91a7-fb0e51b5c399"
      },
      "source": [
        "rng = np.random.RandomState(0)\n",
        "x = rng.randint(10, size=(3, 4))\n",
        "x"
      ],
      "execution_count": 138,
      "outputs": [
        {
          "output_type": "execute_result",
          "data": {
            "text/plain": [
              "array([[5, 0, 3, 3],\n",
              "       [7, 9, 3, 5],\n",
              "       [2, 4, 7, 6]])"
            ]
          },
          "metadata": {
            "tags": []
          },
          "execution_count": 138
        }
      ]
    },
    {
      "cell_type": "code",
      "metadata": {
        "colab": {
          "base_uri": "https://localhost:8080/"
        },
        "id": "krsSZFLcHzNx",
        "outputId": "3f780135-3111-47d7-f24f-1e64c8c2b2bb"
      },
      "source": [
        "x < 6"
      ],
      "execution_count": 139,
      "outputs": [
        {
          "output_type": "execute_result",
          "data": {
            "text/plain": [
              "array([[ True,  True,  True,  True],\n",
              "       [False, False,  True,  True],\n",
              "       [ True,  True, False, False]])"
            ]
          },
          "metadata": {
            "tags": []
          },
          "execution_count": 139
        }
      ]
    },
    {
      "cell_type": "markdown",
      "metadata": {
        "id": "0lmSicr3H52V"
      },
      "source": [
        "**Working with Boolean Arrays**"
      ]
    },
    {
      "cell_type": "code",
      "metadata": {
        "colab": {
          "base_uri": "https://localhost:8080/"
        },
        "id": "F2NRJ6SPH7wj",
        "outputId": "9fb2123b-0ea2-49ff-99c9-bccffba04677"
      },
      "source": [
        "print(x)"
      ],
      "execution_count": 140,
      "outputs": [
        {
          "output_type": "stream",
          "text": [
            "[[5 0 3 3]\n",
            " [7 9 3 5]\n",
            " [2 4 7 6]]\n"
          ],
          "name": "stdout"
        }
      ]
    },
    {
      "cell_type": "code",
      "metadata": {
        "colab": {
          "base_uri": "https://localhost:8080/"
        },
        "id": "cZ9GOEiTH_pr",
        "outputId": "8753e3d8-f6cc-4526-dd7b-4260e31dc8b4"
      },
      "source": [
        "# how many values less than 6?\n",
        "np.count_nonzero(x < 6)"
      ],
      "execution_count": 141,
      "outputs": [
        {
          "output_type": "execute_result",
          "data": {
            "text/plain": [
              "8"
            ]
          },
          "metadata": {
            "tags": []
          },
          "execution_count": 141
        }
      ]
    },
    {
      "cell_type": "code",
      "metadata": {
        "colab": {
          "base_uri": "https://localhost:8080/"
        },
        "id": "Cf-acJLmIDHD",
        "outputId": "6e5065d7-1c94-4f36-98d3-aed79b1cdf74"
      },
      "source": [
        "#how many values less than 6 in each row?\n",
        "np.sum(x < 6, axis=1)"
      ],
      "execution_count": 142,
      "outputs": [
        {
          "output_type": "execute_result",
          "data": {
            "text/plain": [
              "array([4, 2, 2])"
            ]
          },
          "metadata": {
            "tags": []
          },
          "execution_count": 142
        }
      ]
    },
    {
      "cell_type": "code",
      "metadata": {
        "colab": {
          "base_uri": "https://localhost:8080/"
        },
        "id": "GmvHTQvsIJlF",
        "outputId": "a3385ced-efb4-4f2e-80aa-fd2c218d3ad4"
      },
      "source": [
        "# are there any values less than zero?\n",
        "np.any(x < 0)"
      ],
      "execution_count": 143,
      "outputs": [
        {
          "output_type": "execute_result",
          "data": {
            "text/plain": [
              "False"
            ]
          },
          "metadata": {
            "tags": []
          },
          "execution_count": 143
        }
      ]
    },
    {
      "cell_type": "code",
      "metadata": {
        "colab": {
          "base_uri": "https://localhost:8080/"
        },
        "id": "C_YxFmgsIMFA",
        "outputId": "867267bc-f012-46dc-ef44-d1541887aa06"
      },
      "source": [
        "# are all values equal to 6?\n",
        "np.all(x == 6)"
      ],
      "execution_count": 144,
      "outputs": [
        {
          "output_type": "execute_result",
          "data": {
            "text/plain": [
              "False"
            ]
          },
          "metadata": {
            "tags": []
          },
          "execution_count": 144
        }
      ]
    },
    {
      "cell_type": "markdown",
      "metadata": {
        "id": "ZFmZWVnBIb1X"
      },
      "source": [
        "**Boolean operators**"
      ]
    },
    {
      "cell_type": "code",
      "metadata": {
        "colab": {
          "base_uri": "https://localhost:8080/"
        },
        "id": "MaF_yHMhIdm0",
        "outputId": "8c770da3-7b10-488f-af0f-a37ea5daa064"
      },
      "source": [
        "x"
      ],
      "execution_count": 148,
      "outputs": [
        {
          "output_type": "execute_result",
          "data": {
            "text/plain": [
              "array([[5, 0, 3, 3],\n",
              "       [7, 9, 3, 5],\n",
              "       [2, 4, 7, 6]])"
            ]
          },
          "metadata": {
            "tags": []
          },
          "execution_count": 148
        }
      ]
    },
    {
      "cell_type": "code",
      "metadata": {
        "colab": {
          "base_uri": "https://localhost:8080/"
        },
        "id": "s61dtwSWJ3H_",
        "outputId": "d7238f54-b86b-4fb0-f42a-47e4445102d5"
      },
      "source": [
        "x < 5"
      ],
      "execution_count": 149,
      "outputs": [
        {
          "output_type": "execute_result",
          "data": {
            "text/plain": [
              "array([[False,  True,  True,  True],\n",
              "       [False, False,  True, False],\n",
              "       [ True,  True, False, False]])"
            ]
          },
          "metadata": {
            "tags": []
          },
          "execution_count": 149
        }
      ]
    },
    {
      "cell_type": "code",
      "metadata": {
        "colab": {
          "base_uri": "https://localhost:8080/"
        },
        "id": "SIYbJhMlJ7-A",
        "outputId": "4f341411-29e1-48c2-b92a-6965c282ec14"
      },
      "source": [
        "x[x < 5]"
      ],
      "execution_count": 150,
      "outputs": [
        {
          "output_type": "execute_result",
          "data": {
            "text/plain": [
              "array([0, 3, 3, 3, 2, 4])"
            ]
          },
          "metadata": {
            "tags": []
          },
          "execution_count": 150
        }
      ]
    },
    {
      "cell_type": "markdown",
      "metadata": {
        "id": "itN8Jm1OKCJg"
      },
      "source": [
        "**Using the Keywords and/or Versus the Operators &/|**"
      ]
    },
    {
      "cell_type": "code",
      "metadata": {
        "colab": {
          "base_uri": "https://localhost:8080/"
        },
        "id": "B7NHZqCFKEMg",
        "outputId": "dc3a176e-c343-49ed-d318-01a52cdbded2"
      },
      "source": [
        "bool(42), bool(0)"
      ],
      "execution_count": 151,
      "outputs": [
        {
          "output_type": "execute_result",
          "data": {
            "text/plain": [
              "(True, False)"
            ]
          },
          "metadata": {
            "tags": []
          },
          "execution_count": 151
        }
      ]
    },
    {
      "cell_type": "code",
      "metadata": {
        "colab": {
          "base_uri": "https://localhost:8080/"
        },
        "id": "gE9hiupGKI7x",
        "outputId": "bbf141f2-a4c7-44f2-a2f8-e54b5879f1c6"
      },
      "source": [
        "bool(42 and 0)"
      ],
      "execution_count": 152,
      "outputs": [
        {
          "output_type": "execute_result",
          "data": {
            "text/plain": [
              "False"
            ]
          },
          "metadata": {
            "tags": []
          },
          "execution_count": 152
        }
      ]
    },
    {
      "cell_type": "code",
      "metadata": {
        "colab": {
          "base_uri": "https://localhost:8080/"
        },
        "id": "X5qhes3rKKuX",
        "outputId": "da79e18f-9fcc-4780-a329-4aa2ab799888"
      },
      "source": [
        "bool(42 or 0)"
      ],
      "execution_count": 153,
      "outputs": [
        {
          "output_type": "execute_result",
          "data": {
            "text/plain": [
              "True"
            ]
          },
          "metadata": {
            "tags": []
          },
          "execution_count": 153
        }
      ]
    },
    {
      "cell_type": "code",
      "metadata": {
        "colab": {
          "base_uri": "https://localhost:8080/",
          "height": 35
        },
        "id": "QjpJ0DgrKOyA",
        "outputId": "0cc7acd9-1451-498a-9d33-38269e0ef332"
      },
      "source": [
        "bin(42 & 59)"
      ],
      "execution_count": 154,
      "outputs": [
        {
          "output_type": "execute_result",
          "data": {
            "application/vnd.google.colaboratory.intrinsic+json": {
              "type": "string"
            },
            "text/plain": [
              "'0b101010'"
            ]
          },
          "metadata": {
            "tags": []
          },
          "execution_count": 154
        }
      ]
    },
    {
      "cell_type": "code",
      "metadata": {
        "colab": {
          "base_uri": "https://localhost:8080/",
          "height": 35
        },
        "id": "g5NQ-lQYKQzJ",
        "outputId": "47267564-2426-48ea-b1e1-73db1b1469ee"
      },
      "source": [
        "bin(42 | 59)"
      ],
      "execution_count": 155,
      "outputs": [
        {
          "output_type": "execute_result",
          "data": {
            "application/vnd.google.colaboratory.intrinsic+json": {
              "type": "string"
            },
            "text/plain": [
              "'0b111011'"
            ]
          },
          "metadata": {
            "tags": []
          },
          "execution_count": 155
        }
      ]
    },
    {
      "cell_type": "code",
      "metadata": {
        "colab": {
          "base_uri": "https://localhost:8080/"
        },
        "id": "4jIG-fb2KUOw",
        "outputId": "cc826ae3-ce56-4153-856d-387f9554bfa3"
      },
      "source": [
        "A = np.array([1, 0, 1, 0, 1, 0], dtype=bool)\n",
        "B = np.array([1, 1, 1, 0, 1, 1], dtype=bool)\n",
        "A | B"
      ],
      "execution_count": 156,
      "outputs": [
        {
          "output_type": "execute_result",
          "data": {
            "text/plain": [
              "array([ True,  True,  True, False,  True,  True])"
            ]
          },
          "metadata": {
            "tags": []
          },
          "execution_count": 156
        }
      ]
    },
    {
      "cell_type": "markdown",
      "metadata": {
        "id": "GHyszbipKbav"
      },
      "source": [
        "**Exploring Fancy Indexing**"
      ]
    },
    {
      "cell_type": "code",
      "metadata": {
        "colab": {
          "base_uri": "https://localhost:8080/"
        },
        "id": "hoElc7-iKdPf",
        "outputId": "5bf04edb-2be9-422c-f140-4f531a0bf1e5"
      },
      "source": [
        "import numpy as np\n",
        "rand = np.random.RandomState(42)\n",
        "x = rand.randint(100, size=10)\n",
        "print(x)"
      ],
      "execution_count": 157,
      "outputs": [
        {
          "output_type": "stream",
          "text": [
            "[51 92 14 71 60 20 82 86 74 74]\n"
          ],
          "name": "stdout"
        }
      ]
    },
    {
      "cell_type": "code",
      "metadata": {
        "colab": {
          "base_uri": "https://localhost:8080/"
        },
        "id": "i8_WAL2oKgl7",
        "outputId": "a089be55-b92f-4fc0-fdbc-d66ceb32bbf2"
      },
      "source": [
        "[x[3], x[7], x[2]]"
      ],
      "execution_count": 158,
      "outputs": [
        {
          "output_type": "execute_result",
          "data": {
            "text/plain": [
              "[71, 86, 14]"
            ]
          },
          "metadata": {
            "tags": []
          },
          "execution_count": 158
        }
      ]
    },
    {
      "cell_type": "code",
      "metadata": {
        "colab": {
          "base_uri": "https://localhost:8080/"
        },
        "id": "n2J8a-2YKjN7",
        "outputId": "0bd88bb3-67ac-41d6-df67-581f57515c16"
      },
      "source": [
        "ind = [3, 7, 4]\n",
        "x[ind]"
      ],
      "execution_count": 159,
      "outputs": [
        {
          "output_type": "execute_result",
          "data": {
            "text/plain": [
              "array([71, 86, 60])"
            ]
          },
          "metadata": {
            "tags": []
          },
          "execution_count": 159
        }
      ]
    },
    {
      "cell_type": "code",
      "metadata": {
        "colab": {
          "base_uri": "https://localhost:8080/"
        },
        "id": "T9t5rwPFKmkt",
        "outputId": "4788a28b-cd7b-41f3-b8d3-262b69080e31"
      },
      "source": [
        "X = np.arange(12).reshape((3, 4))\n",
        "X"
      ],
      "execution_count": 160,
      "outputs": [
        {
          "output_type": "execute_result",
          "data": {
            "text/plain": [
              "array([[ 0,  1,  2,  3],\n",
              "       [ 4,  5,  6,  7],\n",
              "       [ 8,  9, 10, 11]])"
            ]
          },
          "metadata": {
            "tags": []
          },
          "execution_count": 160
        }
      ]
    },
    {
      "cell_type": "code",
      "metadata": {
        "colab": {
          "base_uri": "https://localhost:8080/"
        },
        "id": "U6vVT5xIKo05",
        "outputId": "2300c240-813f-44b9-a77f-6e6804249eb7"
      },
      "source": [
        "row = np.array([0, 1, 2])\n",
        "col = np.array([2, 1, 3])\n",
        "X[row, col]"
      ],
      "execution_count": 161,
      "outputs": [
        {
          "output_type": "execute_result",
          "data": {
            "text/plain": [
              "array([ 2,  5, 11])"
            ]
          },
          "metadata": {
            "tags": []
          },
          "execution_count": 161
        }
      ]
    },
    {
      "cell_type": "markdown",
      "metadata": {
        "id": "m-UPRMC8KuBZ"
      },
      "source": [
        "**Combined Indexing**"
      ]
    },
    {
      "cell_type": "code",
      "metadata": {
        "colab": {
          "base_uri": "https://localhost:8080/"
        },
        "id": "AOtBCxbMKvxu",
        "outputId": "464046cd-b9af-4f9d-baf5-03f98b4306dd"
      },
      "source": [
        "print(X)"
      ],
      "execution_count": 162,
      "outputs": [
        {
          "output_type": "stream",
          "text": [
            "[[ 0  1  2  3]\n",
            " [ 4  5  6  7]\n",
            " [ 8  9 10 11]]\n"
          ],
          "name": "stdout"
        }
      ]
    },
    {
      "cell_type": "code",
      "metadata": {
        "colab": {
          "base_uri": "https://localhost:8080/"
        },
        "id": "1u_HhN5dK4Ep",
        "outputId": "a663f7ba-15e2-42dc-93f5-0c209e580ea1"
      },
      "source": [
        "X[2, [2, 0, 1]]"
      ],
      "execution_count": 163,
      "outputs": [
        {
          "output_type": "execute_result",
          "data": {
            "text/plain": [
              "array([10,  8,  9])"
            ]
          },
          "metadata": {
            "tags": []
          },
          "execution_count": 163
        }
      ]
    },
    {
      "cell_type": "code",
      "metadata": {
        "colab": {
          "base_uri": "https://localhost:8080/"
        },
        "id": "pFsL2yyOK-R1",
        "outputId": "66032bff-9c31-40eb-a35a-c8c5baabeb75"
      },
      "source": [
        "X[1:, [2, 0, 1]]"
      ],
      "execution_count": 164,
      "outputs": [
        {
          "output_type": "execute_result",
          "data": {
            "text/plain": [
              "array([[ 6,  4,  5],\n",
              "       [10,  8,  9]])"
            ]
          },
          "metadata": {
            "tags": []
          },
          "execution_count": 164
        }
      ]
    },
    {
      "cell_type": "code",
      "metadata": {
        "colab": {
          "base_uri": "https://localhost:8080/"
        },
        "id": "cbTAWxDILAFS",
        "outputId": "b8a6eed9-3108-4040-ba71-124ffceee3b8"
      },
      "source": [
        "mask = np.array([1, 0, 1, 0], dtype=bool)\n",
        "X[row[:, np.newaxis], mask]"
      ],
      "execution_count": 165,
      "outputs": [
        {
          "output_type": "execute_result",
          "data": {
            "text/plain": [
              "array([[ 0,  2],\n",
              "       [ 4,  6],\n",
              "       [ 8, 10]])"
            ]
          },
          "metadata": {
            "tags": []
          },
          "execution_count": 165
        }
      ]
    },
    {
      "cell_type": "markdown",
      "metadata": {
        "id": "QN7z-Ri1LFv8"
      },
      "source": [
        "**Example: Selecting Random Points**"
      ]
    },
    {
      "cell_type": "code",
      "metadata": {
        "colab": {
          "base_uri": "https://localhost:8080/"
        },
        "id": "ly9O4ebRLHj5",
        "outputId": "e42fe047-dbd6-45eb-8af9-e0674c81b650"
      },
      "source": [
        "mean = [0, 0]\n",
        "cov = [[1, 2],\n",
        "[2, 5]]\n",
        "X = rand.multivariate_normal(mean, cov, 100)\n",
        "X.shape"
      ],
      "execution_count": 166,
      "outputs": [
        {
          "output_type": "execute_result",
          "data": {
            "text/plain": [
              "(100, 2)"
            ]
          },
          "metadata": {
            "tags": []
          },
          "execution_count": 166
        }
      ]
    },
    {
      "cell_type": "code",
      "metadata": {
        "colab": {
          "base_uri": "https://localhost:8080/",
          "height": 268
        },
        "id": "Woj8xBrdLLPY",
        "outputId": "3c5995aa-1d01-4dc0-9759-b283ddd2ae57"
      },
      "source": [
        "%matplotlib inline\n",
        "import matplotlib.pyplot as plt\n",
        "import seaborn; seaborn.set() # for plot styling\n",
        "plt.scatter(X[:, 0], X[:, 1]);"
      ],
      "execution_count": 167,
      "outputs": [
        {
          "output_type": "display_data",
          "data": {
            "image/png": "[encoded data removed]",
            "text/plain": [
              "<Figure size 432x288 with 1 Axes>"
            ]
          },
          "metadata": {
            "tags": []
          }
        }
      ]
    },
    {
      "cell_type": "code",
      "metadata": {
        "colab": {
          "base_uri": "https://localhost:8080/"
        },
        "id": "hS2rSBbfLPuz",
        "outputId": "ae5e90f9-5ddd-49b5-faaf-32d5441ceef5"
      },
      "source": [
        "indices = np.random.choice(X.shape[0], 20, replace=False)\n",
        "indices"
      ],
      "execution_count": 168,
      "outputs": [
        {
          "output_type": "execute_result",
          "data": {
            "text/plain": [
              "array([45, 94, 92,  1, 73, 43, 89, 36, 49,  4, 87, 27, 12, 80, 38, 35,  0,\n",
              "       77, 63, 74])"
            ]
          },
          "metadata": {
            "tags": []
          },
          "execution_count": 168
        }
      ]
    },
    {
      "cell_type": "code",
      "metadata": {
        "colab": {
          "base_uri": "https://localhost:8080/"
        },
        "id": "cMzAu3t0LSBc",
        "outputId": "ed6e3257-24e5-427b-9941-154a37ec36ca"
      },
      "source": [
        "selection = X[indices] # fancy indexing here\n",
        "selection.shape"
      ],
      "execution_count": 169,
      "outputs": [
        {
          "output_type": "execute_result",
          "data": {
            "text/plain": [
              "(20, 2)"
            ]
          },
          "metadata": {
            "tags": []
          },
          "execution_count": 169
        }
      ]
    },
    {
      "cell_type": "code",
      "metadata": {
        "colab": {
          "base_uri": "https://localhost:8080/",
          "height": 268
        },
        "id": "v9Czpj5BLUAd",
        "outputId": "4310753a-9405-4fc2-cb1d-6e01d93c3910"
      },
      "source": [
        "plt.scatter(X[:, 0], X[:, 1], alpha=0.3)\n",
        "plt.scatter(selection[:, 0], selection[:, 1],\n",
        "facecolor='none', s=200);"
      ],
      "execution_count": 170,
      "outputs": [
        {
          "output_type": "display_data",
          "data": {
            "image/png": "[encoded data removed]",
            "text/plain": [
              "<Figure size 432x288 with 1 Axes>"
            ]
          },
          "metadata": {
            "tags": []
          }
        }
      ]
    },
    {
      "cell_type": "markdown",
      "metadata": {
        "id": "KHqZLhVTLYsV"
      },
      "source": [
        "**Modifying Values with Fancy Indexing**"
      ]
    },
    {
      "cell_type": "code",
      "metadata": {
        "colab": {
          "base_uri": "https://localhost:8080/"
        },
        "id": "d855irAQLad_",
        "outputId": "5f600372-8b77-4ea6-bf02-d7b951465760"
      },
      "source": [
        "x = np.arange(10)\n",
        "i = np.array([2, 1, 8, 4])\n",
        "x[i] = 99\n",
        "print(x)"
      ],
      "execution_count": 171,
      "outputs": [
        {
          "output_type": "stream",
          "text": [
            "[ 0 99 99  3 99  5  6  7 99  9]\n"
          ],
          "name": "stdout"
        }
      ]
    },
    {
      "cell_type": "code",
      "metadata": {
        "colab": {
          "base_uri": "https://localhost:8080/"
        },
        "id": "CJnAHQbsLfX2",
        "outputId": "26682cea-f442-4a54-b717-92362c80be3b"
      },
      "source": [
        "x[i] -= 10\n",
        "print(x)"
      ],
      "execution_count": 172,
      "outputs": [
        {
          "output_type": "stream",
          "text": [
            "[ 0 89 89  3 89  5  6  7 89  9]\n"
          ],
          "name": "stdout"
        }
      ]
    },
    {
      "cell_type": "code",
      "metadata": {
        "colab": {
          "base_uri": "https://localhost:8080/"
        },
        "id": "OFD5NMgOLh7h",
        "outputId": "9b049966-1bc8-4144-bd26-03ca39530eae"
      },
      "source": [
        "x = np.zeros(10)\n",
        "x[[0, 0]] = [4, 6]\n",
        "print(x)"
      ],
      "execution_count": 173,
      "outputs": [
        {
          "output_type": "stream",
          "text": [
            "[6. 0. 0. 0. 0. 0. 0. 0. 0. 0.]\n"
          ],
          "name": "stdout"
        }
      ]
    },
    {
      "cell_type": "markdown",
      "metadata": {
        "id": "R1oV0xieLmfw"
      },
      "source": [
        "**Example: Binning Data**"
      ]
    },
    {
      "cell_type": "code",
      "metadata": {
        "id": "CbHqejwbLoZv"
      },
      "source": [
        "np.random.seed(42)\n",
        "x = np.random.randn(100)\n",
        "# compute a histogram by hand\n",
        "bins = np.linspace(-5, 5, 20)\n",
        "counts = np.zeros_like(bins)\n",
        "# find the appropriate bin for each x\n",
        "i = np.searchsorted(bins, x)\n",
        "# add 1 to each of these bins\n",
        "np.add.at(counts, i, 1)"
      ],
      "execution_count": 174,
      "outputs": []
    },
    {
      "cell_type": "code",
      "metadata": {
        "colab": {
          "base_uri": "https://localhost:8080/",
          "height": 322
        },
        "id": "-b7XKPr0Lr5U",
        "outputId": "019110a7-da65-4d26-b6a9-99c2d6fa25e4"
      },
      "source": [
        "# plot the results\n",
        "plt.plot(bins, counts, linestyle='steps');"
      ],
      "execution_count": 175,
      "outputs": [
        {
          "output_type": "stream",
          "text": [
            "/usr/local/lib/python3.7/dist-packages/ipykernel_launcher.py:2: MatplotlibDeprecationWarning: Passing the drawstyle with the linestyle as a single string is deprecated since Matplotlib 3.1 and support will be removed in 3.3; please pass the drawstyle separately using the drawstyle keyword argument to Line2D or set_drawstyle() method (or ds/set_ds()).\n",
            "  \n"
          ],
          "name": "stderr"
        },
        {
          "output_type": "display_data",
          "data": {
            "image/png": "[encoded data removed]",
            "text/plain": [
              "<Figure size 432x288 with 1 Axes>"
            ]
          },
          "metadata": {
            "tags": []
          }
        }
      ]
    },
    {
      "cell_type": "markdown",
      "metadata": {
        "id": "smkce5nVL0kv"
      },
      "source": [
        "**Sorting Arrays**"
      ]
    },
    {
      "cell_type": "code",
      "metadata": {
        "id": "AIyJXy-yL2HN"
      },
      "source": [
        "import numpy as np\n",
        "def selection_sort(x):\n",
        "  for i in range(len(x)):\n",
        "    swap = i + np.argmin(x[i:])\n",
        "    (x[i], x[swap]) = (x[swap], x[i])\n",
        "  return x"
      ],
      "execution_count": 176,
      "outputs": []
    },
    {
      "cell_type": "code",
      "metadata": {
        "colab": {
          "base_uri": "https://localhost:8080/"
        },
        "id": "VpvLEfC_L85A",
        "outputId": "8680a2e4-fb30-4f79-a431-e8633b7b92d2"
      },
      "source": [
        "x = np.array([2, 1, 4, 3, 5])\n",
        "selection_sort(x)"
      ],
      "execution_count": 177,
      "outputs": [
        {
          "output_type": "execute_result",
          "data": {
            "text/plain": [
              "array([1, 2, 3, 4, 5])"
            ]
          },
          "metadata": {
            "tags": []
          },
          "execution_count": 177
        }
      ]
    },
    {
      "cell_type": "code",
      "metadata": {
        "id": "J-RI7r_GL_5g"
      },
      "source": [
        "def bogosort(x):\n",
        "  while np.any(x[:-1] > x[1:]):\n",
        "    np.random.shuffle(x)\n",
        "  return x"
      ],
      "execution_count": 178,
      "outputs": []
    },
    {
      "cell_type": "code",
      "metadata": {
        "colab": {
          "base_uri": "https://localhost:8080/"
        },
        "id": "ea5y582EMDNF",
        "outputId": "8d8c2972-c3dc-49b0-9912-e8618da19f1e"
      },
      "source": [
        "x = np.array([2, 1, 4, 3, 5])\n",
        "bogosort(x)"
      ],
      "execution_count": 179,
      "outputs": [
        {
          "output_type": "execute_result",
          "data": {
            "text/plain": [
              "array([1, 2, 3, 4, 5])"
            ]
          },
          "metadata": {
            "tags": []
          },
          "execution_count": 179
        }
      ]
    },
    {
      "cell_type": "markdown",
      "metadata": {
        "id": "dLa9nVw1OoRb"
      },
      "source": [
        "**Creating Structured Arrays**"
      ]
    },
    {
      "cell_type": "code",
      "metadata": {
        "colab": {
          "base_uri": "https://localhost:8080/"
        },
        "id": "uuPkzwG2Ot4K",
        "outputId": "228f57af-a336-46eb-8a47-c803e35ac33b"
      },
      "source": [
        "np.dtype({'names':('name', 'age', 'weight'),\n",
        "'formats':('U10', 'i4', 'f8')})"
      ],
      "execution_count": 180,
      "outputs": [
        {
          "output_type": "execute_result",
          "data": {
            "text/plain": [
              "dtype([('name', '<U10'), ('age', '<i4'), ('weight', '<f8')])"
            ]
          },
          "metadata": {
            "tags": []
          },
          "execution_count": 180
        }
      ]
    },
    {
      "cell_type": "code",
      "metadata": {
        "colab": {
          "base_uri": "https://localhost:8080/"
        },
        "id": "1pZO-HXzOzOW",
        "outputId": "421aa572-9bf8-4e02-9e72-dbc1bd4d40c1"
      },
      "source": [
        "np.dtype([('name', 'S10'), ('age', 'i4'), ('weight', 'f8')])"
      ],
      "execution_count": 181,
      "outputs": [
        {
          "output_type": "execute_result",
          "data": {
            "text/plain": [
              "dtype([('name', 'S10'), ('age', '<i4'), ('weight', '<f8')])"
            ]
          },
          "metadata": {
            "tags": []
          },
          "execution_count": 181
        }
      ]
    },
    {
      "cell_type": "markdown",
      "metadata": {
        "id": "stCbn0SSO3Nu"
      },
      "source": [
        "**More Advanced Compound Types**"
      ]
    },
    {
      "cell_type": "code",
      "metadata": {
        "colab": {
          "base_uri": "https://localhost:8080/"
        },
        "id": "D9K_vcfKO4zm",
        "outputId": "4a4834b3-7ab9-48ec-87c2-f0f6ae0b1cdd"
      },
      "source": [
        "tp = np.dtype([('id', 'i8'), ('mat', 'f8', (3, 3))])\n",
        "X = np.zeros(1, dtype=tp)\n",
        "print(X[0])\n",
        "print(X['mat'][0])"
      ],
      "execution_count": 182,
      "outputs": [
        {
          "output_type": "stream",
          "text": [
            "(0, [[0., 0., 0.], [0., 0., 0.], [0., 0., 0.]])\n",
            "[[0. 0. 0.]\n",
            " [0. 0. 0.]\n",
            " [0. 0. 0.]]\n"
          ],
          "name": "stdout"
        }
      ]
    }
  ]
}