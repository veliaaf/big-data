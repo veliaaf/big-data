{
  "nbformat": 4,
  "nbformat_minor": 0,
  "metadata": {
    "colab": {
      "name": "Untitled1.ipynb",
      "provenance": [],
      "authorship_tag": "ABX9TyNaX7/ouMBwY+sQukrHsL2e",
      "include_colab_link": true
    },
    "kernelspec": {
      "name": "python3",
      "display_name": "Python 3"
    },
    "language_info": {
      "name": "python"
    }
  },
  "cells": [
    {
      "cell_type": "markdown",
      "metadata": {
        "id": "view-in-github",
        "colab_type": "text"
      },
      "source": [
        "<a href=\"https://colab.research.google.com/github/veliaaf/big-data/blob/main/Tugas1_noabsenGanjil.ipynb\" target=\"_parent\"><img src=\"https://colab.research.google.com/assets/colab-badge.svg\" alt=\"Open In Colab\"/></a>"
      ]
    },
    {
      "cell_type": "markdown",
      "metadata": {
        "id": "ndMGjV9QVBBj"
      },
      "source": [
        "**IPython Magic Commands**"
      ]
    },
    {
      "cell_type": "code",
      "metadata": {
        "id": "qxaxK1wVU_5l"
      },
      "source": [
        ">>> def donothing(x):\n",
        "...     return x"
      ],
      "execution_count": 1,
      "outputs": []
    },
    {
      "cell_type": "code",
      "metadata": {
        "colab": {
          "base_uri": "https://localhost:8080/",
          "height": 131
        },
        "id": "vdInX7ryT5qY",
        "outputId": "8d14566b-85b3-4a71-c703-f1f9164df9d3"
      },
      "source": [
        ">>> def donothing(x):\n",
        " ...: ... return x\n",
        " ...:"
      ],
      "execution_count": 2,
      "outputs": [
        {
          "output_type": "error",
          "ename": "IndentationError",
          "evalue": "ignored",
          "traceback": [
            "\u001b[0;36m  File \u001b[0;32m\"<ipython-input-2-c399f7b64b81>\"\u001b[0;36m, line \u001b[0;32m2\u001b[0m\n\u001b[0;31m    ... return x\u001b[0m\n\u001b[0m      ^\u001b[0m\n\u001b[0;31mIndentationError\u001b[0m\u001b[0;31m:\u001b[0m expected an indented block\n"
          ]
        }
      ]
    },
    {
      "cell_type": "code",
      "metadata": {
        "colab": {
          "base_uri": "https://localhost:8080/",
          "height": 131
        },
        "id": "rWUNaiCRVP1Y",
        "outputId": "39c8067e-3adc-44e4-da18-27c143ab13f6"
      },
      "source": [
        " %paste\n",
        ">>> def donothing(x):\n",
        "...     return x"
      ],
      "execution_count": 3,
      "outputs": [
        {
          "output_type": "error",
          "ename": "SyntaxError",
          "evalue": "ignored",
          "traceback": [
            "\u001b[0;36m  File \u001b[0;32m\"<ipython-input-3-16959bc06892>\"\u001b[0;36m, line \u001b[0;32m2\u001b[0m\n\u001b[0;31m    >>> def donothing(x):\u001b[0m\n\u001b[0m     ^\u001b[0m\n\u001b[0;31mSyntaxError\u001b[0m\u001b[0;31m:\u001b[0m invalid syntax\n"
          ]
        }
      ]
    },
    {
      "cell_type": "code",
      "metadata": {
        "colab": {
          "base_uri": "https://localhost:8080/"
        },
        "id": "e_RXu63CVY85",
        "outputId": "353163d3-6f32-40a8-d4cb-fe733e92d74f"
      },
      "source": [
        "donothing(10)"
      ],
      "execution_count": 4,
      "outputs": [
        {
          "output_type": "execute_result",
          "data": {
            "text/plain": [
              "10"
            ]
          },
          "metadata": {
            "tags": []
          },
          "execution_count": 4
        }
      ]
    },
    {
      "cell_type": "markdown",
      "metadata": {
        "id": "8ygHe2lTWVG_"
      },
      "source": [
        "Perintah dengan maksud yang sama adalah% cpaste, yang membuka multiline interaktif\n",
        "prompt di mana Anda dapat menempelkan satu atau lebih potongan kode untuk dieksekusi dalam satu batch"
      ]
    },
    {
      "cell_type": "code",
      "metadata": {
        "colab": {
          "base_uri": "https://localhost:8080/",
          "height": 131
        },
        "id": "EXsGwDKLWL2U",
        "outputId": "6ece45dd-c658-4b2f-b3bf-e9ab0d42e1c9"
      },
      "source": [
        "%paste\n",
        ">>> def donothing(x):\n",
        "...     return x\n",
        "## -- End pasted text --"
      ],
      "execution_count": 9,
      "outputs": [
        {
          "output_type": "error",
          "ename": "SyntaxError",
          "evalue": "ignored",
          "traceback": [
            "\u001b[0;36m  File \u001b[0;32m\"<ipython-input-9-877bef590160>\"\u001b[0;36m, line \u001b[0;32m2\u001b[0m\n\u001b[0;31m    >>> def donothing(x):\u001b[0m\n\u001b[0m     ^\u001b[0m\n\u001b[0;31mSyntaxError\u001b[0m\u001b[0;31m:\u001b[0m invalid syntax\n"
          ]
        }
      ]
    },
    {
      "cell_type": "markdown",
      "metadata": {
        "id": "adG-4k8oXiI5"
      },
      "source": [
        "Magic Command ini, seperti perintah lain yang akan kita lihat, menyediakan fungsionalitas yang semestinya\n",
        "sulit atau tidak mungkin dalam penerjemah Python standar"
      ]
    },
    {
      "cell_type": "markdown",
      "metadata": {
        "id": "6oqdKqjFXuQi"
      },
      "source": [
        "**Running External Code: %run**"
      ]
    },
    {
      "cell_type": "code",
      "metadata": {
        "colab": {
          "base_uri": "https://localhost:8080/"
        },
        "id": "prmgSgQdXlJt",
        "outputId": "ba904957-2bb5-4658-d83d-eccd2ab4aac6"
      },
      "source": [
        "donothing(10)"
      ],
      "execution_count": 10,
      "outputs": [
        {
          "output_type": "execute_result",
          "data": {
            "text/plain": [
              "10"
            ]
          },
          "metadata": {
            "tags": []
          },
          "execution_count": 10
        }
      ]
    },
    {
      "cell_type": "code",
      "metadata": {
        "colab": {
          "base_uri": "https://localhost:8080/"
        },
        "id": "taRW-ZZeXney",
        "outputId": "e19cb199-521c-400b-e8eb-da7b334ac102"
      },
      "source": [
        "def square(x):\n",
        " \"\"\"square a number\"\"\"\n",
        " return x ** 2\n",
        "for N in range(1, 4):\n",
        " print(N, \"squared is\", square(N))"
      ],
      "execution_count": 11,
      "outputs": [
        {
          "output_type": "stream",
          "text": [
            "1 squared is 1\n",
            "2 squared is 4\n",
            "3 squared is 9\n"
          ],
          "name": "stdout"
        }
      ]
    },
    {
      "cell_type": "code",
      "metadata": {
        "colab": {
          "base_uri": "https://localhost:8080/",
          "height": 131
        },
        "id": "IsABWMbUXquM",
        "outputId": "cb864a78-714f-4ead-a678-8c2291d7a7d7"
      },
      "source": [
        "%run myscript.py\n",
        "1 squared is 1\n",
        "2 squared is 4\n",
        "3 squared is 9"
      ],
      "execution_count": 12,
      "outputs": [
        {
          "output_type": "error",
          "ename": "SyntaxError",
          "evalue": "ignored",
          "traceback": [
            "\u001b[0;36m  File \u001b[0;32m\"<ipython-input-12-dd03d74e70f7>\"\u001b[0;36m, line \u001b[0;32m2\u001b[0m\n\u001b[0;31m    1 squared is 1\u001b[0m\n\u001b[0m            ^\u001b[0m\n\u001b[0;31mSyntaxError\u001b[0m\u001b[0;31m:\u001b[0m invalid syntax\n"
          ]
        }
      ]
    },
    {
      "cell_type": "code",
      "metadata": {
        "colab": {
          "base_uri": "https://localhost:8080/"
        },
        "id": "AA7Dph4WXyqD",
        "outputId": "e6860903-6294-4d63-b2d7-b0c00f679936"
      },
      "source": [
        "square(5)"
      ],
      "execution_count": 13,
      "outputs": [
        {
          "output_type": "execute_result",
          "data": {
            "text/plain": [
              "25"
            ]
          },
          "metadata": {
            "tags": []
          },
          "execution_count": 13
        }
      ]
    },
    {
      "cell_type": "markdown",
      "metadata": {
        "id": "ALbqWfjCX6IC"
      },
      "source": [
        "**Timing Code Execution: %timeit**"
      ]
    },
    {
      "cell_type": "code",
      "metadata": {
        "colab": {
          "base_uri": "https://localhost:8080/"
        },
        "id": "a3dGARCJX7Ei",
        "outputId": "4b0a05b8-3249-45c8-acb3-6e5f866c50fc"
      },
      "source": [
        "%timeit L = [n ** 2 for n in range(1000)]"
      ],
      "execution_count": 14,
      "outputs": [
        {
          "output_type": "stream",
          "text": [
            "1000 loops, best of 5: 261 µs per loop\n"
          ],
          "name": "stdout"
        }
      ]
    },
    {
      "cell_type": "code",
      "metadata": {
        "id": "1kT_bvu-YCgK"
      },
      "source": [
        "Manfaat dari% timeit adalah bahwa untuk perintah pendek ia akan secara otomatis melakukan mul‐\n",
        "tiple berjalan untuk mencapai hasil yang lebih kuat."
      ],
      "execution_count": null,
      "outputs": []
    },
    {
      "cell_type": "code",
      "metadata": {
        "colab": {
          "base_uri": "https://localhost:8080/"
        },
        "id": "DXouVXfIYG6D",
        "outputId": "5fa00bac-c6da-40e0-d98d-f8c94e21dc04"
      },
      "source": [
        "%%timeit\n",
        "\n",
        "L = []\n",
        "\n",
        "for n in range(1000):\n",
        "  L.append(n ** 2)"
      ],
      "execution_count": 15,
      "outputs": [
        {
          "output_type": "stream",
          "text": [
            "1000 loops, best of 5: 304 µs per loop\n"
          ],
          "name": "stdout"
        }
      ]
    },
    {
      "cell_type": "markdown",
      "metadata": {
        "id": "DSvhURUJYDKa"
      },
      "source": [
        "**Help on Magic Functions: ?, %magic, and %lsmagic**"
      ]
    },
    {
      "cell_type": "code",
      "metadata": {
        "id": "41hht1yqYLvT"
      },
      "source": [
        "%timeit?"
      ],
      "execution_count": 16,
      "outputs": []
    },
    {
      "cell_type": "code",
      "metadata": {
        "id": "vPAUezfsYPA6"
      },
      "source": [
        "%magic"
      ],
      "execution_count": 17,
      "outputs": []
    },
    {
      "cell_type": "code",
      "metadata": {
        "colab": {
          "base_uri": "https://localhost:8080/",
          "height": 159
        },
        "id": "k1EQ_eWcYQ7-",
        "outputId": "194821c6-52ff-41f6-86ec-dc190d9ccbef"
      },
      "source": [
        "%lsmagic"
      ],
      "execution_count": 18,
      "outputs": [
        {
          "output_type": "execute_result",
          "data": {
            "application/json": {
              "cell": {
                "prun": "ExecutionMagics",
                "file": "Other",
                "!": "OSMagics",
                "capture": "ExecutionMagics",
                "timeit": "ExecutionMagics",
                "script": "ScriptMagics",
                "pypy": "Other",
                "system": "OSMagics",
                "perl": "Other",
                "html": "DisplayMagics",
                "bash": "Other",
                "shell": "Other",
                "HTML": "Other",
                "python": "Other",
                "SVG": "Other",
                "javascript": "DisplayMagics",
                "bigquery": "Other",
                "js": "DisplayMagics",
                "writefile": "OSMagics",
                "ruby": "Other",
                "python3": "Other",
                "python2": "Other",
                "latex": "DisplayMagics",
                "sx": "OSMagics",
                "svg": "DisplayMagics",
                "sh": "Other",
                "time": "ExecutionMagics",
                "debug": "ExecutionMagics"
              },
              "line": {
                "psource": "NamespaceMagics",
                "logstart": "LoggingMagics",
                "popd": "OSMagics",
                "tensorflow_version": "Other",
                "loadpy": "CodeMagics",
                "colors": "BasicMagics",
                "who_ls": "NamespaceMagics",
                "lf": "Other",
                "ll": "Other",
                "pprint": "BasicMagics",
                "lk": "Other",
                "ls": "Other",
                "save": "CodeMagics",
                "tb": "ExecutionMagics",
                "lx": "Other",
                "pylab": "PylabMagics",
                "killbgscripts": "ScriptMagics",
                "quickref": "BasicMagics",
                "magic": "BasicMagics",
                "dhist": "OSMagics",
                "edit": "KernelMagics",
                "logstop": "LoggingMagics",
                "gui": "BasicMagics",
                "prun": "ExecutionMagics",
                "debug": "ExecutionMagics",
                "page": "BasicMagics",
                "logstate": "LoggingMagics",
                "ed": "Other",
                "pushd": "OSMagics",
                "timeit": "ExecutionMagics",
                "set_env": "OSMagics",
                "rehashx": "OSMagics",
                "hist": "Other",
                "qtconsole": "KernelMagics",
                "rm": "Other",
                "dirs": "OSMagics",
                "run": "ExecutionMagics",
                "reset_selective": "NamespaceMagics",
                "pinfo2": "NamespaceMagics",
                "matplotlib": "PylabMagics",
                "unload_ext": "ExtensionMagics",
                "doctest_mode": "BasicMagics",
                "logoff": "LoggingMagics",
                "reload_ext": "ExtensionMagics",
                "pdb": "ExecutionMagics",
                "load": "CodeMagics",
                "lsmagic": "BasicMagics",
                "autosave": "KernelMagics",
                "cd": "OSMagics",
                "pastebin": "CodeMagics",
                "alias_magic": "BasicMagics",
                "cp": "Other",
                "autocall": "AutoMagics",
                "ldir": "Other",
                "bookmark": "OSMagics",
                "connect_info": "KernelMagics",
                "mkdir": "Other",
                "system": "OSMagics",
                "whos": "NamespaceMagics",
                "rmdir": "Other",
                "automagic": "AutoMagics",
                "store": "StoreMagics",
                "more": "KernelMagics",
                "shell": "Other",
                "pdef": "NamespaceMagics",
                "precision": "BasicMagics",
                "pinfo": "NamespaceMagics",
                "pwd": "OSMagics",
                "psearch": "NamespaceMagics",
                "reset": "NamespaceMagics",
                "recall": "HistoryMagics",
                "xdel": "NamespaceMagics",
                "xmode": "BasicMagics",
                "cat": "Other",
                "mv": "Other",
                "rerun": "HistoryMagics",
                "logon": "LoggingMagics",
                "history": "HistoryMagics",
                "pycat": "OSMagics",
                "pip": "Other",
                "unalias": "OSMagics",
                "env": "OSMagics",
                "load_ext": "ExtensionMagics",
                "config": "ConfigMagics",
                "profile": "BasicMagics",
                "pfile": "NamespaceMagics",
                "less": "KernelMagics",
                "who": "NamespaceMagics",
                "notebook": "BasicMagics",
                "man": "KernelMagics",
                "sx": "OSMagics",
                "macro": "ExecutionMagics",
                "clear": "KernelMagics",
                "alias": "OSMagics",
                "time": "ExecutionMagics",
                "sc": "OSMagics",
                "rep": "Other",
                "pdoc": "NamespaceMagics"
              }
            },
            "text/plain": [
              "Available line magics:\n",
              "%alias  %alias_magic  %autocall  %automagic  %autosave  %bookmark  %cat  %cd  %clear  %colors  %config  %connect_info  %cp  %debug  %dhist  %dirs  %doctest_mode  %ed  %edit  %env  %gui  %hist  %history  %killbgscripts  %ldir  %less  %lf  %lk  %ll  %load  %load_ext  %loadpy  %logoff  %logon  %logstart  %logstate  %logstop  %ls  %lsmagic  %lx  %macro  %magic  %man  %matplotlib  %mkdir  %more  %mv  %notebook  %page  %pastebin  %pdb  %pdef  %pdoc  %pfile  %pinfo  %pinfo2  %pip  %popd  %pprint  %precision  %profile  %prun  %psearch  %psource  %pushd  %pwd  %pycat  %pylab  %qtconsole  %quickref  %recall  %rehashx  %reload_ext  %rep  %rerun  %reset  %reset_selective  %rm  %rmdir  %run  %save  %sc  %set_env  %shell  %store  %sx  %system  %tb  %tensorflow_version  %time  %timeit  %unalias  %unload_ext  %who  %who_ls  %whos  %xdel  %xmode\n",
              "\n",
              "Available cell magics:\n",
              "%%!  %%HTML  %%SVG  %%bash  %%bigquery  %%capture  %%debug  %%file  %%html  %%javascript  %%js  %%latex  %%perl  %%prun  %%pypy  %%python  %%python2  %%python3  %%ruby  %%script  %%sh  %%shell  %%svg  %%sx  %%system  %%time  %%timeit  %%writefile\n",
              "\n",
              "Automagic is ON, % prefix IS NOT needed for line magics."
            ]
          },
          "metadata": {
            "tags": []
          },
          "execution_count": 18
        }
      ]
    },
    {
      "cell_type": "markdown",
      "metadata": {
        "id": "JuOraDA_YaMq"
      },
      "source": [
        "# **Input and Output History**\n",
        "\n",
        "**IPython’s In and Out Objects**"
      ]
    },
    {
      "cell_type": "code",
      "metadata": {
        "id": "rBfLYLuJYiv9"
      },
      "source": [
        "import math"
      ],
      "execution_count": 19,
      "outputs": []
    },
    {
      "cell_type": "code",
      "metadata": {
        "colab": {
          "base_uri": "https://localhost:8080/"
        },
        "id": "hpm6zv8lYkAi",
        "outputId": "5b9f5f93-ff3a-4fe2-80e5-ad40e7674f6f"
      },
      "source": [
        "math.sin(2)"
      ],
      "execution_count": 20,
      "outputs": [
        {
          "output_type": "execute_result",
          "data": {
            "text/plain": [
              "0.9092974268256817"
            ]
          },
          "metadata": {
            "tags": []
          },
          "execution_count": 20
        }
      ]
    },
    {
      "cell_type": "code",
      "metadata": {
        "colab": {
          "base_uri": "https://localhost:8080/"
        },
        "id": "UkNh0qGFYmP6",
        "outputId": "844862a3-d868-4a4d-823f-5e85ef650abf"
      },
      "source": [
        "math.cos(2)"
      ],
      "execution_count": 21,
      "outputs": [
        {
          "output_type": "execute_result",
          "data": {
            "text/plain": [
              "-0.4161468365471424"
            ]
          },
          "metadata": {
            "tags": []
          },
          "execution_count": 21
        }
      ]
    },
    {
      "cell_type": "code",
      "metadata": {
        "colab": {
          "base_uri": "https://localhost:8080/"
        },
        "id": "6yDR4FAlYokK",
        "outputId": "41789a02-3183-43b4-ccdd-b2a6839bab24"
      },
      "source": [
        "print(In)\n",
        "['', 'import math', 'math.sin(2)', 'math.cos(2)', 'print(In)']"
      ],
      "execution_count": 23,
      "outputs": [
        {
          "output_type": "stream",
          "text": [
            "['', 'def donothing(x):\\n    return x', 'def donothing(x):\\n... return x', \"get_ipython().magic('paste')\\n>>> def donothing(x):\\n...     return x\", 'donothing(10)', \"get_ipython().magic('cpaste')\", \"get_ipython().magic('cpaste')\\nPasting code; enter '--' alone on the line to stop or use Ctrl-D. :>>> def donothing(x):\\n:... return x\", \"get_ipython().magic('cpaste')\\nPasting code; enter '--' alone on the line to stop or use Ctrl-D. :>>> def donothing(x):\\n:... return x\", \"get_ipython().magic('cpaste')\\nPasting code; enter '--' alone on the line to stop or use Ctrl-D. \\n:>>> def donothing(x):\\n:... return x\", \"get_ipython().magic('paste')\\n>>> def donothing(x):\\n...     return x\\n## -- End pasted text --\", 'donothing(10)', 'def square(x):\\n \"\"\"square a number\"\"\"\\n return x ** 2\\nfor N in range(1, 4):\\n print(N, \"squared is\", square(N))', \"get_ipython().magic('run myscript.py')\\n1 squared is 1\\n2 squared is 4\\n3 squared is 9\", 'square(5)', \"get_ipython().magic('timeit L = [n ** 2 for n in range(1000)]')\", \"get_ipython().run_cell_magic('timeit', '', '\\\\nL = []\\\\n\\\\nfor n in range(1000):\\\\n  L.append(n ** 2)')\", \"get_ipython().magic('pinfo %timeit')\", \"get_ipython().magic('magic')\", \"get_ipython().magic('lsmagic')\", 'import math', 'math.sin(2)', 'math.cos(2)', 'print(In)', \"print(In)\\n['', 'import math', 'math.sin(2)', 'math.cos(2)', 'print(In)']\"]\n"
          ],
          "name": "stdout"
        },
        {
          "output_type": "execute_result",
          "data": {
            "text/plain": [
              "['', 'import math', 'math.sin(2)', 'math.cos(2)', 'print(In)']"
            ]
          },
          "metadata": {
            "tags": []
          },
          "execution_count": 23
        }
      ]
    },
    {
      "cell_type": "code",
      "metadata": {
        "colab": {
          "base_uri": "https://localhost:8080/"
        },
        "id": "dzGfNBn-Yq3i",
        "outputId": "fd45c833-e287-4068-ca49-e174051fb8f8"
      },
      "source": [
        "Out"
      ],
      "execution_count": 24,
      "outputs": [
        {
          "output_type": "execute_result",
          "data": {
            "text/plain": [
              "{4: 10,\n",
              " 10: 10,\n",
              " 13: 25,\n",
              " 18: Available line magics:\n",
              "%alias  %alias_magic  %autocall  %automagic  %autosave  %bookmark  %cat  %cd  %clear  %colors  %config  %connect_info  %cp  %debug  %dhist  %dirs  %doctest_mode  %ed  %edit  %env  %gui  %hist  %history  %killbgscripts  %ldir  %less  %lf  %lk  %ll  %load  %load_ext  %loadpy  %logoff  %logon  %logstart  %logstate  %logstop  %ls  %lsmagic  %lx  %macro  %magic  %man  %matplotlib  %mkdir  %more  %mv  %notebook  %page  %pastebin  %pdb  %pdef  %pdoc  %pfile  %pinfo  %pinfo2  %pip  %popd  %pprint  %precision  %profile  %prun  %psearch  %psource  %pushd  %pwd  %pycat  %pylab  %qtconsole  %quickref  %recall  %rehashx  %reload_ext  %rep  %rerun  %reset  %reset_selective  %rm  %rmdir  %run  %save  %sc  %set_env  %shell  %store  %sx  %system  %tb  %tensorflow_version  %time  %timeit  %unalias  %unload_ext  %who  %who_ls  %whos  %xdel  %xmode\n",
              "\n",
              "Available cell magics:\n",
              "%%!  %%HTML  %%SVG  %%bash  %%bigquery  %%capture  %%debug  %%file  %%html  %%javascript  %%js  %%latex  %%perl  %%prun  %%pypy  %%python  %%python2  %%python3  %%ruby  %%script  %%sh  %%shell  %%svg  %%sx  %%system  %%time  %%timeit  %%writefile\n",
              "\n",
              "Automagic is ON, % prefix IS NOT needed for line magics.,\n",
              " 20: 0.9092974268256817,\n",
              " 21: -0.4161468365471424,\n",
              " 23: ['', 'import math', 'math.sin(2)', 'math.cos(2)', 'print(In)']}"
            ]
          },
          "metadata": {
            "tags": []
          },
          "execution_count": 24
        }
      ]
    },
    {
      "cell_type": "code",
      "metadata": {
        "colab": {
          "base_uri": "https://localhost:8080/"
        },
        "id": "qUkWvcaXYyZz",
        "outputId": "0a33a93d-1193-45ee-bf49-d932012de07d"
      },
      "source": [
        "print(In[1])\n",
        "import math"
      ],
      "execution_count": 25,
      "outputs": [
        {
          "output_type": "stream",
          "text": [
            "def donothing(x):\n",
            "    return x\n"
          ],
          "name": "stdout"
        }
      ]
    },
    {
      "cell_type": "code",
      "metadata": {
        "colab": {
          "base_uri": "https://localhost:8080/",
          "height": 166
        },
        "id": "IZ6QBe_UYz9W",
        "outputId": "c4a9e6ca-4ff1-4895-94e0-c4b19ac8e741"
      },
      "source": [
        "print(Out[2])"
      ],
      "execution_count": 26,
      "outputs": [
        {
          "output_type": "error",
          "ename": "KeyError",
          "evalue": "ignored",
          "traceback": [
            "\u001b[0;31m---------------------------------------------------------------------------\u001b[0m",
            "\u001b[0;31mKeyError\u001b[0m                                  Traceback (most recent call last)",
            "\u001b[0;32m<ipython-input-26-99ed3452e2cf>\u001b[0m in \u001b[0;36m<module>\u001b[0;34m()\u001b[0m\n\u001b[0;32m----> 1\u001b[0;31m \u001b[0mprint\u001b[0m\u001b[0;34m(\u001b[0m\u001b[0mOut\u001b[0m\u001b[0;34m[\u001b[0m\u001b[0;36m2\u001b[0m\u001b[0;34m]\u001b[0m\u001b[0;34m)\u001b[0m\u001b[0;34m\u001b[0m\u001b[0;34m\u001b[0m\u001b[0m\n\u001b[0m",
            "\u001b[0;31mKeyError\u001b[0m: 2"
          ]
        }
      ]
    },
    {
      "cell_type": "code",
      "metadata": {
        "colab": {
          "base_uri": "https://localhost:8080/",
          "height": 166
        },
        "id": "Jle8SVg5Y3xm",
        "outputId": "6c2bae26-1bb2-4d8b-f631-5fbac9c8832b"
      },
      "source": [
        " Out[2] ** 2 + Out[3] ** 2"
      ],
      "execution_count": 27,
      "outputs": [
        {
          "output_type": "error",
          "ename": "KeyError",
          "evalue": "ignored",
          "traceback": [
            "\u001b[0;31m---------------------------------------------------------------------------\u001b[0m",
            "\u001b[0;31mKeyError\u001b[0m                                  Traceback (most recent call last)",
            "\u001b[0;32m<ipython-input-27-26f5e7e673c2>\u001b[0m in \u001b[0;36m<module>\u001b[0;34m()\u001b[0m\n\u001b[0;32m----> 1\u001b[0;31m \u001b[0mOut\u001b[0m\u001b[0;34m[\u001b[0m\u001b[0;36m2\u001b[0m\u001b[0;34m]\u001b[0m \u001b[0;34m**\u001b[0m \u001b[0;36m2\u001b[0m \u001b[0;34m+\u001b[0m \u001b[0mOut\u001b[0m\u001b[0;34m[\u001b[0m\u001b[0;36m3\u001b[0m\u001b[0;34m]\u001b[0m \u001b[0;34m**\u001b[0m \u001b[0;36m2\u001b[0m\u001b[0;34m\u001b[0m\u001b[0;34m\u001b[0m\u001b[0m\n\u001b[0m",
            "\u001b[0;31mKeyError\u001b[0m: 2"
          ]
        }
      ]
    },
    {
      "cell_type": "markdown",
      "metadata": {
        "id": "zkS7zibUY64q"
      },
      "source": [
        "**Underscore Shortcuts and Previous Outputs**"
      ]
    },
    {
      "cell_type": "code",
      "metadata": {
        "colab": {
          "base_uri": "https://localhost:8080/"
        },
        "id": "AxyI9RPuY7v3",
        "outputId": "4ddd7600-8a0b-4b74-8292-eeace3aa3bbc"
      },
      "source": [
        "print(_)"
      ],
      "execution_count": 28,
      "outputs": [
        {
          "output_type": "stream",
          "text": [
            "['', 'import math', 'math.sin(2)', 'math.cos(2)', 'print(In)']\n"
          ],
          "name": "stdout"
        }
      ]
    },
    {
      "cell_type": "code",
      "metadata": {
        "colab": {
          "base_uri": "https://localhost:8080/"
        },
        "id": "KK11rR66ZEZb",
        "outputId": "f1956dec-bc98-462d-9d8a-61fd50e9a778"
      },
      "source": [
        "print(__)"
      ],
      "execution_count": 29,
      "outputs": [
        {
          "output_type": "stream",
          "text": [
            "-0.4161468365471424\n"
          ],
          "name": "stdout"
        }
      ]
    },
    {
      "cell_type": "code",
      "metadata": {
        "colab": {
          "base_uri": "https://localhost:8080/"
        },
        "id": "eFu2BLKbZGWq",
        "outputId": "c7c965e5-ea51-49a4-b78b-2e7f0047df61"
      },
      "source": [
        "print(___)"
      ],
      "execution_count": 30,
      "outputs": [
        {
          "output_type": "stream",
          "text": [
            "0.9092974268256817\n"
          ],
          "name": "stdout"
        }
      ]
    },
    {
      "cell_type": "code",
      "metadata": {
        "colab": {
          "base_uri": "https://localhost:8080/",
          "height": 166
        },
        "id": "UKRG5Qd8ZJHq",
        "outputId": "58d1e91f-e2c3-4565-880f-f1711a39ad4e"
      },
      "source": [
        "Out[2]"
      ],
      "execution_count": 31,
      "outputs": [
        {
          "output_type": "error",
          "ename": "KeyError",
          "evalue": "ignored",
          "traceback": [
            "\u001b[0;31m---------------------------------------------------------------------------\u001b[0m",
            "\u001b[0;31mKeyError\u001b[0m                                  Traceback (most recent call last)",
            "\u001b[0;32m<ipython-input-31-cfd64de725d4>\u001b[0m in \u001b[0;36m<module>\u001b[0;34m()\u001b[0m\n\u001b[0;32m----> 1\u001b[0;31m \u001b[0mOut\u001b[0m\u001b[0;34m[\u001b[0m\u001b[0;36m2\u001b[0m\u001b[0;34m]\u001b[0m\u001b[0;34m\u001b[0m\u001b[0;34m\u001b[0m\u001b[0m\n\u001b[0m",
            "\u001b[0;31mKeyError\u001b[0m: 2"
          ]
        }
      ]
    },
    {
      "cell_type": "code",
      "metadata": {
        "colab": {
          "base_uri": "https://localhost:8080/",
          "height": 166
        },
        "id": "cbbN8G4sZMP5",
        "outputId": "9bf708b1-765b-49ed-fe11-9bf4d18e4dc9"
      },
      "source": [
        "_2"
      ],
      "execution_count": 32,
      "outputs": [
        {
          "output_type": "error",
          "ename": "NameError",
          "evalue": "ignored",
          "traceback": [
            "\u001b[0;31m---------------------------------------------------------------------------\u001b[0m",
            "\u001b[0;31mNameError\u001b[0m                                 Traceback (most recent call last)",
            "\u001b[0;32m<ipython-input-32-725b9f20c2d7>\u001b[0m in \u001b[0;36m<module>\u001b[0;34m()\u001b[0m\n\u001b[0;32m----> 1\u001b[0;31m \u001b[0m_2\u001b[0m\u001b[0;34m\u001b[0m\u001b[0;34m\u001b[0m\u001b[0m\n\u001b[0m",
            "\u001b[0;31mNameError\u001b[0m: name '_2' is not defined"
          ]
        }
      ]
    },
    {
      "cell_type": "markdown",
      "metadata": {
        "id": "fb8i4dq1ZOPQ"
      },
      "source": [
        "**Suppressing Output**"
      ]
    },
    {
      "cell_type": "code",
      "metadata": {
        "id": "6oehSms-ZRaL"
      },
      "source": [
        "math.sin(2) + math.cos(2);"
      ],
      "execution_count": 33,
      "outputs": []
    },
    {
      "cell_type": "markdown",
      "metadata": {
        "id": "GKl6QooyZTh-"
      },
      "source": [
        "Perhatikan bahwa hasilnya dihitung secara diam-diam, dan hasilnya tidak ditampilkan di\n",
        "layar."
      ]
    },
    {
      "cell_type": "code",
      "metadata": {
        "colab": {
          "base_uri": "https://localhost:8080/"
        },
        "id": "XVWUcS0EZbdZ",
        "outputId": "b7b5004d-0b48-4d28-df4c-df9b0b82e634"
      },
      "source": [
        "14 in Out"
      ],
      "execution_count": 34,
      "outputs": [
        {
          "output_type": "execute_result",
          "data": {
            "text/plain": [
              "False"
            ]
          },
          "metadata": {
            "tags": []
          },
          "execution_count": 34
        }
      ]
    },
    {
      "cell_type": "markdown",
      "metadata": {
        "id": "o2saqgypZfcM"
      },
      "source": [
        "**Related Magic Commands**"
      ]
    },
    {
      "cell_type": "code",
      "metadata": {
        "colab": {
          "base_uri": "https://localhost:8080/"
        },
        "id": "uvByxFceZgxU",
        "outputId": "ec464066-08dd-4399-a570-25a1bb0b2a71"
      },
      "source": [
        "%history -n 1-4"
      ],
      "execution_count": 35,
      "outputs": [
        {
          "output_type": "stream",
          "text": [
            "   1:\n",
            ">>> def donothing(x):\n",
            "...     return x\n",
            "   2:\n",
            ">>> def donothing(x):\n",
            " ...: ... return x\n",
            " ...:\n",
            "   3:\n",
            " %paste\n",
            ">>> def donothing(x):\n",
            "...     return x\n",
            "   4: donothing(10)\n"
          ],
          "name": "stdout"
        }
      ]
    },
    {
      "cell_type": "markdown",
      "metadata": {
        "id": "tMfMRSpzZrX1"
      },
      "source": [
        "# **IPython and Shell Commands**\n",
        "**Shell Command in Python**\n",
        "\n",
        "Kita dapat menggunakan perintah apa pun yang berfungsi pada baris perintah di IPython dengan mengawalnya dengan ! karakter. "
      ]
    },
    {
      "cell_type": "code",
      "metadata": {
        "colab": {
          "base_uri": "https://localhost:8080/"
        },
        "id": "aiH_ZM4UZ0OF",
        "outputId": "4a55d5d1-c4aa-48c7-b5fe-e3163d7c551a"
      },
      "source": [
        "# ls = list working directory contents\n",
        "!ls"
      ],
      "execution_count": 36,
      "outputs": [
        {
          "output_type": "stream",
          "text": [
            "sample_data\n"
          ],
          "name": "stdout"
        }
      ]
    },
    {
      "cell_type": "code",
      "metadata": {
        "colab": {
          "base_uri": "https://localhost:8080/"
        },
        "id": "gtyW_ikRZ3pK",
        "outputId": "b297a0b6-516d-42eb-a6a9-604cd3c7e8b8"
      },
      "source": [
        "!pwd"
      ],
      "execution_count": 37,
      "outputs": [
        {
          "output_type": "stream",
          "text": [
            "/content\n"
          ],
          "name": "stdout"
        }
      ]
    },
    {
      "cell_type": "code",
      "metadata": {
        "colab": {
          "base_uri": "https://localhost:8080/"
        },
        "id": "lLakTjchZ5xa",
        "outputId": "845ecc8d-1028-4b87-d375-6eeff87d8784"
      },
      "source": [
        "!echo \"printing from shell\""
      ],
      "execution_count": 38,
      "outputs": [
        {
          "output_type": "stream",
          "text": [
            "printing from shell\n"
          ],
          "name": "stdout"
        }
      ]
    },
    {
      "cell_type": "markdown",
      "metadata": {
        "id": "XVmQZ-csZ-0X"
      },
      "source": [
        "**Passing Values to and from the Shell**"
      ]
    },
    {
      "cell_type": "code",
      "metadata": {
        "id": "UmHnjAFaZ8GF"
      },
      "source": [
        "contents = !ls"
      ],
      "execution_count": 39,
      "outputs": []
    },
    {
      "cell_type": "code",
      "metadata": {
        "colab": {
          "base_uri": "https://localhost:8080/"
        },
        "id": "Vkw7oP_OaCtc",
        "outputId": "c3e8d781-9e57-41af-a776-10f059bde5f5"
      },
      "source": [
        "print(contents)"
      ],
      "execution_count": 40,
      "outputs": [
        {
          "output_type": "stream",
          "text": [
            "['sample_data']\n"
          ],
          "name": "stdout"
        }
      ]
    },
    {
      "cell_type": "code",
      "metadata": {
        "id": "FxhgLUGCaE2Y"
      },
      "source": [
        "directory = !pwd"
      ],
      "execution_count": 41,
      "outputs": []
    },
    {
      "cell_type": "code",
      "metadata": {
        "colab": {
          "base_uri": "https://localhost:8080/"
        },
        "id": "_KKs2a0YaHFe",
        "outputId": "6b268710-74d2-418f-ef65-78305c263343"
      },
      "source": [
        "print(directory)"
      ],
      "execution_count": 42,
      "outputs": [
        {
          "output_type": "stream",
          "text": [
            "['/content']\n"
          ],
          "name": "stdout"
        }
      ]
    },
    {
      "cell_type": "code",
      "metadata": {
        "colab": {
          "base_uri": "https://localhost:8080/"
        },
        "id": "tPYeOG2laTD1",
        "outputId": "0a4cd5e1-0911-452a-ad09-1e7a23c4bd59"
      },
      "source": [
        "type(directory)"
      ],
      "execution_count": 43,
      "outputs": [
        {
          "output_type": "execute_result",
          "data": {
            "text/plain": [
              "IPython.utils.text.SList"
            ]
          },
          "metadata": {
            "tags": []
          },
          "execution_count": 43
        }
      ]
    },
    {
      "cell_type": "code",
      "metadata": {
        "id": "Ccd8KLwkaUWf"
      },
      "source": [
        "message = \"hello from Python\""
      ],
      "execution_count": 44,
      "outputs": []
    },
    {
      "cell_type": "code",
      "metadata": {
        "colab": {
          "base_uri": "https://localhost:8080/"
        },
        "id": "BXaE9YWtaXiK",
        "outputId": "525042b5-db40-4ea6-e398-29082f98d00b"
      },
      "source": [
        "!echo {message}"
      ],
      "execution_count": 45,
      "outputs": [
        {
          "output_type": "stream",
          "text": [
            "hello from Python\n"
          ],
          "name": "stdout"
        }
      ]
    },
    {
      "cell_type": "markdown",
      "metadata": {
        "id": "9MVSBDubacms"
      },
      "source": [
        "# **Shell-Related Magic Commands**"
      ]
    },
    {
      "cell_type": "code",
      "metadata": {
        "colab": {
          "base_uri": "https://localhost:8080/"
        },
        "id": "Yd6Wh11iaauB",
        "outputId": "fc303e35-1d79-400b-a469-ee178394e5fb"
      },
      "source": [
        "!pwd"
      ],
      "execution_count": 46,
      "outputs": [
        {
          "output_type": "stream",
          "text": [
            "/content\n"
          ],
          "name": "stdout"
        }
      ]
    },
    {
      "cell_type": "code",
      "metadata": {
        "id": "_BPuAkE6agKe"
      },
      "source": [
        "!cd .."
      ],
      "execution_count": 47,
      "outputs": []
    },
    {
      "cell_type": "code",
      "metadata": {
        "colab": {
          "base_uri": "https://localhost:8080/"
        },
        "id": "EaX0HXM4ajB4",
        "outputId": "cbd264e8-0844-4862-8708-754ebeadb9d1"
      },
      "source": [
        "!pwd"
      ],
      "execution_count": 48,
      "outputs": [
        {
          "output_type": "stream",
          "text": [
            "/content\n"
          ],
          "name": "stdout"
        }
      ]
    },
    {
      "cell_type": "code",
      "metadata": {
        "colab": {
          "base_uri": "https://localhost:8080/"
        },
        "id": "93uVHI2QalEk",
        "outputId": "03a4e6d3-2ca1-478d-d21e-041a8ce75b00"
      },
      "source": [
        "%cd .."
      ],
      "execution_count": 49,
      "outputs": [
        {
          "output_type": "stream",
          "text": [
            "/\n"
          ],
          "name": "stdout"
        }
      ]
    },
    {
      "cell_type": "code",
      "metadata": {
        "colab": {
          "base_uri": "https://localhost:8080/"
        },
        "id": "bfRWL1iWanEC",
        "outputId": "92cf0a3f-9f64-4412-fddf-9b5bd6685850"
      },
      "source": [
        "cd content"
      ],
      "execution_count": 50,
      "outputs": [
        {
          "output_type": "stream",
          "text": [
            "/content\n"
          ],
          "name": "stdout"
        }
      ]
    },
    {
      "cell_type": "code",
      "metadata": {
        "id": "OyBi0RspapEF"
      },
      "source": [
        "mkdir tmp"
      ],
      "execution_count": 51,
      "outputs": []
    },
    {
      "cell_type": "code",
      "metadata": {
        "colab": {
          "base_uri": "https://localhost:8080/"
        },
        "id": "wDq4yliqarb7",
        "outputId": "951d9cb2-107a-4ce2-a6c0-0acbc0695243"
      },
      "source": [
        "ls"
      ],
      "execution_count": 52,
      "outputs": [
        {
          "output_type": "stream",
          "text": [
            "\u001b[0m\u001b[01;34msample_data\u001b[0m/  \u001b[01;34mtmp\u001b[0m/\n"
          ],
          "name": "stdout"
        }
      ]
    },
    {
      "cell_type": "code",
      "metadata": {
        "colab": {
          "base_uri": "https://localhost:8080/"
        },
        "id": "uXY-XED0ausl",
        "outputId": "cdc143fe-6696-4924-929c-6d5eef3a1711"
      },
      "source": [
        "cp myproject.txt tmp/"
      ],
      "execution_count": 53,
      "outputs": [
        {
          "output_type": "stream",
          "text": [
            "cp: cannot stat 'myproject.txt': No such file or directory\n"
          ],
          "name": "stdout"
        }
      ]
    },
    {
      "cell_type": "code",
      "metadata": {
        "id": "vejGOUt6aw8J"
      },
      "source": [
        "ls tmp"
      ],
      "execution_count": 54,
      "outputs": []
    },
    {
      "cell_type": "code",
      "metadata": {
        "id": "JDSj90VgazBl"
      },
      "source": [
        "rm -r tmp"
      ],
      "execution_count": 55,
      "outputs": []
    }
  ]
}