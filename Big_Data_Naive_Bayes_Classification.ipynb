{
  "nbformat": 4,
  "nbformat_minor": 0,
  "metadata": {
    "colab": {
      "name": "Big Data - Naive_Bayes_Classification.ipynb",
      "provenance": [],
      "include_colab_link": true
    },
    "kernelspec": {
      "name": "python3",
      "display_name": "Python 3"
    },
    "language_info": {
      "name": "python"
    }
  },
  "cells": [
    {
      "cell_type": "markdown",
      "metadata": {
        "id": "view-in-github",
        "colab_type": "text"
      },
      "source": [
        "<a href=\"https://colab.research.google.com/github/veliaaf/big-data/blob/main/Big_Data_Naive_Bayes_Classification.ipynb\" target=\"_parent\"><img src=\"https://colab.research.google.com/assets/colab-badge.svg\" alt=\"Open In Colab\"/></a>"
      ]
    },
    {
      "cell_type": "markdown",
      "metadata": {
        "id": "1TdxKrYOdelS"
      },
      "source": [
        "**Naive Bayes Classification**"
      ]
    },
    {
      "cell_type": "code",
      "metadata": {
        "id": "ygsnhEkFUM1v"
      },
      "source": [
        "# import library standar untuk melakukan classification\n",
        "import pandas as pd\n",
        "import string\n",
        "import numpy as np\n",
        "import nltk"
      ],
      "execution_count": null,
      "outputs": []
    },
    {
      "cell_type": "code",
      "metadata": {
        "id": "i6Bwxa2gVPNj"
      },
      "source": [
        "# import untuk mesin Learning naive bayes\n",
        "from sklearn.naive_bayes import MultinomialNB\n",
        "from sklearn import model_selection\n",
        "from sklearn. feature_extraction.text import CountVectorizer\n",
        "from sklearn. feature_extraction. text import TfidfTransformer\n",
        "from sklearn. model_selection import train_test_split\n",
        "from sklearn.utils.multiclass import unique_labels\n",
        "from sklearn. preprocessing import LabelBinarizer, OrdinalEncoder, OneHotEncoder"
      ],
      "execution_count": null,
      "outputs": []
    },
    {
      "cell_type": "code",
      "metadata": {
        "id": "A8bTyVzpWdzd"
      },
      "source": [
        "# visualisasi hasil\n",
        "from sklearn.metrics import classification_report, accuracy_score, confusion_matrix\n",
        "import seaborn as sns\n",
        "import matplotlib.pyplot as plt\n"
      ],
      "execution_count": null,
      "outputs": []
    },
    {
      "cell_type": "code",
      "metadata": {
        "colab": {
          "base_uri": "https://localhost:8080/"
        },
        "id": "j1-nkM6CW8Xc",
        "outputId": "a2b9e97b-d427-4c53-ab54-eae395d32812"
      },
      "source": [
        "from google.colab import drive\n",
        "drive.mount(\"/content/gdrive\")"
      ],
      "execution_count": null,
      "outputs": [
        {
          "output_type": "stream",
          "text": [
            "Drive already mounted at /content/gdrive; to attempt to forcibly remount, call drive.mount(\"/content/gdrive\", force_remount=True).\n"
          ],
          "name": "stdout"
        }
      ]
    },
    {
      "cell_type": "code",
      "metadata": {
        "colab": {
          "base_uri": "https://localhost:8080/"
        },
        "id": "dd94udauWzTk",
        "outputId": "fccae7ca-fa3f-44cd-e116-fb247d94cdb0"
      },
      "source": [
        "# untuk memanggil dataset yang digunakan yaitu pada file bank.csv\n",
        "filecsv = '/content/gdrive/My Drive/bank.csv'\n",
        "teks = pd.read_csv(filecsv, header=0, delimiter=';', encoding= 'utf-8')\n",
        "df = pd.DataFrame(teks)\n",
        "print(df)"
      ],
      "execution_count": null,
      "outputs": [
        {
          "output_type": "stream",
          "text": [
            "      age            job  marital  education  ... pdays  previous poutcome   y\n",
            "0      30     unemployed  married    primary  ...    -1         0  unknown  no\n",
            "1      33       services  married  secondary  ...   339         4  failure  no\n",
            "2      35     management   single   tertiary  ...   330         1  failure  no\n",
            "3      30     management  married   tertiary  ...    -1         0  unknown  no\n",
            "4      59    blue-collar  married  secondary  ...    -1         0  unknown  no\n",
            "...   ...            ...      ...        ...  ...   ...       ...      ...  ..\n",
            "4516   33       services  married  secondary  ...    -1         0  unknown  no\n",
            "4517   57  self-employed  married   tertiary  ...    -1         0  unknown  no\n",
            "4518   57     technician  married  secondary  ...    -1         0  unknown  no\n",
            "4519   28    blue-collar  married  secondary  ...   211         3    other  no\n",
            "4520   44   entrepreneur   single   tertiary  ...   249         7    other  no\n",
            "\n",
            "[4521 rows x 17 columns]\n"
          ],
          "name": "stdout"
        }
      ]
    },
    {
      "cell_type": "code",
      "metadata": {
        "colab": {
          "base_uri": "https://localhost:8080/"
        },
        "id": "iI1Jx735XyAH",
        "outputId": "de7d7434-afcc-4258-ba68-2b6f6af40a9f"
      },
      "source": [
        "# input parameter untuk prediksi class\n",
        "xtarget = df.drop(['y'], axis = 1)\n",
        "print(xtarget)"
      ],
      "execution_count": null,
      "outputs": [
        {
          "output_type": "stream",
          "text": [
            "      age            job  marital  ... pdays previous  poutcome\n",
            "0      30     unemployed  married  ...    -1        0   unknown\n",
            "1      33       services  married  ...   339        4   failure\n",
            "2      35     management   single  ...   330        1   failure\n",
            "3      30     management  married  ...    -1        0   unknown\n",
            "4      59    blue-collar  married  ...    -1        0   unknown\n",
            "...   ...            ...      ...  ...   ...      ...       ...\n",
            "4516   33       services  married  ...    -1        0   unknown\n",
            "4517   57  self-employed  married  ...    -1        0   unknown\n",
            "4518   57     technician  married  ...    -1        0   unknown\n",
            "4519   28    blue-collar  married  ...   211        3     other\n",
            "4520   44   entrepreneur   single  ...   249        7     other\n",
            "\n",
            "[4521 rows x 16 columns]\n"
          ],
          "name": "stdout"
        }
      ]
    },
    {
      "cell_type": "code",
      "metadata": {
        "colab": {
          "base_uri": "https://localhost:8080/"
        },
        "id": "ofGN45bPYITk",
        "outputId": "9a896a1b-250a-49f3-e2ca-fd2c268f20b0"
      },
      "source": [
        "# target classification dari accepted\n",
        "ytarget = df['y']\n",
        "print(ytarget)"
      ],
      "execution_count": null,
      "outputs": [
        {
          "output_type": "stream",
          "text": [
            "0       no\n",
            "1       no\n",
            "2       no\n",
            "3       no\n",
            "4       no\n",
            "        ..\n",
            "4516    no\n",
            "4517    no\n",
            "4518    no\n",
            "4519    no\n",
            "4520    no\n",
            "Name: y, Length: 4521, dtype: object\n"
          ],
          "name": "stdout"
        }
      ]
    },
    {
      "cell_type": "code",
      "metadata": {
        "colab": {
          "base_uri": "https://localhost:8080/"
        },
        "id": "RgHgLOQRYkmE",
        "outputId": "839cc831-ebd4-413a-fd5f-658f0af890a3"
      },
      "source": [
        "# merubah nilai ytarget menjadi dua class yaitu 1 atau 0\n",
        "encoder = LabelBinarizer()\n",
        "y = encoder.fit_transform(ytarget)\n",
        "print(y)"
      ],
      "execution_count": null,
      "outputs": [
        {
          "output_type": "stream",
          "text": [
            "[[0]\n",
            " [0]\n",
            " [0]\n",
            " ...\n",
            " [0]\n",
            " [0]\n",
            " [0]]\n"
          ],
          "name": "stdout"
        }
      ]
    },
    {
      "cell_type": "code",
      "metadata": {
        "colab": {
          "base_uri": "https://localhost:8080/"
        },
        "id": "Mhi1kZ4-Y8qb",
        "outputId": "5bce47d1-0dac-4e93-da86-106e3c78de13"
      },
      "source": [
        "#Merubah nilai atribut menjadi index nilai\n",
        "tfidf_transformer = OneHotEncoder()\n",
        "x = tfidf_transformer.fit_transform(xtarget)\n",
        "print(x)\n",
        "print(x.shape)"
      ],
      "execution_count": null,
      "outputs": [
        {
          "output_type": "stream",
          "text": [
            "  (0, 11)\t1.0\n",
            "  (0, 77)\t1.0\n",
            "  (0, 80)\t1.0\n",
            "  (0, 82)\t1.0\n",
            "  (0, 86)\t1.0\n",
            "  (0, 1563)\t1.0\n",
            "  (0, 2441)\t1.0\n",
            "  (0, 2443)\t1.0\n",
            "  (0, 2445)\t1.0\n",
            "  (0, 2466)\t1.0\n",
            "  (0, 2489)\t1.0\n",
            "  (0, 2566)\t1.0\n",
            "  (0, 3366)\t1.0\n",
            "  (0, 3398)\t1.0\n",
            "  (0, 3690)\t1.0\n",
            "  (0, 3717)\t1.0\n",
            "  (1, 14)\t1.0\n",
            "  (1, 74)\t1.0\n",
            "  (1, 80)\t1.0\n",
            "  (1, 83)\t1.0\n",
            "  (1, 86)\t1.0\n",
            "  (1, 2118)\t1.0\n",
            "  (1, 2442)\t1.0\n",
            "  (1, 2444)\t1.0\n",
            "  (1, 2445)\t1.0\n",
            "  :\t:\n",
            "  (4519, 2443)\t1.0\n",
            "  (4519, 2445)\t1.0\n",
            "  (4519, 2453)\t1.0\n",
            "  (4519, 2482)\t1.0\n",
            "  (4519, 2616)\t1.0\n",
            "  (4519, 3369)\t1.0\n",
            "  (4519, 3538)\t1.0\n",
            "  (4519, 3693)\t1.0\n",
            "  (4519, 3715)\t1.0\n",
            "  (4520, 25)\t1.0\n",
            "  (4520, 69)\t1.0\n",
            "  (4520, 81)\t1.0\n",
            "  (4520, 84)\t1.0\n",
            "  (4520, 86)\t1.0\n",
            "  (4520, 1274)\t1.0\n",
            "  (4520, 2442)\t1.0\n",
            "  (4520, 2444)\t1.0\n",
            "  (4520, 2445)\t1.0\n",
            "  (4520, 2450)\t1.0\n",
            "  (4520, 2479)\t1.0\n",
            "  (4520, 2832)\t1.0\n",
            "  (4520, 3367)\t1.0\n",
            "  (4520, 3559)\t1.0\n",
            "  (4520, 3697)\t1.0\n",
            "  (4520, 3715)\t1.0\n",
            "(4521, 3718)\n"
          ],
          "name": "stdout"
        }
      ]
    },
    {
      "cell_type": "code",
      "metadata": {
        "colab": {
          "base_uri": "https://localhost:8080/"
        },
        "id": "6XcLzfjTZW7Z",
        "outputId": "94eb272d-96d6-4e13-c0e2-8731ab349a0f"
      },
      "source": [
        "#Membuat data training dan data testing dari dataset data test = 30% dari jumlah instance\n",
        "x_train, x_test, y_train, y_test = train_test_split(x,y, test_size = 0.3, random_state = 1)\n",
        "print(x_train.shape)\n",
        "print(y_train.shape)\n",
        "print(x_test.shape)\n",
        "print(y_test.shape)"
      ],
      "execution_count": null,
      "outputs": [
        {
          "output_type": "stream",
          "text": [
            "(3164, 3718)\n",
            "(3164, 1)\n",
            "(1357, 3718)\n",
            "(1357, 1)\n"
          ],
          "name": "stdout"
        }
      ]
    },
    {
      "cell_type": "code",
      "metadata": {
        "colab": {
          "base_uri": "https://localhost:8080/"
        },
        "id": "aYBnfI22aJq6",
        "outputId": "b3f0e431-72f0-426b-f230-494048566277"
      },
      "source": [
        "#Melakukan pembuatan model training dengan Naive Bayes\n",
        "NaiveBayes = MultinomialNB(). fit(x_train, np.ravel(y_train, order = 'C'))\n",
        "print(NaiveBayes)"
      ],
      "execution_count": null,
      "outputs": [
        {
          "output_type": "stream",
          "text": [
            "MultinomialNB(alpha=1.0, class_prior=None, fit_prior=True)\n"
          ],
          "name": "stdout"
        }
      ]
    },
    {
      "cell_type": "code",
      "metadata": {
        "colab": {
          "base_uri": "https://localhost:8080/"
        },
        "id": "5TeFYJ0Lalv1",
        "outputId": "158ed481-ba7f-4c04-9210-d7f4ad62736a"
      },
      "source": [
        "#Prediksi terhadap model training yang telah dibuat\n",
        "prediction = NaiveBayes.predict(x_test)\n",
        "accuracies = accuracy_score(y_test, prediction)\n",
        "\n",
        "print(prediction)\n",
        "print(accuracies)"
      ],
      "execution_count": null,
      "outputs": [
        {
          "output_type": "stream",
          "text": [
            "[0 0 0 ... 0 0 0]\n",
            "0.8754605747973471\n"
          ],
          "name": "stdout"
        }
      ]
    },
    {
      "cell_type": "code",
      "metadata": {
        "colab": {
          "base_uri": "https://localhost:8080/"
        },
        "id": "uVmtSp0FbHFs",
        "outputId": "2f2574b6-1809-4d49-e0e7-7c08388f2c66"
      },
      "source": [
        "#Menampilkan matrik konfusi\n",
        "print (confusion_matrix(y_test, prediction))"
      ],
      "execution_count": null,
      "outputs": [
        {
          "output_type": "stream",
          "text": [
            "[[1165   17]\n",
            " [ 152   23]]\n"
          ],
          "name": "stdout"
        }
      ]
    },
    {
      "cell_type": "code",
      "metadata": {
        "id": "ys3qmKt7bXnQ"
      },
      "source": [
        "#Procedure untuk memetakan matrik konfusi\n",
        "def plot_confusion_matrix(y_true, y_pred, classes, \n",
        "                          normalize=False, \n",
        "                          title=None, \n",
        "                          cmap=plt.cm.Blues):\n",
        "  if not title :\n",
        "    if normalize:\n",
        "      title = 'Normalize confusion matrix'\n",
        "    else:\n",
        "      title = 'confusion matrix, without normalization'\n",
        "  #Compute confusion matrix\n",
        "  cm = confusion_matrix(y_true, y_pred)\n",
        "  #only use labels that appear in the data\n",
        "  classes = classes[unique_labels(y_true, y_pred)]\n",
        "  if normalize:\n",
        "    cm = cm.astype('float') / cm.sum(axis=1)[:, np.newaxis]\n",
        "    print(\"Normalized Confusion Matrix\")\n",
        "  else:\n",
        "    print('Confusion Matrix, without normalization')\n",
        "\n",
        "  print(cm)\n",
        "\n",
        "  fig, ax = plt.subplots()\n",
        "  im = ax.imshow(cm, interpolation='nearest', cmap=cmap)\n",
        "\n",
        "  #we want to show all tickets\n",
        "  ax.set(xticks=np.arange(cm.shape[1]), \n",
        "        yticks=np.arange(cm.shape[0]),\n",
        "        #... and label them with the respective list entries\n",
        "        xticklabels=classes, yticklabels=classes,\n",
        "        title=title,\n",
        "        ylabel='True Label',\n",
        "        xlabel='Predicted Label')\n",
        "\n",
        "  #Rotate the tick Labels and set Their aligment.\n",
        "  plt.setp(ax.get_xticklabels(), rotation=45, ha=\"right\", \n",
        "           rotation_mode=\"anchor\")\n",
        "\n",
        "  #Loop over data dimensions and create text annocations\n",
        "  fmt = '.2f' if normalize else 'd'\n",
        "  thresh = cm.max() / 2.\n",
        "  for i in range(cm.shape[0]):\n",
        "   for j in range(cm.shape[1]):\n",
        "      ax.text(j,i, format(cm[i,j], fmt),\n",
        "              ha=\"center\", va=\"center\",\n",
        "              color=\"white\" if cm[i,j] > thresh else \"black\")\n",
        "    \n",
        "  fig.tight_layout()\n",
        "  return ax\n",
        "\n"
      ],
      "execution_count": null,
      "outputs": []
    },
    {
      "cell_type": "code",
      "metadata": {
        "colab": {
          "base_uri": "https://localhost:8080/",
          "height": 679
        },
        "id": "2I2nzuLpe3n0",
        "outputId": "66b39c44-904d-4654-b022-e64d39f169db"
      },
      "source": [
        "#visualisasi hasil\n",
        "class_names = ytarget\n",
        "np.set_printoptions(precision=2)\n",
        "\n",
        "#plot non-normalized confusion matrix\n",
        "plot_confusion_matrix(y_test, prediction, classes=class_names,\n",
        "                      title='Confusion matrix, without normalization')\n",
        "\n",
        "#Plot normalized confusion matrix\n",
        "plot_confusion_matrix(y_test, prediction, classes=class_names, normalize=True,\n",
        "                      title='Normalized Confusion matrix')\n",
        "\n",
        "plt.show()"
      ],
      "execution_count": null,
      "outputs": [
        {
          "output_type": "stream",
          "text": [
            "Confusion Matrix, without normalization\n",
            "[[1165   17]\n",
            " [ 152   23]]\n",
            "Normalized Confusion Matrix\n",
            "[[0.99 0.01]\n",
            " [0.87 0.13]]\n"
          ],
          "name": "stdout"
        },
        {
          "output_type": "display_data",
          "data": {
            "image/png": "[encoded data removed]",
            "text/plain": [
              "<Figure size 432x288 with 1 Axes>"
            ]
          },
          "metadata": {
            "tags": [],
            "needs_background": "light"
          }
        },
        {
          "output_type": "display_data",
          "data": {
            "image/png": "[encoded data removed]",
            "text/plain": [
              "<Figure size 432x288 with 1 Axes>"
            ]
          },
          "metadata": {
            "tags": [],
            "needs_background": "light"
          }
        }
      ]
    }
  ]
}