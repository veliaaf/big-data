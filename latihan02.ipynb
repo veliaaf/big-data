{
  "nbformat": 4,
  "nbformat_minor": 0,
  "metadata": {
    "colab": {
      "name": "Untitled2.ipynb",
      "provenance": [],
      "collapsed_sections": [],
      "authorship_tag": "ABX9TyMyTJ4iycMW6j0cVaOBlJhh",
      "include_colab_link": true
    },
    "kernelspec": {
      "name": "python3",
      "display_name": "Python 3"
    },
    "language_info": {
      "name": "python"
    }
  },
  "cells": [
    {
      "cell_type": "markdown",
      "metadata": {
        "id": "view-in-github",
        "colab_type": "text"
      },
      "source": [
        "<a href=\"https://colab.research.google.com/github/veliaaf/big-data/blob/main/latihan02.ipynb\" target=\"_parent\"><img src=\"https://colab.research.google.com/assets/colab-badge.svg\" alt=\"Open In Colab\"/></a>"
      ]
    },
    {
      "cell_type": "markdown",
      "metadata": {
        "id": "1VXY1onBlaei"
      },
      "source": [
        "**Numpy**\n",
        "---\n",
        "Import Numpy dan mengecek versi dari package numpy tersebut dengan cara :\n"
      ]
    },
    {
      "cell_type": "code",
      "metadata": {
        "colab": {
          "base_uri": "https://localhost:8080/",
          "height": 35
        },
        "id": "jjbvJv9bla-j",
        "outputId": "77a78e36-d471-4da5-9b2a-e11d2a94371e"
      },
      "source": [
        "import numpy\n",
        "numpy.__version__"
      ],
      "execution_count": 3,
      "outputs": [
        {
          "output_type": "execute_result",
          "data": {
            "application/vnd.google.colaboratory.intrinsic+json": {
              "type": "string"
            },
            "text/plain": [
              "'1.19.5'"
            ]
          },
          "metadata": {
            "tags": []
          },
          "execution_count": 3
        }
      ]
    },
    {
      "cell_type": "code",
      "metadata": {
        "id": "jV1FFN9inBHp"
      },
      "source": [
        "import numpy as np"
      ],
      "execution_count": 4,
      "outputs": []
    },
    {
      "cell_type": "markdown",
      "metadata": {
        "id": "32e6iry1nIZG"
      },
      "source": [
        "**Understanding Data Types in Python** \n",
        "\n",
        "---\n",
        "Kode dalam python dilakukan seperti dibawah ini\n"
      ]
    },
    {
      "cell_type": "code",
      "metadata": {
        "id": "YJrIs0YnnMQ9"
      },
      "source": [
        "result = 0\n",
        "for i in range(100):\n",
        "    result +=i"
      ],
      "execution_count": 11,
      "outputs": []
    },
    {
      "cell_type": "code",
      "metadata": {
        "id": "SGPA1yKIoliq"
      },
      "source": [
        "x=4\n",
        "x=\"four\""
      ],
      "execution_count": 8,
      "outputs": []
    },
    {
      "cell_type": "markdown",
      "metadata": {
        "id": "n_iqM2T-omoV"
      },
      "source": [
        "**List pada Python**\n",
        "---\n",
        "yang pertama itu list pada integer"
      ]
    },
    {
      "cell_type": "code",
      "metadata": {
        "colab": {
          "base_uri": "https://localhost:8080/"
        },
        "id": "K9Tki9mWo0XY",
        "outputId": "2e255b64-e161-43eb-f3a7-0b3bf7a9253b"
      },
      "source": [
        "L = list(range(10))\n",
        "L"
      ],
      "execution_count": 14,
      "outputs": [
        {
          "output_type": "execute_result",
          "data": {
            "text/plain": [
              "[0, 1, 2, 3, 4, 5, 6, 7, 8, 9]"
            ]
          },
          "metadata": {
            "tags": []
          },
          "execution_count": 14
        }
      ]
    },
    {
      "cell_type": "code",
      "metadata": {
        "colab": {
          "base_uri": "https://localhost:8080/"
        },
        "id": "MTtrF3_7pMnB",
        "outputId": "40b3a892-9ea3-498e-f517-117ee3cdd4f7"
      },
      "source": [
        "type(L[0])"
      ],
      "execution_count": 16,
      "outputs": [
        {
          "output_type": "execute_result",
          "data": {
            "text/plain": [
              "int"
            ]
          },
          "metadata": {
            "tags": []
          },
          "execution_count": 16
        }
      ]
    },
    {
      "cell_type": "markdown",
      "metadata": {
        "id": "g_rUesp4qFku"
      },
      "source": [
        "yang kedua list dari string"
      ]
    },
    {
      "cell_type": "code",
      "metadata": {
        "colab": {
          "base_uri": "https://localhost:8080/"
        },
        "id": "GPMHd-rSqIyi",
        "outputId": "e678c6d7-bd2f-4e13-82d4-59b3d1e37550"
      },
      "source": [
        "L2 = [str(c) for c in L]\n",
        "L2"
      ],
      "execution_count": 15,
      "outputs": [
        {
          "output_type": "execute_result",
          "data": {
            "text/plain": [
              "['0', '1', '2', '3', '4', '5', '6', '7', '8', '9']"
            ]
          },
          "metadata": {
            "tags": []
          },
          "execution_count": 15
        }
      ]
    },
    {
      "cell_type": "code",
      "metadata": {
        "colab": {
          "base_uri": "https://localhost:8080/"
        },
        "id": "C0J7cXk0qToy",
        "outputId": "d93642cb-e162-4916-b510-85ed86f89943"
      },
      "source": [
        "type(L2[0])"
      ],
      "execution_count": 17,
      "outputs": [
        {
          "output_type": "execute_result",
          "data": {
            "text/plain": [
              "str"
            ]
          },
          "metadata": {
            "tags": []
          },
          "execution_count": 17
        }
      ]
    },
    {
      "cell_type": "markdown",
      "metadata": {
        "id": "k96gOgyMqZrg"
      },
      "source": [
        "yang ketiga, dapat menampilkan jenis list tersebut."
      ]
    },
    {
      "cell_type": "code",
      "metadata": {
        "colab": {
          "base_uri": "https://localhost:8080/"
        },
        "id": "NYbPZcm6qgHq",
        "outputId": "c23fbd81-943a-4775-f469-77074413225e"
      },
      "source": [
        "L3 = [True, \"2\", 3.0, 4]\n",
        "[type(item) for item in L3]"
      ],
      "execution_count": 19,
      "outputs": [
        {
          "output_type": "execute_result",
          "data": {
            "text/plain": [
              "[bool, str, float, int]"
            ]
          },
          "metadata": {
            "tags": []
          },
          "execution_count": 19
        }
      ]
    },
    {
      "cell_type": "markdown",
      "metadata": {
        "id": "ALRIU1T0qqZr"
      },
      "source": [
        "**Fixed Type Array in Python**\n",
        "\n",
        "---\n",
        "Tipe data array bawaan yaitu seperti di bawah ini:\n"
      ]
    },
    {
      "cell_type": "code",
      "metadata": {
        "colab": {
          "base_uri": "https://localhost:8080/"
        },
        "id": "X-yeTapRqt8U",
        "outputId": "4d2b79ab-35c1-4ff4-8cdb-863587bcac26"
      },
      "source": [
        "import array\n",
        "L = list(range(10))\n",
        "A = array.array('i', L)\n",
        "A"
      ],
      "execution_count": 20,
      "outputs": [
        {
          "output_type": "execute_result",
          "data": {
            "text/plain": [
              "array('i', [0, 1, 2, 3, 4, 5, 6, 7, 8, 9])"
            ]
          },
          "metadata": {
            "tags": []
          },
          "execution_count": 20
        }
      ]
    },
    {
      "cell_type": "markdown",
      "metadata": {
        "id": "8tvm4hkyriTb"
      },
      "source": [
        "Creating Array from Python Lists"
      ]
    },
    {
      "cell_type": "code",
      "metadata": {
        "colab": {
          "base_uri": "https://localhost:8080/"
        },
        "id": "UgObYkyCrlxT",
        "outputId": "475e55ca-9dce-4c44-e982-bce69169e616"
      },
      "source": [
        "import numpy as np\n",
        "np.array([1, 4, 2, 5, 3])\n"
      ],
      "execution_count": 25,
      "outputs": [
        {
          "output_type": "execute_result",
          "data": {
            "text/plain": [
              "array([1, 4, 2, 5, 3])"
            ]
          },
          "metadata": {
            "tags": []
          },
          "execution_count": 25
        }
      ]
    },
    {
      "cell_type": "markdown",
      "metadata": {
        "id": "JJS6PLp9sUyg"
      },
      "source": [
        "Jika terdapat tipe data yang berbeda dalam satu list, maka akan disamakan semuanya seperti contoh di bawah ini disamakan ke tipe data float"
      ]
    },
    {
      "cell_type": "code",
      "metadata": {
        "colab": {
          "base_uri": "https://localhost:8080/"
        },
        "id": "yAtOWUCVr3HL",
        "outputId": "885ab0fd-9f7b-499c-a543-e4cd445f01ce"
      },
      "source": [
        "np.array([3.14, 4, 2, 3])"
      ],
      "execution_count": 23,
      "outputs": [
        {
          "output_type": "execute_result",
          "data": {
            "text/plain": [
              "array([3.14, 4.  , 2.  , 3.  ])"
            ]
          },
          "metadata": {
            "tags": []
          },
          "execution_count": 23
        }
      ]
    },
    {
      "cell_type": "markdown",
      "metadata": {
        "id": "uSNq7yp3siDj"
      },
      "source": [
        "Jika kita ingin secara eksplisit mengatur tipe data dari larik yang dihasilkan, kita dapat menggunakan dtype dengan kata kunci:"
      ]
    },
    {
      "cell_type": "code",
      "metadata": {
        "colab": {
          "base_uri": "https://localhost:8080/"
        },
        "id": "n2gSuonssAGH",
        "outputId": "fb9878da-0aef-452d-a18f-3650788517d4"
      },
      "source": [
        "np.array([1, 2, 3, 4], dtype='float32')"
      ],
      "execution_count": 24,
      "outputs": [
        {
          "output_type": "execute_result",
          "data": {
            "text/plain": [
              "array([1., 2., 3., 4.], dtype=float32)"
            ]
          },
          "metadata": {
            "tags": []
          },
          "execution_count": 24
        }
      ]
    },
    {
      "cell_type": "markdown",
      "metadata": {
        "id": "DNbiI_gbs1Ob"
      },
      "source": [
        "Tidak seperti daftar Python, array NumPy dapat secara eksplisit multidimensi; ini dia salah satu cara untuk menginisialisasi array multidimensi menggunakan list:"
      ]
    },
    {
      "cell_type": "code",
      "metadata": {
        "colab": {
          "base_uri": "https://localhost:8080/"
        },
        "id": "JwX_-BSBtbPt",
        "outputId": "75792bc2-20fd-4c33-f47a-dcf9011ac0e2"
      },
      "source": [
        "#nested lists result in multidimensional arrays\n",
        "np.array([range(i, i + 3) for i in [2, 4, 6]])"
      ],
      "execution_count": 26,
      "outputs": [
        {
          "output_type": "execute_result",
          "data": {
            "text/plain": [
              "array([[2, 3, 4],\n",
              "       [4, 5, 6],\n",
              "       [6, 7, 8]])"
            ]
          },
          "metadata": {
            "tags": []
          },
          "execution_count": 26
        }
      ]
    },
    {
      "cell_type": "markdown",
      "metadata": {
        "id": "wsdek7A7tiRS"
      },
      "source": [
        "**Creating Array from Scratch**\n",
        "\n",
        "---\n",
        "Khusus untuk larik yang lebih besar, akan lebih efisien untuk membuat larik dari awal menggunakan rutinitas dibangun ke dalam NumPy. Berikut beberapa contohnya:\n"
      ]
    },
    {
      "cell_type": "code",
      "metadata": {
        "colab": {
          "base_uri": "https://localhost:8080/"
        },
        "id": "tCz9wZL3toUx",
        "outputId": "dc0d9f46-b4b2-4c7a-d730-92ee27c4a113"
      },
      "source": [
        "# Create a length-10 integer array filled with zeros\n",
        "np.zeros(10, dtype=int)"
      ],
      "execution_count": 27,
      "outputs": [
        {
          "output_type": "execute_result",
          "data": {
            "text/plain": [
              "array([0, 0, 0, 0, 0, 0, 0, 0, 0, 0])"
            ]
          },
          "metadata": {
            "tags": []
          },
          "execution_count": 27
        }
      ]
    },
    {
      "cell_type": "code",
      "metadata": {
        "colab": {
          "base_uri": "https://localhost:8080/"
        },
        "id": "e6ELxTtTt0aT",
        "outputId": "93d2d82f-8724-47d2-cd82-a63e88609815"
      },
      "source": [
        "#Create a 3x5 floating-point array filled with 1s\n",
        "np.ones((3, 5), dtype=float)"
      ],
      "execution_count": 29,
      "outputs": [
        {
          "output_type": "execute_result",
          "data": {
            "text/plain": [
              "array([[1., 1., 1., 1., 1.],\n",
              "       [1., 1., 1., 1., 1.],\n",
              "       [1., 1., 1., 1., 1.]])"
            ]
          },
          "metadata": {
            "tags": []
          },
          "execution_count": 29
        }
      ]
    },
    {
      "cell_type": "code",
      "metadata": {
        "colab": {
          "base_uri": "https://localhost:8080/"
        },
        "id": "jv_jbNK-t4kD",
        "outputId": "7da793cf-ba28-4e70-c4ac-1cdd415c6a52"
      },
      "source": [
        "# Create a 3x5 array filled with 3.14\n",
        "np.full((3, 5), 3.14)"
      ],
      "execution_count": 30,
      "outputs": [
        {
          "output_type": "execute_result",
          "data": {
            "text/plain": [
              "array([[3.14, 3.14, 3.14, 3.14, 3.14],\n",
              "       [3.14, 3.14, 3.14, 3.14, 3.14],\n",
              "       [3.14, 3.14, 3.14, 3.14, 3.14]])"
            ]
          },
          "metadata": {
            "tags": []
          },
          "execution_count": 30
        }
      ]
    },
    {
      "cell_type": "code",
      "metadata": {
        "colab": {
          "base_uri": "https://localhost:8080/"
        },
        "id": "mPPGe_Pst69Q",
        "outputId": "8481a335-ab26-436d-e708-41a5396b5921"
      },
      "source": [
        "# Create an array filled with a linear sequence\n",
        "# Starting at 0, ending at 20, stepping by 2\n",
        "# (this is similar to the built-in range() function)\n",
        "np.arange(0, 20, 2)"
      ],
      "execution_count": 31,
      "outputs": [
        {
          "output_type": "execute_result",
          "data": {
            "text/plain": [
              "array([ 0,  2,  4,  6,  8, 10, 12, 14, 16, 18])"
            ]
          },
          "metadata": {
            "tags": []
          },
          "execution_count": 31
        }
      ]
    },
    {
      "cell_type": "code",
      "metadata": {
        "colab": {
          "base_uri": "https://localhost:8080/"
        },
        "id": "QrQAllzit-zV",
        "outputId": "f76a018c-46f0-4f69-db7b-238ebd380b7f"
      },
      "source": [
        "# Create an array of five values evenly spaced between 0 and 1\n",
        "np.linspace(0, 1, 5)"
      ],
      "execution_count": 32,
      "outputs": [
        {
          "output_type": "execute_result",
          "data": {
            "text/plain": [
              "array([0.  , 0.25, 0.5 , 0.75, 1.  ])"
            ]
          },
          "metadata": {
            "tags": []
          },
          "execution_count": 32
        }
      ]
    },
    {
      "cell_type": "code",
      "metadata": {
        "colab": {
          "base_uri": "https://localhost:8080/"
        },
        "id": "mBdmSaeKuDH1",
        "outputId": "d4dce5dd-bef5-4e50-e2e8-a8aedada9e79"
      },
      "source": [
        "# Create a 3x3 array of uniformly distributed\n",
        "# random values between 0 and 1\n",
        "np.random.random((3, 3))"
      ],
      "execution_count": 33,
      "outputs": [
        {
          "output_type": "execute_result",
          "data": {
            "text/plain": [
              "array([[0.90849028, 0.35079912, 0.60876941],\n",
              "       [0.01109576, 0.58999613, 0.42482657],\n",
              "       [0.82106683, 0.37845371, 0.11786836]])"
            ]
          },
          "metadata": {
            "tags": []
          },
          "execution_count": 33
        }
      ]
    },
    {
      "cell_type": "code",
      "metadata": {
        "colab": {
          "base_uri": "https://localhost:8080/"
        },
        "id": "9Hc4jzvEuXpP",
        "outputId": "cba6eeee-0f4f-411d-c1ce-bfd25a6d7ec5"
      },
      "source": [
        "#Create a 3x3 array of normally distributed random values\n",
        "# with mean 0 and standard deviation 1\n",
        "np.random.normal(0, 1, (3, 3))"
      ],
      "execution_count": 35,
      "outputs": [
        {
          "output_type": "execute_result",
          "data": {
            "text/plain": [
              "array([[ 0.19875192,  1.74950937,  0.93461177],\n",
              "       [-1.70629863,  0.1911192 ,  0.33910293],\n",
              "       [ 0.30694457, -0.04683741,  1.27579969]])"
            ]
          },
          "metadata": {
            "tags": []
          },
          "execution_count": 35
        }
      ]
    },
    {
      "cell_type": "code",
      "metadata": {
        "colab": {
          "base_uri": "https://localhost:8080/"
        },
        "id": "0-Uhuk3tudEG",
        "outputId": "7f1b9704-866c-4306-a353-b16f96593efc"
      },
      "source": [
        "# Create a 3x3 array of random integers in the interval [0, 10)\n",
        "np.random.randint(0, 10, (3, 3))"
      ],
      "execution_count": 36,
      "outputs": [
        {
          "output_type": "execute_result",
          "data": {
            "text/plain": [
              "array([[3, 9, 4],\n",
              "       [0, 2, 0],\n",
              "       [3, 0, 7]])"
            ]
          },
          "metadata": {
            "tags": []
          },
          "execution_count": 36
        }
      ]
    },
    {
      "cell_type": "code",
      "metadata": {
        "colab": {
          "base_uri": "https://localhost:8080/"
        },
        "id": "MrZ0_YV2ughy",
        "outputId": "f0ce8d02-31ef-4dad-98e6-10adf647882d"
      },
      "source": [
        "# Create a 3x3 identity matrix\n",
        "np.eye(3)"
      ],
      "execution_count": 37,
      "outputs": [
        {
          "output_type": "execute_result",
          "data": {
            "text/plain": [
              "array([[1., 0., 0.],\n",
              "       [0., 1., 0.],\n",
              "       [0., 0., 1.]])"
            ]
          },
          "metadata": {
            "tags": []
          },
          "execution_count": 37
        }
      ]
    },
    {
      "cell_type": "code",
      "metadata": {
        "colab": {
          "base_uri": "https://localhost:8080/"
        },
        "id": "v-gjMF2PujTI",
        "outputId": "dec65114-f909-45aa-ebf1-0049b9df2093"
      },
      "source": [
        "# Create an uninitialized array of three integers\n",
        "# The values will be whatever happens to already exist at that\n",
        "# memory location\n",
        "np.empty(3)"
      ],
      "execution_count": 38,
      "outputs": [
        {
          "output_type": "execute_result",
          "data": {
            "text/plain": [
              "array([1., 1., 1.])"
            ]
          },
          "metadata": {
            "tags": []
          },
          "execution_count": 38
        }
      ]
    },
    {
      "cell_type": "markdown",
      "metadata": {
        "id": "HslD7G3WyK5o"
      },
      "source": [
        "**Numpy Array Attributes**\n",
        "\n",
        "---\n",
        "\n",
        "Pertama mari kita bahas beberapa atribut array yang berguna. Kami akan mulai dengan mendefinisikan tiga secara acak array: array satu dimensi, dua dimensi, dan tiga dimensi. Kami akan menggunakan Generator nomor acak NumPy, yang akan kita seed dengan nilai yang ditetapkan untuk pastikan bahwa array acak yang sama dibuat setiap kali kode ini dijalankan:"
      ]
    },
    {
      "cell_type": "code",
      "metadata": {
        "colab": {
          "base_uri": "https://localhost:8080/"
        },
        "id": "AJnB1Tr0umqq",
        "outputId": "9e9d43cb-69d5-499b-de76-975393ed0c87"
      },
      "source": [
        "import numpy as np\n",
        "np.random.seed(0) # seed for reproducibility\n",
        "x1 = np.random.randint(10, size=6) # One-dimensional array\n",
        "x2 = np.random.randint(10, size=(3, 4)) # Two-dimensional array\n",
        "x3 = np.random.randint(10, size=(3, 4, 5)) # Three-dimensional array\n",
        "print(\"X1 : \", x1)\n",
        "print(\"X2 : \", x2)\n",
        "print(\"x3 :\", x3)"
      ],
      "execution_count": 44,
      "outputs": [
        {
          "output_type": "stream",
          "text": [
            "X1 :  [5 0 3 3 7 9]\n",
            "X2 :  [[3 5 2 4]\n",
            " [7 6 8 8]\n",
            " [1 6 7 7]]\n",
            "x3 : [[[8 1 5 9 8]\n",
            "  [9 4 3 0 3]\n",
            "  [5 0 2 3 8]\n",
            "  [1 3 3 3 7]]\n",
            "\n",
            " [[0 1 9 9 0]\n",
            "  [4 7 3 2 7]\n",
            "  [2 0 0 4 5]\n",
            "  [5 6 8 4 1]]\n",
            "\n",
            " [[4 9 8 1 1]\n",
            "  [7 9 9 3 6]\n",
            "  [7 2 0 3 5]\n",
            "  [9 4 4 6 4]]]\n"
          ],
          "name": "stdout"
        }
      ]
    },
    {
      "cell_type": "markdown",
      "metadata": {
        "id": "NkzejII9zSOn"
      },
      "source": [
        "Setiap larik memiliki atribut ndim (jumlah dimensi), shape (bentuk masing-masing dimensi), dan size (ukuran total larik). Atribut lain termasuk ukuran item, yang mencantumkan ukuran (dalam byte) dari setiap elemen array,\n",
        "dan nbytes, yang mencantumkan ukuran total (dalam byte) dari array:"
      ]
    },
    {
      "cell_type": "code",
      "metadata": {
        "colab": {
          "base_uri": "https://localhost:8080/"
        },
        "id": "Dce_bN1lzDcv",
        "outputId": "48576041-d849-40e1-b58c-a4eed102b37f"
      },
      "source": [
        "print(\"x3 ndim: \", x3.ndim)\n",
        "print(\"x3 shape:\", x3.shape)\n",
        "print(\"x3 size: \", x3.size)\n",
        "print(\"dtype:\", x3.dtype)\n",
        "print(\"itemsize:\", x3.itemsize, \"bytes\")\n",
        "print(\"nbytes:\", x3.nbytes, \"bytes\")"
      ],
      "execution_count": 47,
      "outputs": [
        {
          "output_type": "stream",
          "text": [
            "x3 ndim:  3\n",
            "x3 shape: (3, 4, 5)\n",
            "x3 size:  60\n",
            "dtype: int64\n",
            "itemsize: 8 bytes\n",
            "nbytes: 480 bytes\n"
          ],
          "name": "stdout"
        }
      ]
    },
    {
      "cell_type": "markdown",
      "metadata": {
        "id": "vUKDJOtLzpM4"
      },
      "source": [
        "**Array Indexing: Accessing Single Elements**\n",
        "\n",
        "---\n",
        "Jika Anda terbiasa dengan pengindeksan list standar Python, pengindeksan di NumPy akan terasa cukup familiar. Dalam larik satu dimensi, Anda dapat mengakses nilai ke-i (dihitung dari nol) dengan menentukan indeks yang diinginkan dalam tanda kurung siku, seperti dengan list Python:"
      ]
    },
    {
      "cell_type": "code",
      "metadata": {
        "colab": {
          "base_uri": "https://localhost:8080/"
        },
        "id": "c4au6P3wzt6v",
        "outputId": "f5b529a3-cea2-445a-962c-0ff834cab562"
      },
      "source": [
        "x1"
      ],
      "execution_count": 48,
      "outputs": [
        {
          "output_type": "execute_result",
          "data": {
            "text/plain": [
              "array([5, 0, 3, 3, 7, 9])"
            ]
          },
          "metadata": {
            "tags": []
          },
          "execution_count": 48
        }
      ]
    },
    {
      "cell_type": "code",
      "metadata": {
        "colab": {
          "base_uri": "https://localhost:8080/"
        },
        "id": "ta5LG-45z-fN",
        "outputId": "9621cf3c-9f5b-4fba-d6f4-8dde896cea02"
      },
      "source": [
        "x1[0]"
      ],
      "execution_count": 49,
      "outputs": [
        {
          "output_type": "execute_result",
          "data": {
            "text/plain": [
              "5"
            ]
          },
          "metadata": {
            "tags": []
          },
          "execution_count": 49
        }
      ]
    },
    {
      "cell_type": "code",
      "metadata": {
        "colab": {
          "base_uri": "https://localhost:8080/"
        },
        "id": "qczp0R9w0BD2",
        "outputId": "3c63265e-b89e-4813-8f15-c0aa998b4191"
      },
      "source": [
        "x1[4]"
      ],
      "execution_count": 50,
      "outputs": [
        {
          "output_type": "execute_result",
          "data": {
            "text/plain": [
              "7"
            ]
          },
          "metadata": {
            "tags": []
          },
          "execution_count": 50
        }
      ]
    },
    {
      "cell_type": "markdown",
      "metadata": {
        "id": "zV6uhOsU0IZo"
      },
      "source": [
        "Untuk mengindeks dari akhir larik, Anda dapat menggunakan indeks negatif:"
      ]
    },
    {
      "cell_type": "code",
      "metadata": {
        "colab": {
          "base_uri": "https://localhost:8080/"
        },
        "id": "H2_AGirs0JJl",
        "outputId": "64d75f32-57c3-41a6-9b78-c091f39c2d3d"
      },
      "source": [
        "x1[-1]"
      ],
      "execution_count": 53,
      "outputs": [
        {
          "output_type": "execute_result",
          "data": {
            "text/plain": [
              "9"
            ]
          },
          "metadata": {
            "tags": []
          },
          "execution_count": 53
        }
      ]
    },
    {
      "cell_type": "markdown",
      "metadata": {
        "id": "Cch5MAxP0VVd"
      },
      "source": [
        "Dalam larik multidimensi, Anda mengakses item menggunakan tupel yang dipisahkan koma dari\n",
        "indeks:"
      ]
    },
    {
      "cell_type": "code",
      "metadata": {
        "colab": {
          "base_uri": "https://localhost:8080/"
        },
        "id": "bYDdh4ks0WWl",
        "outputId": "66aced2e-9b81-4b70-a10a-156767d20e26"
      },
      "source": [
        "x2"
      ],
      "execution_count": 54,
      "outputs": [
        {
          "output_type": "execute_result",
          "data": {
            "text/plain": [
              "array([[3, 5, 2, 4],\n",
              "       [7, 6, 8, 8],\n",
              "       [1, 6, 7, 7]])"
            ]
          },
          "metadata": {
            "tags": []
          },
          "execution_count": 54
        }
      ]
    },
    {
      "cell_type": "code",
      "metadata": {
        "colab": {
          "base_uri": "https://localhost:8080/"
        },
        "id": "InjvIzII0ale",
        "outputId": "02a7ae89-255a-4c1f-8946-fb9d5b508476"
      },
      "source": [
        "x2[0, 0]"
      ],
      "execution_count": 55,
      "outputs": [
        {
          "output_type": "execute_result",
          "data": {
            "text/plain": [
              "3"
            ]
          },
          "metadata": {
            "tags": []
          },
          "execution_count": 55
        }
      ]
    },
    {
      "cell_type": "code",
      "metadata": {
        "colab": {
          "base_uri": "https://localhost:8080/"
        },
        "id": "Z0HoYAIm0ea2",
        "outputId": "e220def7-123f-41b2-bc25-befddc06c1fe"
      },
      "source": [
        "x2[2, -1]"
      ],
      "execution_count": 56,
      "outputs": [
        {
          "output_type": "execute_result",
          "data": {
            "text/plain": [
              "7"
            ]
          },
          "metadata": {
            "tags": []
          },
          "execution_count": 56
        }
      ]
    },
    {
      "cell_type": "markdown",
      "metadata": {
        "id": "5SX8XLv10kyg"
      },
      "source": [
        "Anda juga dapat mengubah nilai menggunakan salah satu notasi indeks di atas:"
      ]
    },
    {
      "cell_type": "code",
      "metadata": {
        "colab": {
          "base_uri": "https://localhost:8080/"
        },
        "id": "c3gKTyG40lda",
        "outputId": "7bc2296f-b405-42da-8a7d-85aa8343cead"
      },
      "source": [
        "x2[0, 0] = 12\n",
        "x2"
      ],
      "execution_count": 57,
      "outputs": [
        {
          "output_type": "execute_result",
          "data": {
            "text/plain": [
              "array([[12,  5,  2,  4],\n",
              "       [ 7,  6,  8,  8],\n",
              "       [ 1,  6,  7,  7]])"
            ]
          },
          "metadata": {
            "tags": []
          },
          "execution_count": 57
        }
      ]
    },
    {
      "cell_type": "markdown",
      "metadata": {
        "id": "ZSoSB2ds0uYg"
      },
      "source": [
        "**Array Slicing: Accessing Subarrays**\n",
        "\n",
        "---\n",
        "\n",
        "Sama seperti kita dapat menggunakan tanda kurung siku untuk mengakses elemen array individu, kita juga dapat menggunakan\n",
        "mereka untuk mengakses subarray dengan notasi irisan, ditandai dengan karakter titik dua (:).\n",
        "Sintaks pemotongan NumPy mengikuti yang ada pada daftar Python standar; untuk mengakses sepotong\n",
        "sebuah array x, gunakan ini:\n",
        "x [mulai: berhenti: langkah]\n",
        "Jika salah satu dari ini tidak ditentukan, nilai default-nya adalah start = 0, stop = size of\n",
        "dimensi, langkah = 1. Kita akan melihat cara mengakses subarray dalam satu dimensi dan dalam\n",
        "berbagai dimensi.\n",
        "\n",
        "---\n",
        "One-dimensional subarrays\n"
      ]
    },
    {
      "cell_type": "code",
      "metadata": {
        "colab": {
          "base_uri": "https://localhost:8080/"
        },
        "id": "repQYZVO1O6Q",
        "outputId": "7732ec54-6161-42d8-8095-96e90f81fcb6"
      },
      "source": [
        "x = np.arange(10)\n",
        "x"
      ],
      "execution_count": 58,
      "outputs": [
        {
          "output_type": "execute_result",
          "data": {
            "text/plain": [
              "array([0, 1, 2, 3, 4, 5, 6, 7, 8, 9])"
            ]
          },
          "metadata": {
            "tags": []
          },
          "execution_count": 58
        }
      ]
    },
    {
      "cell_type": "code",
      "metadata": {
        "colab": {
          "base_uri": "https://localhost:8080/"
        },
        "id": "-Nl3RcrO0wUc",
        "outputId": "b1ae40b0-0934-41ab-873c-2bb4f19b06c2"
      },
      "source": [
        "x[:5] # first five elements"
      ],
      "execution_count": 59,
      "outputs": [
        {
          "output_type": "execute_result",
          "data": {
            "text/plain": [
              "array([0, 1, 2, 3, 4])"
            ]
          },
          "metadata": {
            "tags": []
          },
          "execution_count": 59
        }
      ]
    },
    {
      "cell_type": "code",
      "metadata": {
        "colab": {
          "base_uri": "https://localhost:8080/"
        },
        "id": "CPH1-Die1V5E",
        "outputId": "aa3a00f7-e94c-42e4-dcab-ed2c0832fdd6"
      },
      "source": [
        "x[4:7] # middle subarray"
      ],
      "execution_count": 60,
      "outputs": [
        {
          "output_type": "execute_result",
          "data": {
            "text/plain": [
              "array([4, 5, 6])"
            ]
          },
          "metadata": {
            "tags": []
          },
          "execution_count": 60
        }
      ]
    },
    {
      "cell_type": "code",
      "metadata": {
        "colab": {
          "base_uri": "https://localhost:8080/"
        },
        "id": "8H59r05S1b8r",
        "outputId": "b9a674fa-0402-431e-b7e3-9bf29a4f4b06"
      },
      "source": [
        "x[::2] # every other element"
      ],
      "execution_count": 61,
      "outputs": [
        {
          "output_type": "execute_result",
          "data": {
            "text/plain": [
              "array([0, 2, 4, 6, 8])"
            ]
          },
          "metadata": {
            "tags": []
          },
          "execution_count": 61
        }
      ]
    },
    {
      "cell_type": "code",
      "metadata": {
        "colab": {
          "base_uri": "https://localhost:8080/"
        },
        "id": "_bTmYA6Q1elQ",
        "outputId": "bfc777f9-fe07-4732-8ddc-9562dbe8e074"
      },
      "source": [
        "x[1::2] # every other element, starting at index 1"
      ],
      "execution_count": 62,
      "outputs": [
        {
          "output_type": "execute_result",
          "data": {
            "text/plain": [
              "array([1, 3, 5, 7, 9])"
            ]
          },
          "metadata": {
            "tags": []
          },
          "execution_count": 62
        }
      ]
    },
    {
      "cell_type": "markdown",
      "metadata": {
        "id": "dERhjjgU1lWv"
      },
      "source": [
        "Multidimensional subarrays"
      ]
    },
    {
      "cell_type": "code",
      "metadata": {
        "colab": {
          "base_uri": "https://localhost:8080/"
        },
        "id": "MAxmhSED1oJb",
        "outputId": "31d8eff4-c1e3-4d61-dede-db8c50477eb4"
      },
      "source": [
        "x2"
      ],
      "execution_count": 63,
      "outputs": [
        {
          "output_type": "execute_result",
          "data": {
            "text/plain": [
              "array([[12,  5,  2,  4],\n",
              "       [ 7,  6,  8,  8],\n",
              "       [ 1,  6,  7,  7]])"
            ]
          },
          "metadata": {
            "tags": []
          },
          "execution_count": 63
        }
      ]
    },
    {
      "cell_type": "code",
      "metadata": {
        "colab": {
          "base_uri": "https://localhost:8080/"
        },
        "id": "7fvNicZx1q92",
        "outputId": "2b4817c5-3c98-495d-a9ad-b162b73039a5"
      },
      "source": [
        "x2[:2, :3] # two rows, three columns"
      ],
      "execution_count": 64,
      "outputs": [
        {
          "output_type": "execute_result",
          "data": {
            "text/plain": [
              "array([[12,  5,  2],\n",
              "       [ 7,  6,  8]])"
            ]
          },
          "metadata": {
            "tags": []
          },
          "execution_count": 64
        }
      ]
    },
    {
      "cell_type": "code",
      "metadata": {
        "colab": {
          "base_uri": "https://localhost:8080/"
        },
        "id": "Ecnc8-_T1tzh",
        "outputId": "c4fd8493-0cdd-47c6-ed19-96d6a1839586"
      },
      "source": [
        "x2[:3, ::2] # all rows, every other column"
      ],
      "execution_count": 65,
      "outputs": [
        {
          "output_type": "execute_result",
          "data": {
            "text/plain": [
              "array([[12,  2],\n",
              "       [ 7,  8],\n",
              "       [ 1,  7]])"
            ]
          },
          "metadata": {
            "tags": []
          },
          "execution_count": 65
        }
      ]
    },
    {
      "cell_type": "code",
      "metadata": {
        "colab": {
          "base_uri": "https://localhost:8080/"
        },
        "id": "iqBukNfM1wq8",
        "outputId": "901b45b2-b74e-4dc5-a8d9-b9261e522efe"
      },
      "source": [
        "x2[::-1, ::-1]"
      ],
      "execution_count": 66,
      "outputs": [
        {
          "output_type": "execute_result",
          "data": {
            "text/plain": [
              "array([[ 7,  7,  6,  1],\n",
              "       [ 8,  8,  6,  7],\n",
              "       [ 4,  2,  5, 12]])"
            ]
          },
          "metadata": {
            "tags": []
          },
          "execution_count": 66
        }
      ]
    },
    {
      "cell_type": "markdown",
      "metadata": {
        "id": "m3imByoZ2Daj"
      },
      "source": [
        "**Accressing Arrays rows and columns**\n",
        "\n",
        "---\n",
        "Salah satu rutinitas yang biasanya dibutuhkan adalah mengakses single\n",
        "baris atau kolom dari sebuah larik. Anda dapat melakukan ini dengan menggabungkan pengindeksan dan pemotongan,\n",
        "menggunakan irisan kosong yang ditandai dengan satu titik dua (:):\n"
      ]
    },
    {
      "cell_type": "code",
      "metadata": {
        "colab": {
          "base_uri": "https://localhost:8080/"
        },
        "id": "MQ4kj-AU2K8Z",
        "outputId": "ed6ce561-2b32-4a81-961e-79e67d806599"
      },
      "source": [
        "print(x2[:, 0]) # first column of x2"
      ],
      "execution_count": 67,
      "outputs": [
        {
          "output_type": "stream",
          "text": [
            "[12  7  1]\n"
          ],
          "name": "stdout"
        }
      ]
    },
    {
      "cell_type": "code",
      "metadata": {
        "colab": {
          "base_uri": "https://localhost:8080/"
        },
        "id": "UQL8Jq8j2SP_",
        "outputId": "eed698d1-bf99-46bb-d8f1-bf2591929531"
      },
      "source": [
        "print(x2[0]) # equivalent to x2[0, :]"
      ],
      "execution_count": 68,
      "outputs": [
        {
          "output_type": "stream",
          "text": [
            "[12  5  2  4]\n"
          ],
          "name": "stdout"
        }
      ]
    },
    {
      "cell_type": "markdown",
      "metadata": {
        "id": "yMGuA7HJ2VHI"
      },
      "source": [
        "**Subarrays as no-copy views**\n",
        "\n",
        "---\n",
        "Satu hal penting — dan sangat berguna — untuk diketahui tentang irisan array adalah bahwa mereka\n",
        "mengembalikan tampilan daripada salinan data larik. Ini adalah salah satu area di mana NumPy\n",
        "mengiris array berbeda dari pemotongan daftar Python: dalam daftar, irisan akan menjadi salinan. Pertimbangkan kami\n",
        "larik dua dimensi dari sebelumnya:\n"
      ]
    },
    {
      "cell_type": "code",
      "metadata": {
        "colab": {
          "base_uri": "https://localhost:8080/"
        },
        "id": "UC8aiuNy2ii2",
        "outputId": "262ee1cf-a46d-431c-a2b4-9ef88152d82a"
      },
      "source": [
        "print(x2)"
      ],
      "execution_count": 69,
      "outputs": [
        {
          "output_type": "stream",
          "text": [
            "[[12  5  2  4]\n",
            " [ 7  6  8  8]\n",
            " [ 1  6  7  7]]\n"
          ],
          "name": "stdout"
        }
      ]
    },
    {
      "cell_type": "markdown",
      "metadata": {
        "id": "2fJQSIa_2sRE"
      },
      "source": [
        "Mari kita ekstrak subarray 2x2 dari ini:"
      ]
    },
    {
      "cell_type": "code",
      "metadata": {
        "colab": {
          "base_uri": "https://localhost:8080/"
        },
        "id": "_-KgZ_MV2sy4",
        "outputId": "d3292b05-c9fb-4f91-e87e-17cd6dec3121"
      },
      "source": [
        "x2_sub = x2[:2, :2]\n",
        "print(x2_sub)"
      ],
      "execution_count": 70,
      "outputs": [
        {
          "output_type": "stream",
          "text": [
            "[[12  5]\n",
            " [ 7  6]]\n"
          ],
          "name": "stdout"
        }
      ]
    },
    {
      "cell_type": "markdown",
      "metadata": {
        "id": "sxOBuczg2zk3"
      },
      "source": [
        "Sekarang jika kita memodifikasi sublarik ini, kita akan melihat bahwa larik asli berubah :"
      ]
    },
    {
      "cell_type": "code",
      "metadata": {
        "colab": {
          "base_uri": "https://localhost:8080/"
        },
        "id": "gXDVMQGq21s0",
        "outputId": "f0434e33-abe0-4711-9846-2f3f5921cba5"
      },
      "source": [
        "x2_sub[0, 0] = 99\n",
        "print(x2_sub)"
      ],
      "execution_count": 71,
      "outputs": [
        {
          "output_type": "stream",
          "text": [
            "[[99  5]\n",
            " [ 7  6]]\n"
          ],
          "name": "stdout"
        }
      ]
    },
    {
      "cell_type": "code",
      "metadata": {
        "colab": {
          "base_uri": "https://localhost:8080/"
        },
        "id": "sCJecNdI24aO",
        "outputId": "daf0cfc6-52a0-4334-9261-67638c52a4ca"
      },
      "source": [
        "print(x2)"
      ],
      "execution_count": 72,
      "outputs": [
        {
          "output_type": "stream",
          "text": [
            "[[99  5  2  4]\n",
            " [ 7  6  8  8]\n",
            " [ 1  6  7  7]]\n"
          ],
          "name": "stdout"
        }
      ]
    },
    {
      "cell_type": "markdown",
      "metadata": {
        "id": "EVnH8P6s3BFN"
      },
      "source": [
        "**Creating copies of arrays**\n",
        "\n",
        "---\n",
        "Terlepas dari fitur bagus dari tampilan array, terkadang berguna untuk sebaliknya secara eksplisit\n",
        "salin data dalam array atau subarray. Ini dapat dilakukan paling mudah dengan file\n",
        "copy () metode:\n"
      ]
    },
    {
      "cell_type": "code",
      "metadata": {
        "colab": {
          "base_uri": "https://localhost:8080/"
        },
        "id": "duZYgdB-3Gfk",
        "outputId": "47de210e-62ef-4b49-e2ef-e8e28f4d253a"
      },
      "source": [
        "x2_sub_copy = x2[:2, :2].copy()\n",
        "print(x2_sub_copy)"
      ],
      "execution_count": 73,
      "outputs": [
        {
          "output_type": "stream",
          "text": [
            "[[99  5]\n",
            " [ 7  6]]\n"
          ],
          "name": "stdout"
        }
      ]
    },
    {
      "cell_type": "markdown",
      "metadata": {
        "id": "ulqsDlrk3QyB"
      },
      "source": [
        "Jika sekarang kita memodifikasi subarray ini, maka akan berubah seperti berikut:"
      ]
    },
    {
      "cell_type": "code",
      "metadata": {
        "colab": {
          "base_uri": "https://localhost:8080/"
        },
        "id": "QEsaeOvp3VZX",
        "outputId": "0db6865c-1364-4233-f4e3-43ddc520e216"
      },
      "source": [
        "x2_sub_copy[0, 0] = 42\n",
        "print(x2_sub_copy)"
      ],
      "execution_count": 74,
      "outputs": [
        {
          "output_type": "stream",
          "text": [
            "[[42  5]\n",
            " [ 7  6]]\n"
          ],
          "name": "stdout"
        }
      ]
    },
    {
      "cell_type": "code",
      "metadata": {
        "colab": {
          "base_uri": "https://localhost:8080/"
        },
        "id": "7PFWzGj03Xuc",
        "outputId": "7ee0ff19-d143-4e71-b3a5-f7ca340714e5"
      },
      "source": [
        "print(x2)"
      ],
      "execution_count": 75,
      "outputs": [
        {
          "output_type": "stream",
          "text": [
            "[[99  5  2  4]\n",
            " [ 7  6  8  8]\n",
            " [ 1  6  7  7]]\n"
          ],
          "name": "stdout"
        }
      ]
    },
    {
      "cell_type": "markdown",
      "metadata": {
        "id": "vDgb3QK_3gCO"
      },
      "source": [
        "**Reshaping of Arrays**\n",
        "\n",
        "---\n",
        "Jenis operasi lain yang berguna adalah pembentukan kembali array. Cara paling fleksibel dari\n",
        "melakukan ini dengan metode reshape (). Misalnya, jika Anda ingin memasukkan angka\n",
        "1 hingga 9 dalam kisi 3 × 3, Anda dapat melakukan hal berikut:\n"
      ]
    },
    {
      "cell_type": "code",
      "metadata": {
        "colab": {
          "base_uri": "https://localhost:8080/"
        },
        "id": "WHdsDOFM3j5k",
        "outputId": "ec46ba5d-7e72-4fec-8462-ae862788859a"
      },
      "source": [
        "grid = np.arange(1, 10).reshape((3, 3))\n",
        "print(grid)"
      ],
      "execution_count": 76,
      "outputs": [
        {
          "output_type": "stream",
          "text": [
            "[[1 2 3]\n",
            " [4 5 6]\n",
            " [7 8 9]]\n"
          ],
          "name": "stdout"
        }
      ]
    },
    {
      "cell_type": "code",
      "metadata": {
        "colab": {
          "base_uri": "https://localhost:8080/"
        },
        "id": "ukQt8slr3pN5",
        "outputId": "503a2bda-c696-4584-da5f-289db65fb492"
      },
      "source": [
        "x = np.array([1, 2, 3])\n",
        "# row vector via reshape\n",
        "x.reshape((1, 3))"
      ],
      "execution_count": 77,
      "outputs": [
        {
          "output_type": "execute_result",
          "data": {
            "text/plain": [
              "array([[1, 2, 3]])"
            ]
          },
          "metadata": {
            "tags": []
          },
          "execution_count": 77
        }
      ]
    },
    {
      "cell_type": "code",
      "metadata": {
        "colab": {
          "base_uri": "https://localhost:8080/"
        },
        "id": "UieluPHc3qjh",
        "outputId": "584f1086-adfe-4d8c-a73d-3d878cd6cf93"
      },
      "source": [
        "# row vector via newaxis\n",
        "x[np.newaxis, :]"
      ],
      "execution_count": 78,
      "outputs": [
        {
          "output_type": "execute_result",
          "data": {
            "text/plain": [
              "array([[1, 2, 3]])"
            ]
          },
          "metadata": {
            "tags": []
          },
          "execution_count": 78
        }
      ]
    },
    {
      "cell_type": "code",
      "metadata": {
        "colab": {
          "base_uri": "https://localhost:8080/"
        },
        "id": "JGO69iUC3tU_",
        "outputId": "5ccf5399-383e-4516-d1a2-cef6db741310"
      },
      "source": [
        "#column vector via reshape\n",
        "x.reshape((3, 1))"
      ],
      "execution_count": 80,
      "outputs": [
        {
          "output_type": "execute_result",
          "data": {
            "text/plain": [
              "array([[1],\n",
              "       [2],\n",
              "       [3]])"
            ]
          },
          "metadata": {
            "tags": []
          },
          "execution_count": 80
        }
      ]
    },
    {
      "cell_type": "code",
      "metadata": {
        "colab": {
          "base_uri": "https://localhost:8080/"
        },
        "id": "1_FdqWBJ3yPx",
        "outputId": "7160bb34-a3d6-4684-f767-812589fbdfd4"
      },
      "source": [
        "# column vector via newaxis\n",
        "x[:, np.newaxis]"
      ],
      "execution_count": 81,
      "outputs": [
        {
          "output_type": "execute_result",
          "data": {
            "text/plain": [
              "array([[1],\n",
              "       [2],\n",
              "       [3]])"
            ]
          },
          "metadata": {
            "tags": []
          },
          "execution_count": 81
        }
      ]
    },
    {
      "cell_type": "markdown",
      "metadata": {
        "id": "KYBUf07Q398O"
      },
      "source": [
        "**Array Concatenation and Splitting**\n",
        "\n",
        "---\n",
        "Semua rutinitas sebelumnya bekerja pada array tunggal. Itu juga memungkinkan untuk digabungkan\n",
        "beberapa array menjadi satu, dan sebaliknya membagi satu array menjadi beberapa array.\n",
        "Kami akan melihat operasi tersebut di sini.\n",
        "\n",
        "---\n",
        "**Concatenation of arrays**\n",
        "\n",
        "---\n",
        "\n",
        "Penggabungan, atau penggabungan dua larik di NumPy, dilakukan terutama\n",
        "melalui rutinitas np.concatenate, np.vstack, dan np.hstack. np.concatenate\n",
        "mengambil tupel atau daftar larik sebagai argumen pertamanya, seperti yang bisa kita lihat di sini:\n",
        "\n"
      ]
    },
    {
      "cell_type": "code",
      "metadata": {
        "colab": {
          "base_uri": "https://localhost:8080/"
        },
        "id": "RRdwFLDj4IdP",
        "outputId": "7c7afb13-4840-4811-ebbc-3142b9359ccb"
      },
      "source": [
        "x = np.array([1, 2, 3])\n",
        "y = np.array([3, 2, 1])\n",
        "np.concatenate([x, y])"
      ],
      "execution_count": 82,
      "outputs": [
        {
          "output_type": "execute_result",
          "data": {
            "text/plain": [
              "array([1, 2, 3, 3, 2, 1])"
            ]
          },
          "metadata": {
            "tags": []
          },
          "execution_count": 82
        }
      ]
    },
    {
      "cell_type": "code",
      "metadata": {
        "colab": {
          "base_uri": "https://localhost:8080/"
        },
        "id": "w0unUAZ34Wpm",
        "outputId": "d53395c1-6c51-4202-c51a-c7839f94a6c3"
      },
      "source": [
        "#Anda juga dapat menggabungkan lebih dari dua larik sekaligus:\n",
        "z = [99, 99, 99]\n",
        "print(np.concatenate([x, y, z]))"
      ],
      "execution_count": 83,
      "outputs": [
        {
          "output_type": "stream",
          "text": [
            "[ 1  2  3  3  2  1 99 99 99]\n"
          ],
          "name": "stdout"
        }
      ]
    },
    {
      "cell_type": "code",
      "metadata": {
        "id": "eikxRSKL4iIE"
      },
      "source": [
        "#np.concatenate juga dapat digunakan untuk array dua dimensi:\n",
        "grid = np.array([[1, 2, 3],\n",
        "[4, 5, 6]])"
      ],
      "execution_count": 84,
      "outputs": []
    },
    {
      "cell_type": "code",
      "metadata": {
        "colab": {
          "base_uri": "https://localhost:8080/"
        },
        "id": "WNlIHc6g4mbS",
        "outputId": "50791c10-81ea-4c47-952e-0e4c924011be"
      },
      "source": [
        "# concatenate along the first axis\n",
        "np.concatenate([grid, grid])"
      ],
      "execution_count": 86,
      "outputs": [
        {
          "output_type": "execute_result",
          "data": {
            "text/plain": [
              "array([[1, 2, 3],\n",
              "       [4, 5, 6],\n",
              "       [1, 2, 3],\n",
              "       [4, 5, 6]])"
            ]
          },
          "metadata": {
            "tags": []
          },
          "execution_count": 86
        }
      ]
    },
    {
      "cell_type": "code",
      "metadata": {
        "colab": {
          "base_uri": "https://localhost:8080/"
        },
        "id": "HpCNgSSP4z4f",
        "outputId": "b01e38b0-5698-42d6-8abf-51a88b8e7a56"
      },
      "source": [
        "# concatenate along the second axis (zero-indexed)\n",
        "np.concatenate([grid, grid], axis=1)"
      ],
      "execution_count": 87,
      "outputs": [
        {
          "output_type": "execute_result",
          "data": {
            "text/plain": [
              "array([[1, 2, 3, 1, 2, 3],\n",
              "       [4, 5, 6, 4, 5, 6]])"
            ]
          },
          "metadata": {
            "tags": []
          },
          "execution_count": 87
        }
      ]
    },
    {
      "cell_type": "markdown",
      "metadata": {
        "id": "MeDMtQDx48OX"
      },
      "source": [
        "**Splitting of arrays**\n",
        "\n",
        "---\n",
        "Kebalikan dari penggabungan adalah pemisahan, yang diimplementasikan oleh fungsi\n",
        "np.split, np.hsplit, dan np.vsplit. Untuk masing-masing ini, kita dapat memberikan daftar indeks\n",
        "memberikan poin perpecahan:\n"
      ]
    },
    {
      "cell_type": "code",
      "metadata": {
        "colab": {
          "base_uri": "https://localhost:8080/"
        },
        "id": "LuJWvMfV5ETR",
        "outputId": "d428f423-938a-498a-db97-879ede20f69d"
      },
      "source": [
        "x = [1, 2, 3, 99, 99, 3, 2, 1]\n",
        "x1, x2, x3 = np.split(x, [3, 5])\n",
        "print(x1, x2, x3)"
      ],
      "execution_count": 88,
      "outputs": [
        {
          "output_type": "stream",
          "text": [
            "[1 2 3] [99 99] [3 2 1]\n"
          ],
          "name": "stdout"
        }
      ]
    },
    {
      "cell_type": "code",
      "metadata": {
        "colab": {
          "base_uri": "https://localhost:8080/"
        },
        "id": "vMg2lFs15I9y",
        "outputId": "cb7bc1db-fdf5-4cd6-ac98-7ea127245b03"
      },
      "source": [
        "grid = np.arange(16).reshape((4, 4))\n",
        "grid"
      ],
      "execution_count": 89,
      "outputs": [
        {
          "output_type": "execute_result",
          "data": {
            "text/plain": [
              "array([[ 0,  1,  2,  3],\n",
              "       [ 4,  5,  6,  7],\n",
              "       [ 8,  9, 10, 11],\n",
              "       [12, 13, 14, 15]])"
            ]
          },
          "metadata": {
            "tags": []
          },
          "execution_count": 89
        }
      ]
    },
    {
      "cell_type": "code",
      "metadata": {
        "colab": {
          "base_uri": "https://localhost:8080/"
        },
        "id": "4DhBE_8e5RZc",
        "outputId": "218a49f1-2342-4c9d-dfef-dad4e14f2c26"
      },
      "source": [
        "upper, lower = np.vsplit(grid, [2])\n",
        "print(upper)\n",
        "print(lower)"
      ],
      "execution_count": 90,
      "outputs": [
        {
          "output_type": "stream",
          "text": [
            "[[0 1 2 3]\n",
            " [4 5 6 7]]\n",
            "[[ 8  9 10 11]\n",
            " [12 13 14 15]]\n"
          ],
          "name": "stdout"
        }
      ]
    },
    {
      "cell_type": "code",
      "metadata": {
        "colab": {
          "base_uri": "https://localhost:8080/"
        },
        "id": "lp1LsT-_5Sn0",
        "outputId": "1b6da742-603a-4af3-8959-d531b93fab1e"
      },
      "source": [
        "left, right = np.hsplit(grid, [2])\n",
        "print(left)\n",
        "print(right)"
      ],
      "execution_count": 91,
      "outputs": [
        {
          "output_type": "stream",
          "text": [
            "[[ 0  1]\n",
            " [ 4  5]\n",
            " [ 8  9]\n",
            " [12 13]]\n",
            "[[ 2  3]\n",
            " [ 6  7]\n",
            " [10 11]\n",
            " [14 15]]\n"
          ],
          "name": "stdout"
        }
      ]
    }
  ]
}